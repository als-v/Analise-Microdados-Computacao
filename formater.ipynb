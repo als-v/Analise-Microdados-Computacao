{
 "cells": [
  {
   "cell_type": "code",
   "execution_count": 1,
   "source": [
    "import pandas as pd\n",
    "import os\n",
    "import matplotlib.pyplot as plt"
   ],
   "outputs": [],
   "metadata": {}
  },
  {
   "cell_type": "code",
   "execution_count": 2,
   "source": [
    "enade_df = pd.read_csv('cotas/enade_merge_08-11-14-17.csv',sep=',',decimal='.')"
   ],
   "outputs": [],
   "metadata": {}
  },
  {
   "cell_type": "code",
   "execution_count": 3,
   "source": [
    "enade_df"
   ],
   "outputs": [
    {
     "output_type": "execute_result",
     "data": {
      "text/plain": [
       "         ano    curso nome_curso  uf regiao  codigo_IES categoria_adm_IES  \\\n",
       "0       2008    56172         SI  BA     NE         385       IES privada   \n",
       "1       2008     8913         SI  RS      S         426       IES privada   \n",
       "2       2008    10978         SI  RS      S         532       IES privada   \n",
       "3       2008    20469         SI  PR      S         197       IES privada   \n",
       "4       2008    47985        ADS  SP     SE        1743       IES privada   \n",
       "...      ...      ...        ...  ..    ...         ...               ...   \n",
       "132577  2017  5001211        ADS  SC      S        3295       IES privada   \n",
       "132578  2017  5001211        ADS  SC      S        3295       IES privada   \n",
       "132579  2017  5001211        ADS  SC      S        3295       IES privada   \n",
       "132580  2017  5001284        LCC  SC      S         494       IES privada   \n",
       "132581  2017  5001284        LCC  SC      S         494       IES privada   \n",
       "\n",
       "       organizacao_academica     turno ead_presencial  ...  \\\n",
       "0               Universidade   Noturno  Não-Informado  ...   \n",
       "1       Centro Universitário   Noturno  Não-Informado  ...   \n",
       "2               Universidade   Noturno  Não-Informado  ...   \n",
       "3                  Faculdade   Noturno  Não-Informado  ...   \n",
       "4                  Faculdade   Noturno  Não-Informado  ...   \n",
       "...                      ...       ...            ...  ...   \n",
       "132577             Faculdade    Diurno     Presencial  ...   \n",
       "132578             Faculdade    Diurno     Presencial  ...   \n",
       "132579             Faculdade    Diurno     Presencial  ...   \n",
       "132580          Universidade  Integral            EAD  ...   \n",
       "132581          Universidade  Integral            EAD  ...   \n",
       "\n",
       "          escolaridade_pai    escolaridade_mae  renda_familiar  \\\n",
       "0             Ensino Médio     Ensino Superior              <3   \n",
       "1             Ensino Médio     Ensino Superior            3-10   \n",
       "2       Ensino Fundamental  Ensino Fundamental            3-10   \n",
       "3             Ensino Médio  Ensino Fundamental              <3   \n",
       "4          Ensino Superior  Ensino Fundamental              <3   \n",
       "...                    ...                 ...             ...   \n",
       "132577        Ensino Médio        Ensino Médio              <3   \n",
       "132578     Ensino Superior     Ensino Superior            3-10   \n",
       "132579     Ensino Superior  Ensino Fundamental              <3   \n",
       "132580        Ensino Médio        Ensino Médio              <3   \n",
       "132581  Ensino Fundamental        Ensino Médio              <3   \n",
       "\n",
       "                      cotas  recebeu_cota  bolsa_academica  recebeu_bolsa  \\\n",
       "0                       Não           Não           Nenhum            Não   \n",
       "1                       Não           Não           Nenhum            Não   \n",
       "2                       Não           Não           Nenhum            Não   \n",
       "3       Renda ou EM público           Sim           Nenhum            Não   \n",
       "4                       Não           Não           Nenhum            Não   \n",
       "...                     ...           ...              ...            ...   \n",
       "132577                  Não           Não           Nenhum            Não   \n",
       "132578                Renda           Sim           Nenhum            Não   \n",
       "132579                  Não           Não           Nenhum            Não   \n",
       "132580                  Não           Não           Nenhum            Não   \n",
       "132581                  Não           Não           Nenhum            Não   \n",
       "\n",
       "        trabalha  livros_ano horas_estudo  \n",
       "0            Sim          8+           <3  \n",
       "1            Sim         1/2          3-8  \n",
       "2            Sim         3-5          3-8  \n",
       "3            Sim         1/2          3-8  \n",
       "4            Sim         6-8           8+  \n",
       "...          ...         ...          ...  \n",
       "132577       Não           0           <3  \n",
       "132578       Não          8+           <3  \n",
       "132579       Não         3-5           8+  \n",
       "132580       Não         3-5          3-8  \n",
       "132581       Sim          8+          3-8  \n",
       "\n",
       "[132582 rows x 34 columns]"
      ],
      "text/html": [
       "<div>\n",
       "<style scoped>\n",
       "    .dataframe tbody tr th:only-of-type {\n",
       "        vertical-align: middle;\n",
       "    }\n",
       "\n",
       "    .dataframe tbody tr th {\n",
       "        vertical-align: top;\n",
       "    }\n",
       "\n",
       "    .dataframe thead th {\n",
       "        text-align: right;\n",
       "    }\n",
       "</style>\n",
       "<table border=\"1\" class=\"dataframe\">\n",
       "  <thead>\n",
       "    <tr style=\"text-align: right;\">\n",
       "      <th></th>\n",
       "      <th>ano</th>\n",
       "      <th>curso</th>\n",
       "      <th>nome_curso</th>\n",
       "      <th>uf</th>\n",
       "      <th>regiao</th>\n",
       "      <th>codigo_IES</th>\n",
       "      <th>categoria_adm_IES</th>\n",
       "      <th>organizacao_academica</th>\n",
       "      <th>turno</th>\n",
       "      <th>ead_presencial</th>\n",
       "      <th>...</th>\n",
       "      <th>escolaridade_pai</th>\n",
       "      <th>escolaridade_mae</th>\n",
       "      <th>renda_familiar</th>\n",
       "      <th>cotas</th>\n",
       "      <th>recebeu_cota</th>\n",
       "      <th>bolsa_academica</th>\n",
       "      <th>recebeu_bolsa</th>\n",
       "      <th>trabalha</th>\n",
       "      <th>livros_ano</th>\n",
       "      <th>horas_estudo</th>\n",
       "    </tr>\n",
       "  </thead>\n",
       "  <tbody>\n",
       "    <tr>\n",
       "      <th>0</th>\n",
       "      <td>2008</td>\n",
       "      <td>56172</td>\n",
       "      <td>SI</td>\n",
       "      <td>BA</td>\n",
       "      <td>NE</td>\n",
       "      <td>385</td>\n",
       "      <td>IES privada</td>\n",
       "      <td>Universidade</td>\n",
       "      <td>Noturno</td>\n",
       "      <td>Não-Informado</td>\n",
       "      <td>...</td>\n",
       "      <td>Ensino Médio</td>\n",
       "      <td>Ensino Superior</td>\n",
       "      <td>&lt;3</td>\n",
       "      <td>Não</td>\n",
       "      <td>Não</td>\n",
       "      <td>Nenhum</td>\n",
       "      <td>Não</td>\n",
       "      <td>Sim</td>\n",
       "      <td>8+</td>\n",
       "      <td>&lt;3</td>\n",
       "    </tr>\n",
       "    <tr>\n",
       "      <th>1</th>\n",
       "      <td>2008</td>\n",
       "      <td>8913</td>\n",
       "      <td>SI</td>\n",
       "      <td>RS</td>\n",
       "      <td>S</td>\n",
       "      <td>426</td>\n",
       "      <td>IES privada</td>\n",
       "      <td>Centro Universitário</td>\n",
       "      <td>Noturno</td>\n",
       "      <td>Não-Informado</td>\n",
       "      <td>...</td>\n",
       "      <td>Ensino Médio</td>\n",
       "      <td>Ensino Superior</td>\n",
       "      <td>3-10</td>\n",
       "      <td>Não</td>\n",
       "      <td>Não</td>\n",
       "      <td>Nenhum</td>\n",
       "      <td>Não</td>\n",
       "      <td>Sim</td>\n",
       "      <td>1/2</td>\n",
       "      <td>3-8</td>\n",
       "    </tr>\n",
       "    <tr>\n",
       "      <th>2</th>\n",
       "      <td>2008</td>\n",
       "      <td>10978</td>\n",
       "      <td>SI</td>\n",
       "      <td>RS</td>\n",
       "      <td>S</td>\n",
       "      <td>532</td>\n",
       "      <td>IES privada</td>\n",
       "      <td>Universidade</td>\n",
       "      <td>Noturno</td>\n",
       "      <td>Não-Informado</td>\n",
       "      <td>...</td>\n",
       "      <td>Ensino Fundamental</td>\n",
       "      <td>Ensino Fundamental</td>\n",
       "      <td>3-10</td>\n",
       "      <td>Não</td>\n",
       "      <td>Não</td>\n",
       "      <td>Nenhum</td>\n",
       "      <td>Não</td>\n",
       "      <td>Sim</td>\n",
       "      <td>3-5</td>\n",
       "      <td>3-8</td>\n",
       "    </tr>\n",
       "    <tr>\n",
       "      <th>3</th>\n",
       "      <td>2008</td>\n",
       "      <td>20469</td>\n",
       "      <td>SI</td>\n",
       "      <td>PR</td>\n",
       "      <td>S</td>\n",
       "      <td>197</td>\n",
       "      <td>IES privada</td>\n",
       "      <td>Faculdade</td>\n",
       "      <td>Noturno</td>\n",
       "      <td>Não-Informado</td>\n",
       "      <td>...</td>\n",
       "      <td>Ensino Médio</td>\n",
       "      <td>Ensino Fundamental</td>\n",
       "      <td>&lt;3</td>\n",
       "      <td>Renda ou EM público</td>\n",
       "      <td>Sim</td>\n",
       "      <td>Nenhum</td>\n",
       "      <td>Não</td>\n",
       "      <td>Sim</td>\n",
       "      <td>1/2</td>\n",
       "      <td>3-8</td>\n",
       "    </tr>\n",
       "    <tr>\n",
       "      <th>4</th>\n",
       "      <td>2008</td>\n",
       "      <td>47985</td>\n",
       "      <td>ADS</td>\n",
       "      <td>SP</td>\n",
       "      <td>SE</td>\n",
       "      <td>1743</td>\n",
       "      <td>IES privada</td>\n",
       "      <td>Faculdade</td>\n",
       "      <td>Noturno</td>\n",
       "      <td>Não-Informado</td>\n",
       "      <td>...</td>\n",
       "      <td>Ensino Superior</td>\n",
       "      <td>Ensino Fundamental</td>\n",
       "      <td>&lt;3</td>\n",
       "      <td>Não</td>\n",
       "      <td>Não</td>\n",
       "      <td>Nenhum</td>\n",
       "      <td>Não</td>\n",
       "      <td>Sim</td>\n",
       "      <td>6-8</td>\n",
       "      <td>8+</td>\n",
       "    </tr>\n",
       "    <tr>\n",
       "      <th>...</th>\n",
       "      <td>...</td>\n",
       "      <td>...</td>\n",
       "      <td>...</td>\n",
       "      <td>...</td>\n",
       "      <td>...</td>\n",
       "      <td>...</td>\n",
       "      <td>...</td>\n",
       "      <td>...</td>\n",
       "      <td>...</td>\n",
       "      <td>...</td>\n",
       "      <td>...</td>\n",
       "      <td>...</td>\n",
       "      <td>...</td>\n",
       "      <td>...</td>\n",
       "      <td>...</td>\n",
       "      <td>...</td>\n",
       "      <td>...</td>\n",
       "      <td>...</td>\n",
       "      <td>...</td>\n",
       "      <td>...</td>\n",
       "      <td>...</td>\n",
       "    </tr>\n",
       "    <tr>\n",
       "      <th>132577</th>\n",
       "      <td>2017</td>\n",
       "      <td>5001211</td>\n",
       "      <td>ADS</td>\n",
       "      <td>SC</td>\n",
       "      <td>S</td>\n",
       "      <td>3295</td>\n",
       "      <td>IES privada</td>\n",
       "      <td>Faculdade</td>\n",
       "      <td>Diurno</td>\n",
       "      <td>Presencial</td>\n",
       "      <td>...</td>\n",
       "      <td>Ensino Médio</td>\n",
       "      <td>Ensino Médio</td>\n",
       "      <td>&lt;3</td>\n",
       "      <td>Não</td>\n",
       "      <td>Não</td>\n",
       "      <td>Nenhum</td>\n",
       "      <td>Não</td>\n",
       "      <td>Não</td>\n",
       "      <td>0</td>\n",
       "      <td>&lt;3</td>\n",
       "    </tr>\n",
       "    <tr>\n",
       "      <th>132578</th>\n",
       "      <td>2017</td>\n",
       "      <td>5001211</td>\n",
       "      <td>ADS</td>\n",
       "      <td>SC</td>\n",
       "      <td>S</td>\n",
       "      <td>3295</td>\n",
       "      <td>IES privada</td>\n",
       "      <td>Faculdade</td>\n",
       "      <td>Diurno</td>\n",
       "      <td>Presencial</td>\n",
       "      <td>...</td>\n",
       "      <td>Ensino Superior</td>\n",
       "      <td>Ensino Superior</td>\n",
       "      <td>3-10</td>\n",
       "      <td>Renda</td>\n",
       "      <td>Sim</td>\n",
       "      <td>Nenhum</td>\n",
       "      <td>Não</td>\n",
       "      <td>Não</td>\n",
       "      <td>8+</td>\n",
       "      <td>&lt;3</td>\n",
       "    </tr>\n",
       "    <tr>\n",
       "      <th>132579</th>\n",
       "      <td>2017</td>\n",
       "      <td>5001211</td>\n",
       "      <td>ADS</td>\n",
       "      <td>SC</td>\n",
       "      <td>S</td>\n",
       "      <td>3295</td>\n",
       "      <td>IES privada</td>\n",
       "      <td>Faculdade</td>\n",
       "      <td>Diurno</td>\n",
       "      <td>Presencial</td>\n",
       "      <td>...</td>\n",
       "      <td>Ensino Superior</td>\n",
       "      <td>Ensino Fundamental</td>\n",
       "      <td>&lt;3</td>\n",
       "      <td>Não</td>\n",
       "      <td>Não</td>\n",
       "      <td>Nenhum</td>\n",
       "      <td>Não</td>\n",
       "      <td>Não</td>\n",
       "      <td>3-5</td>\n",
       "      <td>8+</td>\n",
       "    </tr>\n",
       "    <tr>\n",
       "      <th>132580</th>\n",
       "      <td>2017</td>\n",
       "      <td>5001284</td>\n",
       "      <td>LCC</td>\n",
       "      <td>SC</td>\n",
       "      <td>S</td>\n",
       "      <td>494</td>\n",
       "      <td>IES privada</td>\n",
       "      <td>Universidade</td>\n",
       "      <td>Integral</td>\n",
       "      <td>EAD</td>\n",
       "      <td>...</td>\n",
       "      <td>Ensino Médio</td>\n",
       "      <td>Ensino Médio</td>\n",
       "      <td>&lt;3</td>\n",
       "      <td>Não</td>\n",
       "      <td>Não</td>\n",
       "      <td>Nenhum</td>\n",
       "      <td>Não</td>\n",
       "      <td>Não</td>\n",
       "      <td>3-5</td>\n",
       "      <td>3-8</td>\n",
       "    </tr>\n",
       "    <tr>\n",
       "      <th>132581</th>\n",
       "      <td>2017</td>\n",
       "      <td>5001284</td>\n",
       "      <td>LCC</td>\n",
       "      <td>SC</td>\n",
       "      <td>S</td>\n",
       "      <td>494</td>\n",
       "      <td>IES privada</td>\n",
       "      <td>Universidade</td>\n",
       "      <td>Integral</td>\n",
       "      <td>EAD</td>\n",
       "      <td>...</td>\n",
       "      <td>Ensino Fundamental</td>\n",
       "      <td>Ensino Médio</td>\n",
       "      <td>&lt;3</td>\n",
       "      <td>Não</td>\n",
       "      <td>Não</td>\n",
       "      <td>Nenhum</td>\n",
       "      <td>Não</td>\n",
       "      <td>Sim</td>\n",
       "      <td>8+</td>\n",
       "      <td>3-8</td>\n",
       "    </tr>\n",
       "  </tbody>\n",
       "</table>\n",
       "<p>132582 rows × 34 columns</p>\n",
       "</div>"
      ]
     },
     "metadata": {},
     "execution_count": 3
    }
   ],
   "metadata": {}
  },
  {
   "cell_type": "code",
   "execution_count": 4,
   "source": [
    "enade_df.info()"
   ],
   "outputs": [
    {
     "output_type": "stream",
     "name": "stdout",
     "text": [
      "<class 'pandas.core.frame.DataFrame'>\n",
      "RangeIndex: 132582 entries, 0 to 132581\n",
      "Data columns (total 34 columns):\n",
      " #   Column                          Non-Null Count   Dtype  \n",
      "---  ------                          --------------   -----  \n",
      " 0   ano                             132582 non-null  int64  \n",
      " 1   curso                           132582 non-null  int64  \n",
      " 2   nome_curso                      132582 non-null  object \n",
      " 3   uf                              132582 non-null  object \n",
      " 4   regiao                          132582 non-null  object \n",
      " 5   codigo_IES                      132582 non-null  int64  \n",
      " 6   categoria_adm_IES               132582 non-null  object \n",
      " 7   organizacao_academica           132582 non-null  object \n",
      " 8   turno                           132582 non-null  object \n",
      " 9   ead_presencial                  132582 non-null  object \n",
      " 10  nota_geral                      132582 non-null  float64\n",
      " 11  nota_formacao_geral             132582 non-null  float64\n",
      " 12  nota_obj_formacao_geral         132582 non-null  float64\n",
      " 13  nota_dis_formacao_geral         132582 non-null  float64\n",
      " 14  nota_componente_especifico      132582 non-null  float64\n",
      " 15  nota_obj_componente_especifico  132582 non-null  float64\n",
      " 16  nota_dis_componente_especifico  132582 non-null  float64\n",
      " 17  formatura_ensino_medio          132582 non-null  int64  \n",
      " 18  inicio_graduacao                132582 non-null  int64  \n",
      " 19  tipo_ensino_medio               132582 non-null  object \n",
      " 20  idade                           132582 non-null  int64  \n",
      " 21  range_idade                     132582 non-null  object \n",
      " 22  sexo                            132582 non-null  object \n",
      " 23  cor_raca                        132582 non-null  object \n",
      " 24  escolaridade_pai                132582 non-null  object \n",
      " 25  escolaridade_mae                132582 non-null  object \n",
      " 26  renda_familiar                  132582 non-null  object \n",
      " 27  cotas                           132582 non-null  object \n",
      " 28  recebeu_cota                    132582 non-null  object \n",
      " 29  bolsa_academica                 132582 non-null  object \n",
      " 30  recebeu_bolsa                   132582 non-null  object \n",
      " 31  trabalha                        132582 non-null  object \n",
      " 32  livros_ano                      132582 non-null  object \n",
      " 33  horas_estudo                    132582 non-null  object \n",
      "dtypes: float64(7), int64(6), object(21)\n",
      "memory usage: 34.4+ MB\n"
     ]
    }
   ],
   "metadata": {}
  },
  {
   "cell_type": "code",
   "execution_count": 5,
   "source": [
    "enade_df['nome_curso'].unique()"
   ],
   "outputs": [
    {
     "output_type": "execute_result",
     "data": {
      "text/plain": [
       "array(['SI', 'ADS', 'EC', 'BCC', 'RC', 'LCC', 'GTI'], dtype=object)"
      ]
     },
     "metadata": {},
     "execution_count": 5
    }
   ],
   "metadata": {}
  },
  {
   "cell_type": "code",
   "execution_count": 6,
   "source": [
    "enade_df['nome_curso'].replace({'ADS':1, 'RC':2,'EC':3, 'BCC':4,'LCC':5, 'SI':6, 'GTI':7},inplace=True)"
   ],
   "outputs": [],
   "metadata": {}
  },
  {
   "cell_type": "code",
   "execution_count": 7,
   "source": [
    "x=enade_df['uf'].unique()\n",
    "x.sort()\n",
    "x\n"
   ],
   "outputs": [
    {
     "output_type": "execute_result",
     "data": {
      "text/plain": [
       "array(['AC', 'AL', 'AM', 'AP', 'BA', 'CE', 'DF', 'ES', 'GO', 'MA', 'MG',\n",
       "       'MS', 'MT', 'PA', 'PB', 'PE', 'PI', 'PR', 'RJ', 'RN', 'RO', 'RR',\n",
       "       'RS', 'SC', 'SE', 'SP', 'TO'], dtype=object)"
      ]
     },
     "metadata": {},
     "execution_count": 7
    }
   ],
   "metadata": {}
  },
  {
   "cell_type": "code",
   "execution_count": 8,
   "source": [
    "enade_df['uf'].replace({'AC':1, 'AL':2, 'AM':3, 'AP':4, 'BA':5, 'CE':6, 'DF':7, 'ES':8, 'GO':9, 'MA':10, 'MG':11,\n",
    "       'MS':12, 'MT':13, 'PA':14, 'PB':15, 'PE':16, 'PI':17, 'PR':18, 'RJ':19, 'RN':20, 'RO':21, 'RR':22,\n",
    "       'RS':23, 'SC':24, 'SE':25, 'SP':26, 'TO':27},inplace=True)"
   ],
   "outputs": [],
   "metadata": {}
  },
  {
   "cell_type": "code",
   "execution_count": 9,
   "source": [
    "x=enade_df['regiao'].unique()\n",
    "x.sort()\n",
    "x"
   ],
   "outputs": [
    {
     "output_type": "execute_result",
     "data": {
      "text/plain": [
       "array(['CO', 'N', 'NE', 'S', 'SE'], dtype=object)"
      ]
     },
     "metadata": {},
     "execution_count": 9
    }
   ],
   "metadata": {}
  },
  {
   "cell_type": "code",
   "execution_count": 10,
   "source": [
    "enade_df['regiao'].replace({'CO':1, 'N':2, 'NE':3, 'S':4, 'SE':5},inplace=True)"
   ],
   "outputs": [],
   "metadata": {}
  },
  {
   "cell_type": "code",
   "execution_count": 11,
   "source": [
    "x=enade_df['categoria_adm_IES'].unique()\n",
    "x.sort()\n",
    "x"
   ],
   "outputs": [
    {
     "output_type": "execute_result",
     "data": {
      "text/plain": [
       "array(['IES privada', 'IES pública'], dtype=object)"
      ]
     },
     "metadata": {},
     "execution_count": 11
    }
   ],
   "metadata": {}
  },
  {
   "cell_type": "code",
   "execution_count": 12,
   "source": [
    "enade_df['categoria_adm_IES'].replace({'IES privada':1, 'IES pública':2},inplace=True)"
   ],
   "outputs": [],
   "metadata": {}
  },
  {
   "cell_type": "code",
   "execution_count": 13,
   "source": [
    "x=enade_df['organizacao_academica'].unique()\n",
    "x.sort()\n",
    "x"
   ],
   "outputs": [
    {
     "output_type": "execute_result",
     "data": {
      "text/plain": [
       "array(['C.F.E.T', 'Centro Universitário', 'Faculdade', 'I.F.E',\n",
       "       'Instituto Superior', 'Universidade'], dtype=object)"
      ]
     },
     "metadata": {},
     "execution_count": 13
    }
   ],
   "metadata": {}
  },
  {
   "cell_type": "code",
   "execution_count": 14,
   "source": [
    "enade_df['organizacao_academica'].replace({'C.F.E.T':1, 'Centro Universitário':2, 'Faculdade':3, 'I.F.E':4,\n",
    "       'Instituto Superior':5, 'Universidade':6},inplace=True)"
   ],
   "outputs": [],
   "metadata": {}
  },
  {
   "cell_type": "code",
   "execution_count": 15,
   "source": [
    "x=enade_df['turno'].unique()\n",
    "x.sort()\n",
    "x"
   ],
   "outputs": [
    {
     "output_type": "execute_result",
     "data": {
      "text/plain": [
       "array(['Diurno', 'Integral', 'Noturno', 'Não-Informado'], dtype=object)"
      ]
     },
     "metadata": {},
     "execution_count": 15
    }
   ],
   "metadata": {}
  },
  {
   "cell_type": "code",
   "execution_count": 16,
   "source": [
    "enade_df['turno'].replace({'Diurno':1, 'Integral':2, 'Noturno':3, 'Não-Informado':4},inplace=True)"
   ],
   "outputs": [],
   "metadata": {}
  },
  {
   "cell_type": "code",
   "execution_count": 17,
   "source": [
    "x=enade_df['ead_presencial'].unique()\n",
    "x.sort()\n",
    "x"
   ],
   "outputs": [
    {
     "output_type": "execute_result",
     "data": {
      "text/plain": [
       "array(['EAD', 'Não-Informado', 'Presencial'], dtype=object)"
      ]
     },
     "metadata": {},
     "execution_count": 17
    }
   ],
   "metadata": {}
  },
  {
   "cell_type": "code",
   "execution_count": 18,
   "source": [
    "enade_df['ead_presencial'].replace({'EAD':1, 'Não-Informado':2, 'Presencial':3},inplace=True)"
   ],
   "outputs": [],
   "metadata": {}
  },
  {
   "cell_type": "code",
   "execution_count": 19,
   "source": [
    "x=enade_df['tipo_ensino_medio'].unique()\n",
    "x.sort()\n",
    "x"
   ],
   "outputs": [
    {
     "output_type": "execute_result",
     "data": {
      "text/plain": [
       "array(['Exterior', 'Não-Informado', 'Particular', 'Pública'], dtype=object)"
      ]
     },
     "metadata": {},
     "execution_count": 19
    }
   ],
   "metadata": {}
  },
  {
   "cell_type": "code",
   "execution_count": 20,
   "source": [
    "enade_df['tipo_ensino_medio'].replace({'Exterior':1, 'Não-Informado':2, 'Particular':3, 'Pública':4},inplace=True)"
   ],
   "outputs": [],
   "metadata": {}
  },
  {
   "cell_type": "code",
   "execution_count": 21,
   "source": [
    "x=enade_df['sexo'].unique()\n",
    "x.sort()\n",
    "x"
   ],
   "outputs": [
    {
     "output_type": "execute_result",
     "data": {
      "text/plain": [
       "array(['F', 'M'], dtype=object)"
      ]
     },
     "metadata": {},
     "execution_count": 21
    }
   ],
   "metadata": {}
  },
  {
   "cell_type": "code",
   "execution_count": 22,
   "source": [
    "enade_df['sexo'].replace({'F':1, 'M':2},inplace=True)"
   ],
   "outputs": [],
   "metadata": {}
  },
  {
   "cell_type": "code",
   "execution_count": 23,
   "source": [
    "x=enade_df['cor_raca'].unique()\n",
    "x.sort()\n",
    "x"
   ],
   "outputs": [
    {
     "output_type": "execute_result",
     "data": {
      "text/plain": [
       "array(['Amarela', 'Branca', 'Indígena', 'Não Inf.', 'Parda', 'Preta'],\n",
       "      dtype=object)"
      ]
     },
     "metadata": {},
     "execution_count": 23
    }
   ],
   "metadata": {}
  },
  {
   "cell_type": "code",
   "execution_count": 24,
   "source": [
    "enade_df['cor_raca'].replace({'Amarela':1, 'Branca':2, 'Indígena':3, 'Não Inf.':4, 'Parda':5, 'Preta':6},inplace=True)"
   ],
   "outputs": [],
   "metadata": {}
  },
  {
   "cell_type": "code",
   "execution_count": 25,
   "source": [
    "x=enade_df['escolaridade_pai'].unique()\n",
    "x.sort()\n",
    "x"
   ],
   "outputs": [
    {
     "output_type": "execute_result",
     "data": {
      "text/plain": [
       "array(['Ensino Fundamental', 'Ensino Médio', 'Ensino Superior', 'Nenhuma'],\n",
       "      dtype=object)"
      ]
     },
     "metadata": {},
     "execution_count": 25
    }
   ],
   "metadata": {}
  },
  {
   "cell_type": "code",
   "execution_count": 26,
   "source": [
    "enade_df['escolaridade_pai'].replace({'Ensino Fundamental':1, 'Ensino Médio':2, 'Ensino Superior':3, 'Nenhuma':4},inplace=True)"
   ],
   "outputs": [],
   "metadata": {}
  },
  {
   "cell_type": "code",
   "execution_count": 27,
   "source": [
    "x=enade_df['escolaridade_mae'].unique()\n",
    "x.sort()\n",
    "x"
   ],
   "outputs": [
    {
     "output_type": "execute_result",
     "data": {
      "text/plain": [
       "array(['Ensino Fundamental', 'Ensino Médio', 'Ensino Superior', 'Nenhuma'],\n",
       "      dtype=object)"
      ]
     },
     "metadata": {},
     "execution_count": 27
    }
   ],
   "metadata": {}
  },
  {
   "cell_type": "code",
   "execution_count": 28,
   "source": [
    "enade_df['escolaridade_mae'].replace({'Ensino Fundamental':1, 'Ensino Médio':2, 'Ensino Superior':3, 'Nenhuma':4},inplace=True)"
   ],
   "outputs": [],
   "metadata": {}
  },
  {
   "cell_type": "code",
   "execution_count": 29,
   "source": [
    "x=enade_df['range_idade'].unique()\n",
    "x.sort()\n",
    "x"
   ],
   "outputs": [
    {
     "output_type": "execute_result",
     "data": {
      "text/plain": [
       "array(['17-24', '25-29', '30-39', '40-49', '50+'], dtype=object)"
      ]
     },
     "metadata": {},
     "execution_count": 29
    }
   ],
   "metadata": {}
  },
  {
   "cell_type": "code",
   "execution_count": 30,
   "source": [
    "enade_df['range_idade'].replace({'17-24':1, '25-29':2, '30-39':3, '40-49':4, '50+':5},inplace=True)"
   ],
   "outputs": [],
   "metadata": {}
  },
  {
   "cell_type": "code",
   "execution_count": 31,
   "source": [
    "enade_df.info()"
   ],
   "outputs": [
    {
     "output_type": "stream",
     "name": "stdout",
     "text": [
      "<class 'pandas.core.frame.DataFrame'>\n",
      "RangeIndex: 132582 entries, 0 to 132581\n",
      "Data columns (total 34 columns):\n",
      " #   Column                          Non-Null Count   Dtype  \n",
      "---  ------                          --------------   -----  \n",
      " 0   ano                             132582 non-null  int64  \n",
      " 1   curso                           132582 non-null  int64  \n",
      " 2   nome_curso                      132582 non-null  int64  \n",
      " 3   uf                              132582 non-null  int64  \n",
      " 4   regiao                          132582 non-null  int64  \n",
      " 5   codigo_IES                      132582 non-null  int64  \n",
      " 6   categoria_adm_IES               132582 non-null  int64  \n",
      " 7   organizacao_academica           132582 non-null  int64  \n",
      " 8   turno                           132582 non-null  int64  \n",
      " 9   ead_presencial                  132582 non-null  int64  \n",
      " 10  nota_geral                      132582 non-null  float64\n",
      " 11  nota_formacao_geral             132582 non-null  float64\n",
      " 12  nota_obj_formacao_geral         132582 non-null  float64\n",
      " 13  nota_dis_formacao_geral         132582 non-null  float64\n",
      " 14  nota_componente_especifico      132582 non-null  float64\n",
      " 15  nota_obj_componente_especifico  132582 non-null  float64\n",
      " 16  nota_dis_componente_especifico  132582 non-null  float64\n",
      " 17  formatura_ensino_medio          132582 non-null  int64  \n",
      " 18  inicio_graduacao                132582 non-null  int64  \n",
      " 19  tipo_ensino_medio               132582 non-null  int64  \n",
      " 20  idade                           132582 non-null  int64  \n",
      " 21  range_idade                     132582 non-null  int64  \n",
      " 22  sexo                            132582 non-null  int64  \n",
      " 23  cor_raca                        132582 non-null  int64  \n",
      " 24  escolaridade_pai                132582 non-null  int64  \n",
      " 25  escolaridade_mae                132582 non-null  int64  \n",
      " 26  renda_familiar                  132582 non-null  object \n",
      " 27  cotas                           132582 non-null  object \n",
      " 28  recebeu_cota                    132582 non-null  object \n",
      " 29  bolsa_academica                 132582 non-null  object \n",
      " 30  recebeu_bolsa                   132582 non-null  object \n",
      " 31  trabalha                        132582 non-null  object \n",
      " 32  livros_ano                      132582 non-null  object \n",
      " 33  horas_estudo                    132582 non-null  object \n",
      "dtypes: float64(7), int64(19), object(8)\n",
      "memory usage: 34.4+ MB\n"
     ]
    }
   ],
   "metadata": {}
  },
  {
   "cell_type": "code",
   "execution_count": 32,
   "source": [
    "x=enade_df['renda_familiar'].unique()\n",
    "x.sort()\n",
    "x"
   ],
   "outputs": [
    {
     "output_type": "execute_result",
     "data": {
      "text/plain": [
       "array(['10-30', '3-10', '30+', '<3', 'Nenhuma'], dtype=object)"
      ]
     },
     "metadata": {},
     "execution_count": 32
    }
   ],
   "metadata": {}
  },
  {
   "cell_type": "code",
   "execution_count": 33,
   "source": [
    "enade_df['renda_familiar'].replace({'10-30':4, '3-10':3, '30+':5, '<3':2, 'Nenhuma':1},inplace=True)\n"
   ],
   "outputs": [],
   "metadata": {}
  },
  {
   "cell_type": "code",
   "execution_count": 34,
   "source": [
    "x=enade_df['recebeu_cota'].unique()\n",
    "x.sort()\n",
    "x"
   ],
   "outputs": [
    {
     "output_type": "execute_result",
     "data": {
      "text/plain": [
       "array(['Não', 'Sim'], dtype=object)"
      ]
     },
     "metadata": {},
     "execution_count": 34
    }
   ],
   "metadata": {}
  },
  {
   "cell_type": "code",
   "execution_count": 35,
   "source": [
    "enade_df['recebeu_cota'].replace({'Não':1, 'Sim':2},inplace=True)"
   ],
   "outputs": [],
   "metadata": {}
  },
  {
   "cell_type": "code",
   "execution_count": 36,
   "source": [
    "x=enade_df['recebeu_bolsa'].unique()\n",
    "x.sort()\n",
    "x"
   ],
   "outputs": [
    {
     "output_type": "execute_result",
     "data": {
      "text/plain": [
       "array(['Não', 'Sim'], dtype=object)"
      ]
     },
     "metadata": {},
     "execution_count": 36
    }
   ],
   "metadata": {}
  },
  {
   "cell_type": "code",
   "execution_count": 37,
   "source": [
    "enade_df['recebeu_bolsa'].replace({'Não':1, 'Sim':2},inplace=True)\n"
   ],
   "outputs": [],
   "metadata": {}
  },
  {
   "cell_type": "code",
   "execution_count": 38,
   "source": [
    "x=enade_df['trabalha'].unique()\n",
    "x.sort()\n",
    "x"
   ],
   "outputs": [
    {
     "output_type": "execute_result",
     "data": {
      "text/plain": [
       "array(['Não', 'Não-Informado', 'Sim'], dtype=object)"
      ]
     },
     "metadata": {},
     "execution_count": 38
    }
   ],
   "metadata": {}
  },
  {
   "cell_type": "code",
   "execution_count": 39,
   "source": [
    "enade_df['trabalha'].replace({'Não':1,'Não-Informado':2, 'Sim':3},inplace=True)\n"
   ],
   "outputs": [],
   "metadata": {}
  },
  {
   "cell_type": "code",
   "execution_count": 40,
   "source": [
    "x=enade_df['livros_ano'].unique()\n",
    "x.sort()\n",
    "x"
   ],
   "outputs": [
    {
     "output_type": "execute_result",
     "data": {
      "text/plain": [
       "array(['0', '1/2', '3-5', '6-8', '8+'], dtype=object)"
      ]
     },
     "metadata": {},
     "execution_count": 40
    }
   ],
   "metadata": {}
  },
  {
   "cell_type": "code",
   "execution_count": 41,
   "source": [
    "enade_df['livros_ano'].replace({'0':1, '1/2':2, '3-5':2, '6-8':4, '8+':5},inplace=True)"
   ],
   "outputs": [],
   "metadata": {}
  },
  {
   "cell_type": "code",
   "execution_count": 42,
   "source": [
    "x=enade_df['horas_estudo'].unique()\n",
    "x.sort()\n",
    "x"
   ],
   "outputs": [
    {
     "output_type": "execute_result",
     "data": {
      "text/plain": [
       "array(['0', '3-8', '8+', '<3'], dtype=object)"
      ]
     },
     "metadata": {},
     "execution_count": 42
    }
   ],
   "metadata": {}
  },
  {
   "cell_type": "code",
   "execution_count": 43,
   "source": [
    "enade_df['horas_estudo'].replace({'0':1, '<3':2, '3-8':3, '8+':4},inplace=True)\n"
   ],
   "outputs": [],
   "metadata": {}
  },
  {
   "cell_type": "code",
   "execution_count": 44,
   "source": [
    "enade_df.drop(columns=['idade', 'cotas', 'bolsa_academica'],inplace=True)"
   ],
   "outputs": [],
   "metadata": {}
  },
  {
   "cell_type": "code",
   "execution_count": 45,
   "source": [
    "enade_df['nota_geral'] = enade_df['nota_geral'] * 100                       \n",
    "enade_df['nota_formacao_geral'] = enade_df['nota_formacao_geral'] * 100             \n",
    "enade_df['nota_obj_formacao_geral'] = enade_df['nota_obj_formacao_geral'] * 100         \n",
    "enade_df['nota_dis_formacao_geral'] = enade_df['nota_dis_formacao_geral'] * 100         \n",
    "enade_df['nota_componente_especifico'] = enade_df['nota_componente_especifico'] * 100      \n",
    "enade_df['nota_obj_componente_especifico'] = enade_df['nota_obj_componente_especifico'] * 100  \n",
    "enade_df['nota_dis_componente_especifico'] = enade_df['nota_dis_componente_especifico'] * 100"
   ],
   "outputs": [],
   "metadata": {}
  },
  {
   "cell_type": "code",
   "execution_count": 46,
   "source": [
    "enade_df = enade_df.astype({'nota_geral':int})\n",
    "enade_df = enade_df.astype({'nota_formacao_geral':int})\n",
    "enade_df = enade_df.astype({'nota_obj_formacao_geral':int})\n",
    "enade_df = enade_df.astype({'nota_dis_formacao_geral':int})\n",
    "enade_df = enade_df.astype({'nota_componente_especifico':int})\n",
    "enade_df = enade_df.astype({'nota_obj_componente_especifico':int})\n",
    "enade_df = enade_df.astype({'nota_dis_componente_especifico':int})"
   ],
   "outputs": [],
   "metadata": {}
  },
  {
   "cell_type": "code",
   "execution_count": 47,
   "source": [
    "enade_df.info()\n"
   ],
   "outputs": [
    {
     "output_type": "stream",
     "name": "stdout",
     "text": [
      "<class 'pandas.core.frame.DataFrame'>\n",
      "RangeIndex: 132582 entries, 0 to 132581\n",
      "Data columns (total 31 columns):\n",
      " #   Column                          Non-Null Count   Dtype\n",
      "---  ------                          --------------   -----\n",
      " 0   ano                             132582 non-null  int64\n",
      " 1   curso                           132582 non-null  int64\n",
      " 2   nome_curso                      132582 non-null  int64\n",
      " 3   uf                              132582 non-null  int64\n",
      " 4   regiao                          132582 non-null  int64\n",
      " 5   codigo_IES                      132582 non-null  int64\n",
      " 6   categoria_adm_IES               132582 non-null  int64\n",
      " 7   organizacao_academica           132582 non-null  int64\n",
      " 8   turno                           132582 non-null  int64\n",
      " 9   ead_presencial                  132582 non-null  int64\n",
      " 10  nota_geral                      132582 non-null  int64\n",
      " 11  nota_formacao_geral             132582 non-null  int64\n",
      " 12  nota_obj_formacao_geral         132582 non-null  int64\n",
      " 13  nota_dis_formacao_geral         132582 non-null  int64\n",
      " 14  nota_componente_especifico      132582 non-null  int64\n",
      " 15  nota_obj_componente_especifico  132582 non-null  int64\n",
      " 16  nota_dis_componente_especifico  132582 non-null  int64\n",
      " 17  formatura_ensino_medio          132582 non-null  int64\n",
      " 18  inicio_graduacao                132582 non-null  int64\n",
      " 19  tipo_ensino_medio               132582 non-null  int64\n",
      " 20  range_idade                     132582 non-null  int64\n",
      " 21  sexo                            132582 non-null  int64\n",
      " 22  cor_raca                        132582 non-null  int64\n",
      " 23  escolaridade_pai                132582 non-null  int64\n",
      " 24  escolaridade_mae                132582 non-null  int64\n",
      " 25  renda_familiar                  132582 non-null  int64\n",
      " 26  recebeu_cota                    132582 non-null  int64\n",
      " 27  recebeu_bolsa                   132582 non-null  int64\n",
      " 28  trabalha                        132582 non-null  int64\n",
      " 29  livros_ano                      132582 non-null  int64\n",
      " 30  horas_estudo                    132582 non-null  int64\n",
      "dtypes: int64(31)\n",
      "memory usage: 31.4 MB\n"
     ]
    }
   ],
   "metadata": {}
  },
  {
   "cell_type": "code",
   "execution_count": 49,
   "source": [
    "enade_df.to_csv('.{}/{}.csv'.format('','enade_formatado_08-11-14-17'),index=False,float_format='%.2f')"
   ],
   "outputs": [],
   "metadata": {}
  }
 ],
 "metadata": {
  "orig_nbformat": 4,
  "language_info": {
   "name": "python",
   "version": "3.8.10",
   "mimetype": "text/x-python",
   "codemirror_mode": {
    "name": "ipython",
    "version": 3
   },
   "pygments_lexer": "ipython3",
   "nbconvert_exporter": "python",
   "file_extension": ".py"
  },
  "kernelspec": {
   "name": "python3",
   "display_name": "Python 3.8.10 64-bit"
  },
  "interpreter": {
   "hash": "916dbcbb3f70747c44a77c7bcd40155683ae19c65e1c03b4aa3499c5328201f1"
  }
 },
 "nbformat": 4,
 "nbformat_minor": 2
}