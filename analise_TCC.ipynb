{
 "cells": [
  {
   "cell_type": "code",
   "execution_count": 1,
   "source": [
    "import pandas as pd\n",
    "import seaborn as sns\n",
    "import numpy\n",
    "from scipy.stats import zscore"
   ],
   "outputs": [],
   "metadata": {}
  },
  {
   "cell_type": "code",
   "execution_count": 2,
   "source": [
    "sns.set_theme(style=\"whitegrid\")"
   ],
   "outputs": [],
   "metadata": {}
  },
  {
   "cell_type": "code",
   "execution_count": 3,
   "source": [
    "microdados = pd.read_csv('cotas/enade_merge_08-11-14-17.csv',sep=',',decimal='.')"
   ],
   "outputs": [],
   "metadata": {}
  },
  {
   "cell_type": "code",
   "execution_count": 4,
   "source": [
    "microdados"
   ],
   "outputs": [
    {
     "output_type": "execute_result",
     "data": {
      "text/plain": [
       "         ano    curso nome_curso  uf regiao  codigo_IES categoria_adm_IES  \\\n",
       "0       2008    56172         SI  BA     NE         385       IES privada   \n",
       "1       2008     8913         SI  RS      S         426       IES privada   \n",
       "2       2008    10978         SI  RS      S         532       IES privada   \n",
       "3       2008    20469         SI  PR      S         197       IES privada   \n",
       "4       2008    47985        ADS  SP     SE        1743       IES privada   \n",
       "...      ...      ...        ...  ..    ...         ...               ...   \n",
       "132577  2017  5001211        ADS  SC      S        3295       IES privada   \n",
       "132578  2017  5001211        ADS  SC      S        3295       IES privada   \n",
       "132579  2017  5001211        ADS  SC      S        3295       IES privada   \n",
       "132580  2017  5001284        LCC  SC      S         494       IES privada   \n",
       "132581  2017  5001284        LCC  SC      S         494       IES privada   \n",
       "\n",
       "       organizacao_academica     turno ead_presencial  ...  \\\n",
       "0               Universidade   Noturno  Não-Informado  ...   \n",
       "1       Centro Universitário   Noturno  Não-Informado  ...   \n",
       "2               Universidade   Noturno  Não-Informado  ...   \n",
       "3                  Faculdade   Noturno  Não-Informado  ...   \n",
       "4                  Faculdade   Noturno  Não-Informado  ...   \n",
       "...                      ...       ...            ...  ...   \n",
       "132577             Faculdade    Diurno     Presencial  ...   \n",
       "132578             Faculdade    Diurno     Presencial  ...   \n",
       "132579             Faculdade    Diurno     Presencial  ...   \n",
       "132580          Universidade  Integral            EAD  ...   \n",
       "132581          Universidade  Integral            EAD  ...   \n",
       "\n",
       "                      cotas  recebeu_cota  bolsa_academica  recebeu_bolsa  \\\n",
       "0                       Não           Não           Nenhum            Não   \n",
       "1                       Não           Não           Nenhum            Não   \n",
       "2                       Não           Não           Nenhum            Não   \n",
       "3       Renda ou EM público           Sim           Nenhum            Não   \n",
       "4                       Não           Não           Nenhum            Não   \n",
       "...                     ...           ...              ...            ...   \n",
       "132577                  Não           Não           Nenhum            Não   \n",
       "132578                Renda           Sim           Nenhum            Não   \n",
       "132579                  Não           Não           Nenhum            Não   \n",
       "132580                  Não           Não           Nenhum            Não   \n",
       "132581                  Não           Não           Nenhum            Não   \n",
       "\n",
       "        trabalha  livros_ano  horas_estudo  idade_comeco_graduacao  \\\n",
       "0            Sim          8+            <3                      18   \n",
       "1            Sim         1/2           3-8                      20   \n",
       "2            Sim         3-5           3-8                      25   \n",
       "3            Sim         1/2           3-8                      21   \n",
       "4            Sim         6-8            8+                      18   \n",
       "...          ...         ...           ...                     ...   \n",
       "132577       Não           0            <3                      18   \n",
       "132578       Não          8+            <3                      23   \n",
       "132579       Não         3-5            8+                      34   \n",
       "132580       Não         3-5           3-8                      23   \n",
       "132581       Sim          8+           3-8                      32   \n",
       "\n",
       "        tempo_ocioso tempo_cursado  \n",
       "0                  1             6  \n",
       "1                  4             4  \n",
       "2                  6             2  \n",
       "3                  5             3  \n",
       "4                  2             2  \n",
       "...              ...           ...  \n",
       "132577             1             2  \n",
       "132578             5             2  \n",
       "132579             9             1  \n",
       "132580             6             2  \n",
       "132581            15             2  \n",
       "\n",
       "[132582 rows x 37 columns]"
      ],
      "text/html": [
       "<div>\n",
       "<style scoped>\n",
       "    .dataframe tbody tr th:only-of-type {\n",
       "        vertical-align: middle;\n",
       "    }\n",
       "\n",
       "    .dataframe tbody tr th {\n",
       "        vertical-align: top;\n",
       "    }\n",
       "\n",
       "    .dataframe thead th {\n",
       "        text-align: right;\n",
       "    }\n",
       "</style>\n",
       "<table border=\"1\" class=\"dataframe\">\n",
       "  <thead>\n",
       "    <tr style=\"text-align: right;\">\n",
       "      <th></th>\n",
       "      <th>ano</th>\n",
       "      <th>curso</th>\n",
       "      <th>nome_curso</th>\n",
       "      <th>uf</th>\n",
       "      <th>regiao</th>\n",
       "      <th>codigo_IES</th>\n",
       "      <th>categoria_adm_IES</th>\n",
       "      <th>organizacao_academica</th>\n",
       "      <th>turno</th>\n",
       "      <th>ead_presencial</th>\n",
       "      <th>...</th>\n",
       "      <th>cotas</th>\n",
       "      <th>recebeu_cota</th>\n",
       "      <th>bolsa_academica</th>\n",
       "      <th>recebeu_bolsa</th>\n",
       "      <th>trabalha</th>\n",
       "      <th>livros_ano</th>\n",
       "      <th>horas_estudo</th>\n",
       "      <th>idade_comeco_graduacao</th>\n",
       "      <th>tempo_ocioso</th>\n",
       "      <th>tempo_cursado</th>\n",
       "    </tr>\n",
       "  </thead>\n",
       "  <tbody>\n",
       "    <tr>\n",
       "      <th>0</th>\n",
       "      <td>2008</td>\n",
       "      <td>56172</td>\n",
       "      <td>SI</td>\n",
       "      <td>BA</td>\n",
       "      <td>NE</td>\n",
       "      <td>385</td>\n",
       "      <td>IES privada</td>\n",
       "      <td>Universidade</td>\n",
       "      <td>Noturno</td>\n",
       "      <td>Não-Informado</td>\n",
       "      <td>...</td>\n",
       "      <td>Não</td>\n",
       "      <td>Não</td>\n",
       "      <td>Nenhum</td>\n",
       "      <td>Não</td>\n",
       "      <td>Sim</td>\n",
       "      <td>8+</td>\n",
       "      <td>&lt;3</td>\n",
       "      <td>18</td>\n",
       "      <td>1</td>\n",
       "      <td>6</td>\n",
       "    </tr>\n",
       "    <tr>\n",
       "      <th>1</th>\n",
       "      <td>2008</td>\n",
       "      <td>8913</td>\n",
       "      <td>SI</td>\n",
       "      <td>RS</td>\n",
       "      <td>S</td>\n",
       "      <td>426</td>\n",
       "      <td>IES privada</td>\n",
       "      <td>Centro Universitário</td>\n",
       "      <td>Noturno</td>\n",
       "      <td>Não-Informado</td>\n",
       "      <td>...</td>\n",
       "      <td>Não</td>\n",
       "      <td>Não</td>\n",
       "      <td>Nenhum</td>\n",
       "      <td>Não</td>\n",
       "      <td>Sim</td>\n",
       "      <td>1/2</td>\n",
       "      <td>3-8</td>\n",
       "      <td>20</td>\n",
       "      <td>4</td>\n",
       "      <td>4</td>\n",
       "    </tr>\n",
       "    <tr>\n",
       "      <th>2</th>\n",
       "      <td>2008</td>\n",
       "      <td>10978</td>\n",
       "      <td>SI</td>\n",
       "      <td>RS</td>\n",
       "      <td>S</td>\n",
       "      <td>532</td>\n",
       "      <td>IES privada</td>\n",
       "      <td>Universidade</td>\n",
       "      <td>Noturno</td>\n",
       "      <td>Não-Informado</td>\n",
       "      <td>...</td>\n",
       "      <td>Não</td>\n",
       "      <td>Não</td>\n",
       "      <td>Nenhum</td>\n",
       "      <td>Não</td>\n",
       "      <td>Sim</td>\n",
       "      <td>3-5</td>\n",
       "      <td>3-8</td>\n",
       "      <td>25</td>\n",
       "      <td>6</td>\n",
       "      <td>2</td>\n",
       "    </tr>\n",
       "    <tr>\n",
       "      <th>3</th>\n",
       "      <td>2008</td>\n",
       "      <td>20469</td>\n",
       "      <td>SI</td>\n",
       "      <td>PR</td>\n",
       "      <td>S</td>\n",
       "      <td>197</td>\n",
       "      <td>IES privada</td>\n",
       "      <td>Faculdade</td>\n",
       "      <td>Noturno</td>\n",
       "      <td>Não-Informado</td>\n",
       "      <td>...</td>\n",
       "      <td>Renda ou EM público</td>\n",
       "      <td>Sim</td>\n",
       "      <td>Nenhum</td>\n",
       "      <td>Não</td>\n",
       "      <td>Sim</td>\n",
       "      <td>1/2</td>\n",
       "      <td>3-8</td>\n",
       "      <td>21</td>\n",
       "      <td>5</td>\n",
       "      <td>3</td>\n",
       "    </tr>\n",
       "    <tr>\n",
       "      <th>4</th>\n",
       "      <td>2008</td>\n",
       "      <td>47985</td>\n",
       "      <td>ADS</td>\n",
       "      <td>SP</td>\n",
       "      <td>SE</td>\n",
       "      <td>1743</td>\n",
       "      <td>IES privada</td>\n",
       "      <td>Faculdade</td>\n",
       "      <td>Noturno</td>\n",
       "      <td>Não-Informado</td>\n",
       "      <td>...</td>\n",
       "      <td>Não</td>\n",
       "      <td>Não</td>\n",
       "      <td>Nenhum</td>\n",
       "      <td>Não</td>\n",
       "      <td>Sim</td>\n",
       "      <td>6-8</td>\n",
       "      <td>8+</td>\n",
       "      <td>18</td>\n",
       "      <td>2</td>\n",
       "      <td>2</td>\n",
       "    </tr>\n",
       "    <tr>\n",
       "      <th>...</th>\n",
       "      <td>...</td>\n",
       "      <td>...</td>\n",
       "      <td>...</td>\n",
       "      <td>...</td>\n",
       "      <td>...</td>\n",
       "      <td>...</td>\n",
       "      <td>...</td>\n",
       "      <td>...</td>\n",
       "      <td>...</td>\n",
       "      <td>...</td>\n",
       "      <td>...</td>\n",
       "      <td>...</td>\n",
       "      <td>...</td>\n",
       "      <td>...</td>\n",
       "      <td>...</td>\n",
       "      <td>...</td>\n",
       "      <td>...</td>\n",
       "      <td>...</td>\n",
       "      <td>...</td>\n",
       "      <td>...</td>\n",
       "      <td>...</td>\n",
       "    </tr>\n",
       "    <tr>\n",
       "      <th>132577</th>\n",
       "      <td>2017</td>\n",
       "      <td>5001211</td>\n",
       "      <td>ADS</td>\n",
       "      <td>SC</td>\n",
       "      <td>S</td>\n",
       "      <td>3295</td>\n",
       "      <td>IES privada</td>\n",
       "      <td>Faculdade</td>\n",
       "      <td>Diurno</td>\n",
       "      <td>Presencial</td>\n",
       "      <td>...</td>\n",
       "      <td>Não</td>\n",
       "      <td>Não</td>\n",
       "      <td>Nenhum</td>\n",
       "      <td>Não</td>\n",
       "      <td>Não</td>\n",
       "      <td>0</td>\n",
       "      <td>&lt;3</td>\n",
       "      <td>18</td>\n",
       "      <td>1</td>\n",
       "      <td>2</td>\n",
       "    </tr>\n",
       "    <tr>\n",
       "      <th>132578</th>\n",
       "      <td>2017</td>\n",
       "      <td>5001211</td>\n",
       "      <td>ADS</td>\n",
       "      <td>SC</td>\n",
       "      <td>S</td>\n",
       "      <td>3295</td>\n",
       "      <td>IES privada</td>\n",
       "      <td>Faculdade</td>\n",
       "      <td>Diurno</td>\n",
       "      <td>Presencial</td>\n",
       "      <td>...</td>\n",
       "      <td>Renda</td>\n",
       "      <td>Sim</td>\n",
       "      <td>Nenhum</td>\n",
       "      <td>Não</td>\n",
       "      <td>Não</td>\n",
       "      <td>8+</td>\n",
       "      <td>&lt;3</td>\n",
       "      <td>23</td>\n",
       "      <td>5</td>\n",
       "      <td>2</td>\n",
       "    </tr>\n",
       "    <tr>\n",
       "      <th>132579</th>\n",
       "      <td>2017</td>\n",
       "      <td>5001211</td>\n",
       "      <td>ADS</td>\n",
       "      <td>SC</td>\n",
       "      <td>S</td>\n",
       "      <td>3295</td>\n",
       "      <td>IES privada</td>\n",
       "      <td>Faculdade</td>\n",
       "      <td>Diurno</td>\n",
       "      <td>Presencial</td>\n",
       "      <td>...</td>\n",
       "      <td>Não</td>\n",
       "      <td>Não</td>\n",
       "      <td>Nenhum</td>\n",
       "      <td>Não</td>\n",
       "      <td>Não</td>\n",
       "      <td>3-5</td>\n",
       "      <td>8+</td>\n",
       "      <td>34</td>\n",
       "      <td>9</td>\n",
       "      <td>1</td>\n",
       "    </tr>\n",
       "    <tr>\n",
       "      <th>132580</th>\n",
       "      <td>2017</td>\n",
       "      <td>5001284</td>\n",
       "      <td>LCC</td>\n",
       "      <td>SC</td>\n",
       "      <td>S</td>\n",
       "      <td>494</td>\n",
       "      <td>IES privada</td>\n",
       "      <td>Universidade</td>\n",
       "      <td>Integral</td>\n",
       "      <td>EAD</td>\n",
       "      <td>...</td>\n",
       "      <td>Não</td>\n",
       "      <td>Não</td>\n",
       "      <td>Nenhum</td>\n",
       "      <td>Não</td>\n",
       "      <td>Não</td>\n",
       "      <td>3-5</td>\n",
       "      <td>3-8</td>\n",
       "      <td>23</td>\n",
       "      <td>6</td>\n",
       "      <td>2</td>\n",
       "    </tr>\n",
       "    <tr>\n",
       "      <th>132581</th>\n",
       "      <td>2017</td>\n",
       "      <td>5001284</td>\n",
       "      <td>LCC</td>\n",
       "      <td>SC</td>\n",
       "      <td>S</td>\n",
       "      <td>494</td>\n",
       "      <td>IES privada</td>\n",
       "      <td>Universidade</td>\n",
       "      <td>Integral</td>\n",
       "      <td>EAD</td>\n",
       "      <td>...</td>\n",
       "      <td>Não</td>\n",
       "      <td>Não</td>\n",
       "      <td>Nenhum</td>\n",
       "      <td>Não</td>\n",
       "      <td>Sim</td>\n",
       "      <td>8+</td>\n",
       "      <td>3-8</td>\n",
       "      <td>32</td>\n",
       "      <td>15</td>\n",
       "      <td>2</td>\n",
       "    </tr>\n",
       "  </tbody>\n",
       "</table>\n",
       "<p>132582 rows × 37 columns</p>\n",
       "</div>"
      ]
     },
     "metadata": {},
     "execution_count": 4
    }
   ],
   "metadata": {}
  },
  {
   "cell_type": "code",
   "execution_count": 5,
   "source": [
    "microdados.info()"
   ],
   "outputs": [
    {
     "output_type": "stream",
     "name": "stdout",
     "text": [
      "<class 'pandas.core.frame.DataFrame'>\n",
      "RangeIndex: 132582 entries, 0 to 132581\n",
      "Data columns (total 37 columns):\n",
      " #   Column                          Non-Null Count   Dtype  \n",
      "---  ------                          --------------   -----  \n",
      " 0   ano                             132582 non-null  int64  \n",
      " 1   curso                           132582 non-null  int64  \n",
      " 2   nome_curso                      132582 non-null  object \n",
      " 3   uf                              132582 non-null  object \n",
      " 4   regiao                          132582 non-null  object \n",
      " 5   codigo_IES                      132582 non-null  int64  \n",
      " 6   categoria_adm_IES               132582 non-null  object \n",
      " 7   organizacao_academica           132582 non-null  object \n",
      " 8   turno                           132582 non-null  object \n",
      " 9   ead_presencial                  132582 non-null  object \n",
      " 10  nota_geral                      132582 non-null  float64\n",
      " 11  nota_formacao_geral             132582 non-null  float64\n",
      " 12  nota_obj_formacao_geral         132582 non-null  float64\n",
      " 13  nota_dis_formacao_geral         132582 non-null  float64\n",
      " 14  nota_componente_especifico      132582 non-null  float64\n",
      " 15  nota_obj_componente_especifico  132582 non-null  float64\n",
      " 16  nota_dis_componente_especifico  132582 non-null  float64\n",
      " 17  formatura_ensino_medio          132582 non-null  int64  \n",
      " 18  inicio_graduacao                132582 non-null  int64  \n",
      " 19  tipo_ensino_medio               132582 non-null  object \n",
      " 20  idade                           132582 non-null  int64  \n",
      " 21  range_idade                     132582 non-null  object \n",
      " 22  sexo                            132582 non-null  object \n",
      " 23  cor_raca                        132582 non-null  object \n",
      " 24  escolaridade_pai                132582 non-null  object \n",
      " 25  escolaridade_mae                132582 non-null  object \n",
      " 26  renda_familiar                  132582 non-null  object \n",
      " 27  cotas                           132582 non-null  object \n",
      " 28  recebeu_cota                    132582 non-null  object \n",
      " 29  bolsa_academica                 132582 non-null  object \n",
      " 30  recebeu_bolsa                   132582 non-null  object \n",
      " 31  trabalha                        132582 non-null  object \n",
      " 32  livros_ano                      132582 non-null  object \n",
      " 33  horas_estudo                    132582 non-null  object \n",
      " 34  idade_comeco_graduacao          132582 non-null  int64  \n",
      " 35  tempo_ocioso                    132582 non-null  int64  \n",
      " 36  tempo_cursado                   132582 non-null  int64  \n",
      "dtypes: float64(7), int64(9), object(21)\n",
      "memory usage: 37.4+ MB\n"
     ]
    }
   ],
   "metadata": {}
  },
  {
   "cell_type": "code",
   "execution_count": 6,
   "source": [
    "colunasDataset = list(microdados.columns)"
   ],
   "outputs": [],
   "metadata": {}
  },
  {
   "cell_type": "code",
   "execution_count": 7,
   "source": [
    "colunasDataset.remove('ano')\n",
    "colunasDataset.remove('curso')\n",
    "colunasDataset.remove('nome_curso')\n",
    "colunasDataset.remove('formatura_ensino_medio')\n",
    "colunasDataset.remove('inicio_graduacao')\n",
    "colunasDataset.remove('idade')"
   ],
   "outputs": [],
   "metadata": {}
  },
  {
   "cell_type": "code",
   "execution_count": 8,
   "source": [
    "microdados['ano'].value_counts()"
   ],
   "outputs": [
    {
     "output_type": "execute_result",
     "data": {
      "text/plain": [
       "2014    40783\n",
       "2017    40114\n",
       "2011    33219\n",
       "2008    18466\n",
       "Name: ano, dtype: int64"
      ]
     },
     "metadata": {},
     "execution_count": 8
    }
   ],
   "metadata": {}
  },
  {
   "cell_type": "code",
   "execution_count": 9,
   "source": [
    "microdados.nome_curso.value_counts()"
   ],
   "outputs": [
    {
     "output_type": "execute_result",
     "data": {
      "text/plain": [
       "SI     42977\n",
       "ADS    31863\n",
       "BCC    30788\n",
       "RC     11925\n",
       "EC      8274\n",
       "LCC     3552\n",
       "GTI     3203\n",
       "Name: nome_curso, dtype: int64"
      ]
     },
     "metadata": {},
     "execution_count": 9
    }
   ],
   "metadata": {}
  },
  {
   "cell_type": "code",
   "execution_count": 10,
   "source": [
    "alunos2008 = microdados.loc[microdados.ano == 2008]\n",
    "alunos2008.groupby(['nome_curso']).curso.nunique()"
   ],
   "outputs": [
    {
     "output_type": "execute_result",
     "data": {
      "text/plain": [
       "nome_curso\n",
       "ADS    219\n",
       "BCC    253\n",
       "EC      22\n",
       "RC     120\n",
       "SI     407\n",
       "Name: curso, dtype: int64"
      ]
     },
     "metadata": {},
     "execution_count": 10
    }
   ],
   "metadata": {}
  },
  {
   "cell_type": "code",
   "execution_count": 11,
   "source": [
    "alunos2008.groupby(['nome_curso']).categoria_adm_IES.value_counts()"
   ],
   "outputs": [
    {
     "output_type": "execute_result",
     "data": {
      "text/plain": [
       "nome_curso  categoria_adm_IES\n",
       "ADS         IES privada          3111\n",
       "            IES pública           741\n",
       "BCC         IES privada          2895\n",
       "            IES pública          1552\n",
       "EC          IES privada           288\n",
       "            IES pública            99\n",
       "RC          IES privada          1941\n",
       "            IES pública           238\n",
       "SI          IES privada          6882\n",
       "            IES pública           719\n",
       "Name: categoria_adm_IES, dtype: int64"
      ]
     },
     "metadata": {},
     "execution_count": 11
    }
   ],
   "metadata": {}
  },
  {
   "cell_type": "code",
   "execution_count": 12,
   "source": [
    "alunos2011 = microdados.loc[microdados.ano == 2011]\n",
    "alunos2011.groupby(['nome_curso']).curso.nunique()"
   ],
   "outputs": [
    {
     "output_type": "execute_result",
     "data": {
      "text/plain": [
       "nome_curso\n",
       "ADS    259\n",
       "BCC    386\n",
       "EC      77\n",
       "LCC     39\n",
       "RC     167\n",
       "SI     356\n",
       "Name: curso, dtype: int64"
      ]
     },
     "metadata": {},
     "execution_count": 12
    }
   ],
   "metadata": {}
  },
  {
   "cell_type": "code",
   "execution_count": 13,
   "source": [
    "alunos2011.groupby(['nome_curso']).categoria_adm_IES.value_counts()"
   ],
   "outputs": [
    {
     "output_type": "execute_result",
     "data": {
      "text/plain": [
       "nome_curso  categoria_adm_IES\n",
       "ADS         IES privada          5382\n",
       "            IES pública          1883\n",
       "BCC         IES privada          6551\n",
       "            IES pública          3119\n",
       "EC          IES privada          1383\n",
       "            IES pública           546\n",
       "LCC         IES pública           448\n",
       "            IES privada           246\n",
       "RC          IES privada          3064\n",
       "            IES pública           351\n",
       "SI          IES privada          9163\n",
       "            IES pública          1083\n",
       "Name: categoria_adm_IES, dtype: int64"
      ]
     },
     "metadata": {},
     "execution_count": 13
    }
   ],
   "metadata": {}
  },
  {
   "cell_type": "code",
   "execution_count": 14,
   "source": [
    "alunos2014 = microdados.loc[microdados.ano == 2014]\n",
    "alunos2014.groupby(['nome_curso']).curso.nunique()"
   ],
   "outputs": [
    {
     "output_type": "execute_result",
     "data": {
      "text/plain": [
       "nome_curso\n",
       "ADS    352\n",
       "BCC    304\n",
       "EC     119\n",
       "LCC     54\n",
       "RC     197\n",
       "SI     479\n",
       "Name: curso, dtype: int64"
      ]
     },
     "metadata": {},
     "execution_count": 14
    }
   ],
   "metadata": {}
  },
  {
   "cell_type": "code",
   "execution_count": 15,
   "source": [
    "alunos2014.groupby(['nome_curso']).categoria_adm_IES.value_counts()"
   ],
   "outputs": [
    {
     "output_type": "execute_result",
     "data": {
      "text/plain": [
       "nome_curso  categoria_adm_IES\n",
       "ADS         IES privada           7568\n",
       "            IES pública           3542\n",
       "BCC         IES privada           5094\n",
       "            IES pública           3169\n",
       "EC          IES privada           1501\n",
       "            IES pública           1042\n",
       "LCC         IES pública           1407\n",
       "            IES privada            371\n",
       "RC          IES privada           3384\n",
       "            IES pública            467\n",
       "SI          IES privada          11113\n",
       "            IES pública           2125\n",
       "Name: categoria_adm_IES, dtype: int64"
      ]
     },
     "metadata": {},
     "execution_count": 15
    }
   ],
   "metadata": {}
  },
  {
   "cell_type": "code",
   "execution_count": 16,
   "source": [
    "alunos2017 = microdados.loc[microdados.ano == 2017]\n",
    "alunos2017.groupby(['nome_curso']).curso.nunique()"
   ],
   "outputs": [
    {
     "output_type": "execute_result",
     "data": {
      "text/plain": [
       "nome_curso\n",
       "ADS    367\n",
       "BCC    308\n",
       "EC     144\n",
       "GTI    118\n",
       "LCC     55\n",
       "RC     158\n",
       "SI     453\n",
       "Name: curso, dtype: int64"
      ]
     },
     "metadata": {},
     "execution_count": 16
    }
   ],
   "metadata": {}
  },
  {
   "cell_type": "code",
   "execution_count": 17,
   "source": [
    "alunos2017.groupby(['nome_curso']).categoria_adm_IES.value_counts()"
   ],
   "outputs": [
    {
     "output_type": "execute_result",
     "data": {
      "text/plain": [
       "nome_curso  categoria_adm_IES\n",
       "ADS         IES privada          5773\n",
       "            IES pública          3863\n",
       "BCC         IES privada          4597\n",
       "            IES pública          3811\n",
       "EC          IES privada          1773\n",
       "            IES pública          1642\n",
       "GTI         IES privada          2679\n",
       "            IES pública           524\n",
       "LCC         IES pública           895\n",
       "            IES privada           185\n",
       "RC          IES privada          2035\n",
       "            IES pública           445\n",
       "SI          IES privada          8788\n",
       "            IES pública          3104\n",
       "Name: categoria_adm_IES, dtype: int64"
      ]
     },
     "metadata": {},
     "execution_count": 17
    }
   ],
   "metadata": {}
  },
  {
   "cell_type": "code",
   "execution_count": 18,
   "source": [
    "def ListColumnValues(coluna):\n",
    "    return sorted(list(microdados[coluna].unique()))"
   ],
   "outputs": [],
   "metadata": {}
  },
  {
   "cell_type": "code",
   "execution_count": 19,
   "source": [
    "def plot3D(colunaX, colunaY,y_label, x_label, x_order, hue_order, file, bbox_x,bbox_y,loc,labels=None,tick_label_dict=None,y_lim_min=None,y_lim_max=None, list_max=None, list_step=None):\n",
    "    plot = sns.countplot(x=colunaX, hue=colunaY, data=microdados, hue_order=hue_order, order=x_order)\n",
    "    \n",
    "    plot.legend(bbox_to_anchor=(bbox_x,bbox_y), loc=loc, framealpha=0.9, facecolor='lightgray')\n",
    "    \n",
    "    if labels != None:\n",
    "        plot.legend(bbox_to_anchor=(bbox_x,bbox_y), loc=loc, framealpha=0.9, facecolor='lightgray',labels=labels)\n",
    "            \n",
    "    if list_max != None and list_step != None:\n",
    "        plot.set_yticks([i for i in range(0,list_max,list_step)])\n",
    "    \n",
    "        if list_step >= 1000:\n",
    "            plot.set_yticklabels(['0']+[f'{x/1000:.0f}K' for x in list(plot.get_yticks()[1:])])\n",
    "    \n",
    "    if tick_label_dict!=None:\n",
    "        plot.set_xticklabels(tick_label_dict.values())\n",
    "    \n",
    "    plot.set_xlabel(x_label)\n",
    "    \n",
    "    if y_lim_min != y_lim_max and y_lim_min !=None and y_lim_max !=None:\n",
    "        plot.set_ylim(y_lim_min,y_lim_max)\n",
    "    \n",
    "    plot.set_ylabel(y_label)\n",
    "    \n",
    "\n",
    "    plot.get_figure().savefig('./imagensTCC/{}.png'.format(file),dpi=600, bbox_inches='tight')"
   ],
   "outputs": [],
   "metadata": {}
  },
  {
   "cell_type": "code",
   "execution_count": 20,
   "source": [
    "def plot3Dmedia(colunaX, colunaY,y_label, x_label, file, list_max=None, list_step=None):\n",
    "    plot = sns.barplot(x=colunaX, y=colunaY, data=microdados, estimator=numpy.median, ci=None)\n",
    "    plot.set_xlabel(x_label)\n",
    "    plot.set_ylabel(y_label)\n",
    "    \n",
    "    if list_max != None and list_step != None:\n",
    "        plot.set_yticks([i for i in range(0,list_max,list_step)])\n",
    "    \n",
    "    plot.get_figure().savefig('./imagensTCC/{}.png'.format(file),dpi=600, bbox_inches='tight')"
   ],
   "outputs": [],
   "metadata": {}
  },
  {
   "cell_type": "code",
   "execution_count": 21,
   "source": [
    "flierprops = dict(marker='o', markerfacecolor='gainsboro', markersize=4,\n",
    "                  markeredgecolor='black')\n",
    "meanlineprops = dict(linestyle='dashed', linewidth=1.5, color='red')\n",
    "whiskerprops = dict(linewidth=1.5, color='black')\n",
    "capprops = dict(linewidth=1.5, color='black')\n",
    "boxplotprops = dict(linewidth=1.5, linestyle='solid')\n",
    "medianprops = dict(color='darkgray', linewidth=1.5)"
   ],
   "outputs": [],
   "metadata": {}
  },
  {
   "cell_type": "code",
   "execution_count": 22,
   "source": [
    "def boxplotNota(colunaX, colunaY,y_label, x_label, file, x_order, list_max=None, list_step=None):\n",
    "    plot = sns.boxplot(x=colunaX, y=colunaY, data=microdados, order=x_order, meanline=True, showmeans = True,meanprops = meanlineprops, flierprops=flierprops, whiskerprops=whiskerprops,\n",
    "                       capprops=capprops, boxprops=boxplotprops, medianprops=medianprops, saturation=1.0)\n",
    "    plot.set_xlabel(x_label)\n",
    "    plot.set_ylabel(y_label)\n",
    "    \n",
    "    if list_max != None and list_step != None:\n",
    "        plot.set_yticks([i for i in range(0,list_max,list_step)])\n",
    "    \n",
    "    plot.get_figure().savefig('./imagensTCC/{}.png'.format(file),dpi=600, bbox_inches='tight')"
   ],
   "outputs": [],
   "metadata": {}
  },
  {
   "cell_type": "code",
   "execution_count": 23,
   "source": [
    "lista_cursos = ListColumnValues('nome_curso')\n",
    "lista_cursos"
   ],
   "outputs": [
    {
     "output_type": "execute_result",
     "data": {
      "text/plain": [
       "['ADS', 'BCC', 'EC', 'GTI', 'LCC', 'RC', 'SI']"
      ]
     },
     "metadata": {},
     "execution_count": 23
    }
   ],
   "metadata": {}
  },
  {
   "cell_type": "markdown",
   "source": [
    "## Alunos por região e curso"
   ],
   "metadata": {}
  },
  {
   "cell_type": "code",
   "execution_count": 24,
   "source": [
    "lista_regioes = ListColumnValues('regiao')\n",
    "lista_regioes"
   ],
   "outputs": [
    {
     "output_type": "execute_result",
     "data": {
      "text/plain": [
       "['CO', 'N', 'NE', 'S', 'SE']"
      ]
     },
     "metadata": {},
     "execution_count": 24
    }
   ],
   "metadata": {}
  },
  {
   "cell_type": "code",
   "execution_count": 25,
   "source": [
    "plot3D('nome_curso','regiao', 'Quantidade de alunos','Curso',lista_cursos, lista_regioes, 'alunos_regiao', 0.5,1, 'upper center', list_max=23000, list_step=2000)"
   ],
   "outputs": [
    {
     "output_type": "display_data",
     "data": {
      "text/plain": [
       "<Figure size 432x288 with 1 Axes>"
      ],
      "image/png": "[encoded data removed]"
     },
     "metadata": {}
    }
   ],
   "metadata": {}
  },
  {
   "cell_type": "code",
   "execution_count": 26,
   "source": [
    "plot3D('regiao','nome_curso', 'Curso','Quantidade de alunos' ,lista_regioes,lista_cursos, 'alunos_regiao_2', 0.5,1, 'upper center')\n"
   ],
   "outputs": [
    {
     "output_type": "display_data",
     "data": {
      "text/plain": [
       "<Figure size 432x288 with 1 Axes>"
      ],
      "image/png": "[encoded data removed]"
     },
     "metadata": {}
    }
   ],
   "metadata": {}
  },
  {
   "cell_type": "code",
   "execution_count": 27,
   "source": [
    "microdados.groupby('regiao').nome_curso.value_counts().unstack()"
   ],
   "outputs": [
    {
     "output_type": "execute_result",
     "data": {
      "text/plain": [
       "nome_curso    ADS    BCC    EC   GTI   LCC    RC     SI\n",
       "regiao                                                 \n",
       "CO           2303   2213   598   122   516  1548   3946\n",
       "N            1157   1404   461    67   692   997   2623\n",
       "NE           2706   5209  1381   225  1443  2313   6513\n",
       "S            8298   5670  1337   720   176  1641   7537\n",
       "SE          17399  16292  4497  2069   725  5426  22358"
      ],
      "text/html": [
       "<div>\n",
       "<style scoped>\n",
       "    .dataframe tbody tr th:only-of-type {\n",
       "        vertical-align: middle;\n",
       "    }\n",
       "\n",
       "    .dataframe tbody tr th {\n",
       "        vertical-align: top;\n",
       "    }\n",
       "\n",
       "    .dataframe thead th {\n",
       "        text-align: right;\n",
       "    }\n",
       "</style>\n",
       "<table border=\"1\" class=\"dataframe\">\n",
       "  <thead>\n",
       "    <tr style=\"text-align: right;\">\n",
       "      <th>nome_curso</th>\n",
       "      <th>ADS</th>\n",
       "      <th>BCC</th>\n",
       "      <th>EC</th>\n",
       "      <th>GTI</th>\n",
       "      <th>LCC</th>\n",
       "      <th>RC</th>\n",
       "      <th>SI</th>\n",
       "    </tr>\n",
       "    <tr>\n",
       "      <th>regiao</th>\n",
       "      <th></th>\n",
       "      <th></th>\n",
       "      <th></th>\n",
       "      <th></th>\n",
       "      <th></th>\n",
       "      <th></th>\n",
       "      <th></th>\n",
       "    </tr>\n",
       "  </thead>\n",
       "  <tbody>\n",
       "    <tr>\n",
       "      <th>CO</th>\n",
       "      <td>2303</td>\n",
       "      <td>2213</td>\n",
       "      <td>598</td>\n",
       "      <td>122</td>\n",
       "      <td>516</td>\n",
       "      <td>1548</td>\n",
       "      <td>3946</td>\n",
       "    </tr>\n",
       "    <tr>\n",
       "      <th>N</th>\n",
       "      <td>1157</td>\n",
       "      <td>1404</td>\n",
       "      <td>461</td>\n",
       "      <td>67</td>\n",
       "      <td>692</td>\n",
       "      <td>997</td>\n",
       "      <td>2623</td>\n",
       "    </tr>\n",
       "    <tr>\n",
       "      <th>NE</th>\n",
       "      <td>2706</td>\n",
       "      <td>5209</td>\n",
       "      <td>1381</td>\n",
       "      <td>225</td>\n",
       "      <td>1443</td>\n",
       "      <td>2313</td>\n",
       "      <td>6513</td>\n",
       "    </tr>\n",
       "    <tr>\n",
       "      <th>S</th>\n",
       "      <td>8298</td>\n",
       "      <td>5670</td>\n",
       "      <td>1337</td>\n",
       "      <td>720</td>\n",
       "      <td>176</td>\n",
       "      <td>1641</td>\n",
       "      <td>7537</td>\n",
       "    </tr>\n",
       "    <tr>\n",
       "      <th>SE</th>\n",
       "      <td>17399</td>\n",
       "      <td>16292</td>\n",
       "      <td>4497</td>\n",
       "      <td>2069</td>\n",
       "      <td>725</td>\n",
       "      <td>5426</td>\n",
       "      <td>22358</td>\n",
       "    </tr>\n",
       "  </tbody>\n",
       "</table>\n",
       "</div>"
      ]
     },
     "metadata": {},
     "execution_count": 27
    }
   ],
   "metadata": {}
  },
  {
   "cell_type": "code",
   "execution_count": 28,
   "source": [
    "microdados.groupby('regiao').curso.nunique()\n"
   ],
   "outputs": [
    {
     "output_type": "execute_result",
     "data": {
      "text/plain": [
       "regiao\n",
       "CO     243\n",
       "N      150\n",
       "NE     332\n",
       "S      431\n",
       "SE    1147\n",
       "Name: curso, dtype: int64"
      ]
     },
     "metadata": {},
     "execution_count": 28
    }
   ],
   "metadata": {}
  },
  {
   "cell_type": "code",
   "execution_count": 29,
   "source": [
    "microdados.groupby('regiao').codigo_IES.nunique()"
   ],
   "outputs": [
    {
     "output_type": "execute_result",
     "data": {
      "text/plain": [
       "regiao\n",
       "CO    100\n",
       "N      74\n",
       "NE    166\n",
       "S     196\n",
       "SE    476\n",
       "Name: codigo_IES, dtype: int64"
      ]
     },
     "metadata": {},
     "execution_count": 29
    }
   ],
   "metadata": {}
  },
  {
   "cell_type": "code",
   "execution_count": 30,
   "source": [
    "microdados.regiao.value_counts()"
   ],
   "outputs": [
    {
     "output_type": "execute_result",
     "data": {
      "text/plain": [
       "SE    68766\n",
       "S     25379\n",
       "NE    19790\n",
       "CO    11246\n",
       "N      7401\n",
       "Name: regiao, dtype: int64"
      ]
     },
     "metadata": {},
     "execution_count": 30
    }
   ],
   "metadata": {}
  },
  {
   "cell_type": "code",
   "execution_count": 31,
   "source": [
    "colunasDataset.remove('regiao')"
   ],
   "outputs": [],
   "metadata": {}
  },
  {
   "cell_type": "code",
   "execution_count": 32,
   "source": [
    "colunasDataset.remove('uf')"
   ],
   "outputs": [],
   "metadata": {}
  },
  {
   "cell_type": "markdown",
   "source": [
    "## Alunos por IES e curso"
   ],
   "metadata": {}
  },
  {
   "cell_type": "code",
   "execution_count": 33,
   "source": [
    "microdados['curso'].nunique()"
   ],
   "outputs": [
    {
     "output_type": "execute_result",
     "data": {
      "text/plain": [
       "2303"
      ]
     },
     "metadata": {},
     "execution_count": 33
    }
   ],
   "metadata": {}
  },
  {
   "cell_type": "code",
   "execution_count": 34,
   "source": [
    "microdados.groupby('categoria_adm_IES').curso.nunique()"
   ],
   "outputs": [
    {
     "output_type": "execute_result",
     "data": {
      "text/plain": [
       "categoria_adm_IES\n",
       "IES privada    1733\n",
       "IES pública     598\n",
       "Name: curso, dtype: int64"
      ]
     },
     "metadata": {},
     "execution_count": 34
    }
   ],
   "metadata": {}
  },
  {
   "cell_type": "code",
   "execution_count": 35,
   "source": [
    "microdados['codigo_IES'].nunique()"
   ],
   "outputs": [
    {
     "output_type": "execute_result",
     "data": {
      "text/plain": [
       "1008"
      ]
     },
     "metadata": {},
     "execution_count": 35
    }
   ],
   "metadata": {}
  },
  {
   "cell_type": "code",
   "execution_count": 36,
   "source": [
    "microdados.groupby('categoria_adm_IES').codigo_IES.nunique()"
   ],
   "outputs": [
    {
     "output_type": "execute_result",
     "data": {
      "text/plain": [
       "categoria_adm_IES\n",
       "IES privada    817\n",
       "IES pública    201\n",
       "Name: codigo_IES, dtype: int64"
      ]
     },
     "metadata": {},
     "execution_count": 36
    }
   ],
   "metadata": {}
  },
  {
   "cell_type": "code",
   "execution_count": 37,
   "source": [
    "lista_ies = ListColumnValues('categoria_adm_IES')"
   ],
   "outputs": [],
   "metadata": {}
  },
  {
   "cell_type": "code",
   "execution_count": 38,
   "source": [
    "plot3D('nome_curso','categoria_adm_IES', 'Quantidade de alunos','Curso',lista_cursos, lista_ies, 'alunos_IES', 0.5,1, 'upper center', list_max=37000, list_step=3000)"
   ],
   "outputs": [
    {
     "output_type": "display_data",
     "data": {
      "text/plain": [
       "<Figure size 432x288 with 1 Axes>"
      ],
      "image/png": "[encoded data removed]"
     },
     "metadata": {}
    }
   ],
   "metadata": {}
  },
  {
   "cell_type": "code",
   "execution_count": 39,
   "source": [
    "plot3D('categoria_adm_IES','nome_curso', 'Curso','Quantidade de alunos', lista_ies,lista_cursos, 'alunos_IES_2', 0.5,1, 'upper center')\n"
   ],
   "outputs": [
    {
     "output_type": "display_data",
     "data": {
      "text/plain": [
       "<Figure size 432x288 with 1 Axes>"
      ],
      "image/png": "[encoded data removed]"
     },
     "metadata": {}
    }
   ],
   "metadata": {}
  },
  {
   "cell_type": "code",
   "execution_count": 40,
   "source": [
    "microdados.categoria_adm_IES.value_counts()"
   ],
   "outputs": [
    {
     "output_type": "execute_result",
     "data": {
      "text/plain": [
       "IES privada    95767\n",
       "IES pública    36815\n",
       "Name: categoria_adm_IES, dtype: int64"
      ]
     },
     "metadata": {},
     "execution_count": 40
    }
   ],
   "metadata": {}
  },
  {
   "cell_type": "code",
   "execution_count": 41,
   "source": [
    "colunasDataset.remove('categoria_adm_IES')"
   ],
   "outputs": [],
   "metadata": {}
  },
  {
   "cell_type": "code",
   "execution_count": 42,
   "source": [
    "colunasDataset.remove('codigo_IES')"
   ],
   "outputs": [],
   "metadata": {}
  },
  {
   "cell_type": "code",
   "execution_count": 43,
   "source": [
    "colunasDataset.remove('organizacao_academica')"
   ],
   "outputs": [],
   "metadata": {}
  },
  {
   "cell_type": "markdown",
   "source": [
    "## Alunos por turno"
   ],
   "metadata": {}
  },
  {
   "cell_type": "code",
   "execution_count": 44,
   "source": [
    "lista_turno = ListColumnValues('turno')"
   ],
   "outputs": [],
   "metadata": {}
  },
  {
   "cell_type": "code",
   "execution_count": 45,
   "source": [
    "plot3D('nome_curso','turno', 'Quantidade de alunos','Curso',lista_cursos, lista_turno, 'alunos_turno', 0.5,1, 'upper center', list_max=37000, list_step=3000)"
   ],
   "outputs": [
    {
     "output_type": "display_data",
     "data": {
      "text/plain": [
       "<Figure size 432x288 with 1 Axes>"
      ],
      "image/png": "[encoded data removed]"
     },
     "metadata": {}
    }
   ],
   "metadata": {}
  },
  {
   "cell_type": "code",
   "execution_count": 46,
   "source": [
    "microdados.curso.nunique()\n"
   ],
   "outputs": [
    {
     "output_type": "execute_result",
     "data": {
      "text/plain": [
       "2303"
      ]
     },
     "metadata": {},
     "execution_count": 46
    }
   ],
   "metadata": {}
  },
  {
   "cell_type": "code",
   "execution_count": 47,
   "source": [
    "microdados.groupby(['turno']).curso.nunique()\n",
    "# talvez um curso mudou de turno ao longo dos anos"
   ],
   "outputs": [
    {
     "output_type": "execute_result",
     "data": {
      "text/plain": [
       "turno\n",
       "Diurno            617\n",
       "Integral          337\n",
       "Noturno          1985\n",
       "Não-Informado      28\n",
       "Name: curso, dtype: int64"
      ]
     },
     "metadata": {},
     "execution_count": 47
    }
   ],
   "metadata": {}
  },
  {
   "cell_type": "code",
   "execution_count": 48,
   "source": [
    "microdados.groupby(['turno','categoria_adm_IES']).curso.nunique().unstack()"
   ],
   "outputs": [
    {
     "output_type": "execute_result",
     "data": {
      "text/plain": [
       "categoria_adm_IES  IES privada  IES pública\n",
       "turno                                      \n",
       "Diurno                     379          243\n",
       "Integral                   117          221\n",
       "Noturno                   1663          347\n",
       "Não-Informado               25            3"
      ],
      "text/html": [
       "<div>\n",
       "<style scoped>\n",
       "    .dataframe tbody tr th:only-of-type {\n",
       "        vertical-align: middle;\n",
       "    }\n",
       "\n",
       "    .dataframe tbody tr th {\n",
       "        vertical-align: top;\n",
       "    }\n",
       "\n",
       "    .dataframe thead th {\n",
       "        text-align: right;\n",
       "    }\n",
       "</style>\n",
       "<table border=\"1\" class=\"dataframe\">\n",
       "  <thead>\n",
       "    <tr style=\"text-align: right;\">\n",
       "      <th>categoria_adm_IES</th>\n",
       "      <th>IES privada</th>\n",
       "      <th>IES pública</th>\n",
       "    </tr>\n",
       "    <tr>\n",
       "      <th>turno</th>\n",
       "      <th></th>\n",
       "      <th></th>\n",
       "    </tr>\n",
       "  </thead>\n",
       "  <tbody>\n",
       "    <tr>\n",
       "      <th>Diurno</th>\n",
       "      <td>379</td>\n",
       "      <td>243</td>\n",
       "    </tr>\n",
       "    <tr>\n",
       "      <th>Integral</th>\n",
       "      <td>117</td>\n",
       "      <td>221</td>\n",
       "    </tr>\n",
       "    <tr>\n",
       "      <th>Noturno</th>\n",
       "      <td>1663</td>\n",
       "      <td>347</td>\n",
       "    </tr>\n",
       "    <tr>\n",
       "      <th>Não-Informado</th>\n",
       "      <td>25</td>\n",
       "      <td>3</td>\n",
       "    </tr>\n",
       "  </tbody>\n",
       "</table>\n",
       "</div>"
      ]
     },
     "metadata": {},
     "execution_count": 48
    }
   ],
   "metadata": {}
  },
  {
   "cell_type": "code",
   "execution_count": 49,
   "source": [
    "microdados.turno.value_counts()"
   ],
   "outputs": [
    {
     "output_type": "execute_result",
     "data": {
      "text/plain": [
       "Noturno          98102\n",
       "Diurno           17936\n",
       "Integral         16484\n",
       "Não-Informado       60\n",
       "Name: turno, dtype: int64"
      ]
     },
     "metadata": {},
     "execution_count": 49
    }
   ],
   "metadata": {}
  },
  {
   "cell_type": "code",
   "execution_count": 50,
   "source": [
    "colunasDataset.remove('turno')"
   ],
   "outputs": [],
   "metadata": {}
  },
  {
   "cell_type": "markdown",
   "source": [
    "## Alunos por modalidade"
   ],
   "metadata": {}
  },
  {
   "cell_type": "code",
   "execution_count": 51,
   "source": [
    "lista_modalidade = ListColumnValues('ead_presencial')"
   ],
   "outputs": [],
   "metadata": {}
  },
  {
   "cell_type": "code",
   "execution_count": 52,
   "source": [
    "plot3D('nome_curso','ead_presencial', 'Quantidade de alunos','Curso',lista_cursos, lista_modalidade, 'alunos_modalidade', 0.6,1, 'upper center', list_max=35000, list_step=3000)"
   ],
   "outputs": [
    {
     "output_type": "display_data",
     "data": {
      "text/plain": [
       "<Figure size 432x288 with 1 Axes>"
      ],
      "image/png": "[encoded data removed]"
     },
     "metadata": {}
    }
   ],
   "metadata": {}
  },
  {
   "cell_type": "code",
   "execution_count": 53,
   "source": [
    "microdados.ead_presencial.value_counts()"
   ],
   "outputs": [
    {
     "output_type": "execute_result",
     "data": {
      "text/plain": [
       "Presencial       104788\n",
       "Não-Informado     18466\n",
       "EAD                9328\n",
       "Name: ead_presencial, dtype: int64"
      ]
     },
     "metadata": {},
     "execution_count": 53
    }
   ],
   "metadata": {}
  },
  {
   "cell_type": "code",
   "execution_count": 54,
   "source": [
    "# microdados.groupby('ead_presencial').categoria_adm_IES.value_counts()\n",
    "microdados.groupby(['ead_presencial','categoria_adm_IES']).curso.nunique()\n"
   ],
   "outputs": [
    {
     "output_type": "execute_result",
     "data": {
      "text/plain": [
       "ead_presencial  categoria_adm_IES\n",
       "EAD             IES privada            57\n",
       "                IES pública            21\n",
       "Não-Informado   IES privada           849\n",
       "                IES pública           172\n",
       "Presencial      IES privada          1504\n",
       "                IES pública           546\n",
       "Name: curso, dtype: int64"
      ]
     },
     "metadata": {},
     "execution_count": 54
    }
   ],
   "metadata": {}
  },
  {
   "cell_type": "code",
   "execution_count": 55,
   "source": [
    "microdados.groupby(['ead_presencial','turno']).curso.nunique()\n"
   ],
   "outputs": [
    {
     "output_type": "execute_result",
     "data": {
      "text/plain": [
       "ead_presencial  turno        \n",
       "EAD             Diurno             18\n",
       "                Integral           41\n",
       "                Noturno            43\n",
       "Não-Informado   Diurno            206\n",
       "                Integral           78\n",
       "                Noturno           900\n",
       "                Não-Informado      28\n",
       "Presencial      Diurno            528\n",
       "                Integral          270\n",
       "                Noturno          1753\n",
       "Name: curso, dtype: int64"
      ]
     },
     "metadata": {},
     "execution_count": 55
    }
   ],
   "metadata": {}
  },
  {
   "cell_type": "code",
   "execution_count": 56,
   "source": [
    "microdados.groupby('ead_presencial').curso.nunique()"
   ],
   "outputs": [
    {
     "output_type": "execute_result",
     "data": {
      "text/plain": [
       "ead_presencial\n",
       "EAD                78\n",
       "Não-Informado    1021\n",
       "Presencial       2033\n",
       "Name: curso, dtype: int64"
      ]
     },
     "metadata": {},
     "execution_count": 56
    }
   ],
   "metadata": {}
  },
  {
   "cell_type": "code",
   "execution_count": 57,
   "source": [
    "colunasDataset.remove('ead_presencial')"
   ],
   "outputs": [],
   "metadata": {}
  },
  {
   "cell_type": "markdown",
   "source": [
    "##  Alunos por EM"
   ],
   "metadata": {}
  },
  {
   "cell_type": "code",
   "execution_count": 58,
   "source": [
    "lista_EM = ListColumnValues('tipo_ensino_medio')"
   ],
   "outputs": [],
   "metadata": {}
  },
  {
   "cell_type": "code",
   "execution_count": 59,
   "source": [
    "plot3D('nome_curso','tipo_ensino_medio', 'Quantidade de alunos','Curso',lista_cursos, lista_EM, 'alunos_EM', 0.6,1, 'upper center', list_max=28000, list_step=3000)"
   ],
   "outputs": [
    {
     "output_type": "display_data",
     "data": {
      "text/plain": [
       "<Figure size 432x288 with 1 Axes>"
      ],
      "image/png": "[encoded data removed]"
     },
     "metadata": {}
    }
   ],
   "metadata": {}
  },
  {
   "cell_type": "code",
   "execution_count": 60,
   "source": [
    "# plot3D('nome_curso', 'tipo_ensino_medio', 'Quantidade de alunos','Curso', lista_cursos, lista_EM, 'alunos_EM2', 0.6,1, 'upper center')\n"
   ],
   "outputs": [
    {
     "output_type": "display_data",
     "data": {
      "text/plain": [
       "<Figure size 432x288 with 1 Axes>"
      ],
      "image/png": "[encoded data removed]"
     },
     "metadata": {}
    }
   ],
   "metadata": {}
  },
  {
   "cell_type": "code",
   "execution_count": 61,
   "source": [
    "microdados.tipo_ensino_medio.value_counts()"
   ],
   "outputs": [
    {
     "output_type": "execute_result",
     "data": {
      "text/plain": [
       "Pública          84799\n",
       "Particular       41212\n",
       "Não-Informado     6290\n",
       "Exterior           281\n",
       "Name: tipo_ensino_medio, dtype: int64"
      ]
     },
     "metadata": {},
     "execution_count": 61
    }
   ],
   "metadata": {}
  },
  {
   "cell_type": "code",
   "execution_count": 62,
   "source": [
    "microdados.groupby('tipo_ensino_medio').categoria_adm_IES.value_counts()"
   ],
   "outputs": [
    {
     "output_type": "execute_result",
     "data": {
      "text/plain": [
       "tipo_ensino_medio  categoria_adm_IES\n",
       "Exterior           IES privada            193\n",
       "                   IES pública             88\n",
       "Não-Informado      IES privada           5124\n",
       "                   IES pública           1166\n",
       "Particular         IES privada          27848\n",
       "                   IES pública          13364\n",
       "Pública            IES privada          62602\n",
       "                   IES pública          22197\n",
       "Name: categoria_adm_IES, dtype: int64"
      ]
     },
     "metadata": {},
     "execution_count": 62
    }
   ],
   "metadata": {}
  },
  {
   "cell_type": "code",
   "execution_count": 63,
   "source": [
    "microdados.groupby('categoria_adm_IES').tipo_ensino_medio.value_counts()\n"
   ],
   "outputs": [
    {
     "output_type": "execute_result",
     "data": {
      "text/plain": [
       "categoria_adm_IES  tipo_ensino_medio\n",
       "IES privada        Pública              62602\n",
       "                   Particular           27848\n",
       "                   Não-Informado         5124\n",
       "                   Exterior               193\n",
       "IES pública        Pública              22197\n",
       "                   Particular           13364\n",
       "                   Não-Informado         1166\n",
       "                   Exterior                88\n",
       "Name: tipo_ensino_medio, dtype: int64"
      ]
     },
     "metadata": {},
     "execution_count": 63
    }
   ],
   "metadata": {}
  },
  {
   "cell_type": "code",
   "execution_count": 64,
   "source": [
    "colunasDataset.remove('tipo_ensino_medio')"
   ],
   "outputs": [],
   "metadata": {}
  },
  {
   "cell_type": "markdown",
   "source": [
    "## Alunos por idade"
   ],
   "metadata": {}
  },
  {
   "cell_type": "code",
   "execution_count": 65,
   "source": [
    "# idade media\n",
    "plot3Dmedia('nome_curso', 'idade', 'Idade', 'Curso', 'alunos_idade_media', 30, 3)"
   ],
   "outputs": [
    {
     "output_type": "display_data",
     "data": {
      "text/plain": [
       "<Figure size 432x288 with 1 Axes>"
      ],
      "image/png": "[encoded data removed]"
     },
     "metadata": {}
    }
   ],
   "metadata": {}
  },
  {
   "cell_type": "code",
   "execution_count": 66,
   "source": [
    "microdados.idade.mode()"
   ],
   "outputs": [
    {
     "output_type": "execute_result",
     "data": {
      "text/plain": [
       "0    22\n",
       "dtype: int64"
      ]
     },
     "metadata": {},
     "execution_count": 66
    }
   ],
   "metadata": {}
  },
  {
   "cell_type": "code",
   "execution_count": 67,
   "source": [
    "microdados.idade.value_counts()"
   ],
   "outputs": [
    {
     "output_type": "execute_result",
     "data": {
      "text/plain": [
       "22    16484\n",
       "23    14914\n",
       "21    14057\n",
       "24    12836\n",
       "25    10659\n",
       "26     8810\n",
       "27     7110\n",
       "20     6301\n",
       "28     6214\n",
       "29     5095\n",
       "30     4215\n",
       "31     3700\n",
       "32     3027\n",
       "33     2597\n",
       "34     2311\n",
       "35     1920\n",
       "36     1745\n",
       "19     1428\n",
       "37     1356\n",
       "38     1175\n",
       "39      967\n",
       "40      875\n",
       "41      710\n",
       "42      668\n",
       "43      501\n",
       "44      433\n",
       "45      430\n",
       "46      326\n",
       "47      284\n",
       "48      226\n",
       "49      217\n",
       "50      176\n",
       "18      140\n",
       "51      139\n",
       "52      112\n",
       "53       84\n",
       "54       69\n",
       "55       66\n",
       "56       40\n",
       "58       38\n",
       "57       34\n",
       "59       26\n",
       "60       19\n",
       "61       11\n",
       "17        8\n",
       "64        7\n",
       "62        6\n",
       "66        6\n",
       "63        4\n",
       "77        2\n",
       "65        1\n",
       "67        1\n",
       "69        1\n",
       "73        1\n",
       "Name: idade, dtype: int64"
      ]
     },
     "metadata": {},
     "execution_count": 67
    }
   ],
   "metadata": {}
  },
  {
   "cell_type": "code",
   "execution_count": 68,
   "source": [
    "microdados['ano'].loc[microdados.idade == 17].value_counts()"
   ],
   "outputs": [
    {
     "output_type": "execute_result",
     "data": {
      "text/plain": [
       "2008    5\n",
       "2017    1\n",
       "2011    1\n",
       "2014    1\n",
       "Name: ano, dtype: int64"
      ]
     },
     "metadata": {},
     "execution_count": 68
    }
   ],
   "metadata": {}
  },
  {
   "cell_type": "code",
   "execution_count": 69,
   "source": [
    "microdados.idade.mean()"
   ],
   "outputs": [
    {
     "output_type": "execute_result",
     "data": {
      "text/plain": [
       "26.292520855018026"
      ]
     },
     "metadata": {},
     "execution_count": 69
    }
   ],
   "metadata": {}
  },
  {
   "cell_type": "code",
   "execution_count": 70,
   "source": [
    "microdados.idade.std()"
   ],
   "outputs": [
    {
     "output_type": "execute_result",
     "data": {
      "text/plain": [
       "5.9088689786058035"
      ]
     },
     "metadata": {},
     "execution_count": 70
    }
   ],
   "metadata": {}
  },
  {
   "cell_type": "code",
   "execution_count": 71,
   "source": [
    "microdados.idade_comeco_graduacao.mode()"
   ],
   "outputs": [
    {
     "output_type": "execute_result",
     "data": {
      "text/plain": [
       "0    18\n",
       "dtype: int64"
      ]
     },
     "metadata": {},
     "execution_count": 71
    }
   ],
   "metadata": {}
  },
  {
   "cell_type": "code",
   "execution_count": 72,
   "source": [
    "microdados.idade_comeco_graduacao.mean()"
   ],
   "outputs": [
    {
     "output_type": "execute_result",
     "data": {
      "text/plain": [
       "22.739557405982712"
      ]
     },
     "metadata": {},
     "execution_count": 72
    }
   ],
   "metadata": {}
  },
  {
   "cell_type": "code",
   "execution_count": 73,
   "source": [
    "microdados.tempo_ocioso.mode()"
   ],
   "outputs": [
    {
     "output_type": "execute_result",
     "data": {
      "text/plain": [
       "0    1\n",
       "dtype: int64"
      ]
     },
     "metadata": {},
     "execution_count": 73
    }
   ],
   "metadata": {}
  },
  {
   "cell_type": "code",
   "execution_count": 74,
   "source": [
    "microdados.tempo_ocioso.mean()"
   ],
   "outputs": [
    {
     "output_type": "execute_result",
     "data": {
      "text/plain": [
       "4.526149854429711"
      ]
     },
     "metadata": {},
     "execution_count": 74
    }
   ],
   "metadata": {}
  },
  {
   "cell_type": "code",
   "execution_count": 75,
   "source": [
    "lista_idade = ListColumnValues('range_idade')"
   ],
   "outputs": [],
   "metadata": {}
  },
  {
   "cell_type": "code",
   "execution_count": 76,
   "source": [
    "plot3D('nome_curso','range_idade', 'Quantidade de alunos','Curso',lista_cursos, lista_idade, 'alunos_idade', 0.5,1, 'upper center', list_max=27000, list_step=2000)"
   ],
   "outputs": [
    {
     "output_type": "display_data",
     "data": {
      "text/plain": [
       "<Figure size 432x288 with 1 Axes>"
      ],
      "image/png": "[encoded data removed]"
     },
     "metadata": {}
    }
   ],
   "metadata": {}
  },
  {
   "cell_type": "code",
   "execution_count": 77,
   "source": [
    "colunasDataset.remove('range_idade')"
   ],
   "outputs": [],
   "metadata": {}
  },
  {
   "cell_type": "markdown",
   "source": [
    "## Alunos por sexo"
   ],
   "metadata": {}
  },
  {
   "cell_type": "code",
   "execution_count": 78,
   "source": [
    "lista_sexo = ListColumnValues('sexo')\n",
    "sexos = ['Feminino', 'Masculino']"
   ],
   "outputs": [],
   "metadata": {}
  },
  {
   "cell_type": "code",
   "execution_count": 79,
   "source": [
    "microdados.sexo.value_counts()"
   ],
   "outputs": [
    {
     "output_type": "execute_result",
     "data": {
      "text/plain": [
       "M    111927\n",
       "F     20655\n",
       "Name: sexo, dtype: int64"
      ]
     },
     "metadata": {},
     "execution_count": 79
    }
   ],
   "metadata": {}
  },
  {
   "cell_type": "code",
   "execution_count": 80,
   "source": [
    "plot3D('nome_curso','sexo', 'Quantidade de alunos','Curso',lista_cursos, lista_sexo, 'alunos_sexo', 0.5,1, 'upper center', labels=sexos,list_max=37000, list_step=3000)"
   ],
   "outputs": [
    {
     "output_type": "display_data",
     "data": {
      "text/plain": [
       "<Figure size 432x288 with 1 Axes>"
      ],
      "image/png": "[encoded data removed]"
     },
     "metadata": {}
    }
   ],
   "metadata": {}
  },
  {
   "cell_type": "code",
   "execution_count": 81,
   "source": [
    "colunasDataset.remove('sexo')"
   ],
   "outputs": [],
   "metadata": {}
  },
  {
   "cell_type": "markdown",
   "source": [
    "## Alunos por cor"
   ],
   "metadata": {}
  },
  {
   "cell_type": "code",
   "execution_count": 82,
   "source": [
    "lista_cor = ListColumnValues('cor_raca')"
   ],
   "outputs": [],
   "metadata": {}
  },
  {
   "cell_type": "code",
   "execution_count": 83,
   "source": [
    "microdados.cor_raca.value_counts()"
   ],
   "outputs": [
    {
     "output_type": "execute_result",
     "data": {
      "text/plain": [
       "Branca      77064\n",
       "Parda       34888\n",
       "Preta        9120\n",
       "Não Inf.     7512\n",
       "Amarela      3264\n",
       "Indígena      734\n",
       "Name: cor_raca, dtype: int64"
      ]
     },
     "metadata": {},
     "execution_count": 83
    }
   ],
   "metadata": {}
  },
  {
   "cell_type": "code",
   "execution_count": 84,
   "source": [
    "microdados.cor_raca.value_counts(normalize=True)\n"
   ],
   "outputs": [
    {
     "output_type": "execute_result",
     "data": {
      "text/plain": [
       "Branca      0.581255\n",
       "Parda       0.263143\n",
       "Preta       0.068788\n",
       "Não Inf.    0.056659\n",
       "Amarela     0.024619\n",
       "Indígena    0.005536\n",
       "Name: cor_raca, dtype: float64"
      ]
     },
     "metadata": {},
     "execution_count": 84
    }
   ],
   "metadata": {}
  },
  {
   "cell_type": "code",
   "execution_count": 85,
   "source": [
    "plot3D('nome_curso','cor_raca', 'Quantidade de alunos','Curso',lista_cursos, lista_cor, 'alunos_cor', 0.5,1, 'upper center',list_max=25000, list_step=2000)"
   ],
   "outputs": [
    {
     "output_type": "display_data",
     "data": {
      "text/plain": [
       "<Figure size 432x288 with 1 Axes>"
      ],
      "image/png": "[encoded data removed]"
     },
     "metadata": {}
    }
   ],
   "metadata": {}
  },
  {
   "cell_type": "code",
   "execution_count": 86,
   "source": [
    "colunasDataset.remove('cor_raca')"
   ],
   "outputs": [],
   "metadata": {}
  },
  {
   "cell_type": "markdown",
   "source": [
    "## Alunos por escolaridade pai"
   ],
   "metadata": {}
  },
  {
   "cell_type": "code",
   "execution_count": 87,
   "source": [
    "lista_escola_pai = ListColumnValues('escolaridade_pai')"
   ],
   "outputs": [],
   "metadata": {}
  },
  {
   "cell_type": "code",
   "execution_count": 88,
   "source": [
    "plot3D('nome_curso','escolaridade_pai', 'Quantidade de alunos','Curso',lista_cursos, lista_escola_pai, 'alunos_escola_pai', 0.55,1, 'upper center',list_max=17000, list_step=2000)"
   ],
   "outputs": [
    {
     "output_type": "display_data",
     "data": {
      "text/plain": [
       "<Figure size 432x288 with 1 Axes>"
      ],
      "image/png": "[encoded data removed]"
     },
     "metadata": {}
    }
   ],
   "metadata": {}
  },
  {
   "cell_type": "code",
   "execution_count": 89,
   "source": [
    "microdados.escolaridade_pai.mode()"
   ],
   "outputs": [
    {
     "output_type": "execute_result",
     "data": {
      "text/plain": [
       "0    Ensino Fundamental\n",
       "dtype: object"
      ]
     },
     "metadata": {},
     "execution_count": 89
    }
   ],
   "metadata": {}
  },
  {
   "cell_type": "code",
   "execution_count": 90,
   "source": [
    "microdados.escolaridade_pai.value_counts()"
   ],
   "outputs": [
    {
     "output_type": "execute_result",
     "data": {
      "text/plain": [
       "Ensino Fundamental    47403\n",
       "Ensino Médio          45744\n",
       "Ensino Superior       28713\n",
       "Nenhuma               10722\n",
       "Name: escolaridade_pai, dtype: int64"
      ]
     },
     "metadata": {},
     "execution_count": 90
    }
   ],
   "metadata": {}
  },
  {
   "cell_type": "code",
   "execution_count": 91,
   "source": [
    "microdados.groupby('escolaridade_pai').idade_comeco_graduacao.apply(lambda x: x.mean())"
   ],
   "outputs": [
    {
     "output_type": "execute_result",
     "data": {
      "text/plain": [
       "escolaridade_pai\n",
       "Ensino Fundamental    24.172626\n",
       "Ensino Médio          21.935445\n",
       "Ensino Superior       21.379306\n",
       "Nenhuma               23.477150\n",
       "Name: idade_comeco_graduacao, dtype: float64"
      ]
     },
     "metadata": {},
     "execution_count": 91
    }
   ],
   "metadata": {}
  },
  {
   "cell_type": "code",
   "execution_count": 92,
   "source": [
    "microdados.groupby('escolaridade_pai').categoria_adm_IES.apply(lambda x: x.mode())\n"
   ],
   "outputs": [
    {
     "output_type": "execute_result",
     "data": {
      "text/plain": [
       "escolaridade_pai     \n",
       "Ensino Fundamental  0    IES privada\n",
       "Ensino Médio        0    IES privada\n",
       "Ensino Superior     0    IES privada\n",
       "Nenhuma             0    IES privada\n",
       "Name: categoria_adm_IES, dtype: object"
      ]
     },
     "metadata": {},
     "execution_count": 92
    }
   ],
   "metadata": {}
  },
  {
   "cell_type": "code",
   "execution_count": 93,
   "source": [
    "microdados.groupby('escolaridade_pai').renda_familiar.value_counts()"
   ],
   "outputs": [
    {
     "output_type": "execute_result",
     "data": {
      "text/plain": [
       "escolaridade_pai    renda_familiar\n",
       "Ensino Fundamental  3-10              25705\n",
       "                    <3                18410\n",
       "                    10-30              3146\n",
       "                    30+                 122\n",
       "                    Nenhuma              20\n",
       "Ensino Médio        3-10              27285\n",
       "                    <3                12674\n",
       "                    10-30              5418\n",
       "                    30+                 345\n",
       "                    Nenhuma              22\n",
       "Ensino Superior     3-10              15223\n",
       "                    10-30              7477\n",
       "                    <3                 4671\n",
       "                    30+                1320\n",
       "                    Nenhuma              22\n",
       "Nenhuma             Nenhuma            6219\n",
       "                    <3                 2449\n",
       "                    3-10               1862\n",
       "                    10-30               173\n",
       "                    30+                  19\n",
       "Name: renda_familiar, dtype: int64"
      ]
     },
     "metadata": {},
     "execution_count": 93
    }
   ],
   "metadata": {}
  },
  {
   "cell_type": "code",
   "execution_count": 94,
   "source": [
    "colunasDataset.remove('escolaridade_pai')"
   ],
   "outputs": [],
   "metadata": {}
  },
  {
   "cell_type": "markdown",
   "source": [
    "## Alunos por escolaridade mae"
   ],
   "metadata": {}
  },
  {
   "cell_type": "code",
   "execution_count": 95,
   "source": [
    "lista_escola_mae = ListColumnValues('escolaridade_mae')"
   ],
   "outputs": [],
   "metadata": {}
  },
  {
   "cell_type": "code",
   "execution_count": 96,
   "source": [
    "plot3D('nome_curso','escolaridade_mae', 'Quantidade de alunos','Curso',lista_cursos, lista_escola_mae, 'alunos_escola_mae', 0.55,1, 'upper center',list_max=17000, list_step=2000)"
   ],
   "outputs": [
    {
     "output_type": "display_data",
     "data": {
      "text/plain": [
       "<Figure size 432x288 with 1 Axes>"
      ],
      "image/png": "[encoded data removed]"
     },
     "metadata": {}
    }
   ],
   "metadata": {}
  },
  {
   "cell_type": "code",
   "execution_count": 97,
   "source": [
    "microdados.escolaridade_mae.value_counts()"
   ],
   "outputs": [
    {
     "output_type": "execute_result",
     "data": {
      "text/plain": [
       "Ensino Médio          47622\n",
       "Ensino Fundamental    42649\n",
       "Ensino Superior       33429\n",
       "Nenhuma                8882\n",
       "Name: escolaridade_mae, dtype: int64"
      ]
     },
     "metadata": {},
     "execution_count": 97
    }
   ],
   "metadata": {}
  },
  {
   "cell_type": "code",
   "execution_count": 98,
   "source": [
    "colunasDataset.remove('escolaridade_mae')"
   ],
   "outputs": [],
   "metadata": {}
  },
  {
   "cell_type": "markdown",
   "source": [
    "## Alunos por renda"
   ],
   "metadata": {}
  },
  {
   "cell_type": "code",
   "execution_count": 99,
   "source": [
    "lista_renda = ['Nenhuma','<3','3-10','10-30','30+']\n",
    "renda_label = ['Nenhuma', 'Menos que 3', '3-10','10-30', 'Mais que 30']"
   ],
   "outputs": [],
   "metadata": {}
  },
  {
   "cell_type": "code",
   "execution_count": 100,
   "source": [
    "microdados.renda_familiar.value_counts()"
   ],
   "outputs": [
    {
     "output_type": "execute_result",
     "data": {
      "text/plain": [
       "3-10       70075\n",
       "<3         38204\n",
       "10-30      16214\n",
       "Nenhuma     6283\n",
       "30+         1806\n",
       "Name: renda_familiar, dtype: int64"
      ]
     },
     "metadata": {},
     "execution_count": 100
    }
   ],
   "metadata": {}
  },
  {
   "cell_type": "code",
   "execution_count": 101,
   "source": [
    "microdados.renda_familiar.value_counts(normalize=True)\n"
   ],
   "outputs": [
    {
     "output_type": "execute_result",
     "data": {
      "text/plain": [
       "3-10       0.528541\n",
       "<3         0.288154\n",
       "10-30      0.122294\n",
       "Nenhuma    0.047390\n",
       "30+        0.013622\n",
       "Name: renda_familiar, dtype: float64"
      ]
     },
     "metadata": {},
     "execution_count": 101
    }
   ],
   "metadata": {}
  },
  {
   "cell_type": "code",
   "execution_count": 102,
   "source": [
    "microdados.groupby('renda_familiar').categoria_adm_IES.apply(lambda x: x.mode())"
   ],
   "outputs": [
    {
     "output_type": "execute_result",
     "data": {
      "text/plain": [
       "renda_familiar   \n",
       "10-30           0    IES privada\n",
       "3-10            0    IES privada\n",
       "30+             0    IES privada\n",
       "<3              0    IES privada\n",
       "Nenhuma         0    IES privada\n",
       "Name: categoria_adm_IES, dtype: object"
      ]
     },
     "metadata": {},
     "execution_count": 102
    }
   ],
   "metadata": {}
  },
  {
   "cell_type": "code",
   "execution_count": 103,
   "source": [
    "microdados.groupby('renda_familiar').escolaridade_pai.apply(lambda x: x.mode())"
   ],
   "outputs": [
    {
     "output_type": "execute_result",
     "data": {
      "text/plain": [
       "renda_familiar   \n",
       "10-30           0       Ensino Superior\n",
       "3-10            0          Ensino Médio\n",
       "30+             0       Ensino Superior\n",
       "<3              0    Ensino Fundamental\n",
       "Nenhuma         0               Nenhuma\n",
       "Name: escolaridade_pai, dtype: object"
      ]
     },
     "metadata": {},
     "execution_count": 103
    }
   ],
   "metadata": {}
  },
  {
   "cell_type": "code",
   "execution_count": 104,
   "source": [
    "microdados.groupby('renda_familiar').escolaridade_mae.apply(lambda x: x.mode())"
   ],
   "outputs": [
    {
     "output_type": "execute_result",
     "data": {
      "text/plain": [
       "renda_familiar   \n",
       "10-30           0       Ensino Superior\n",
       "3-10            0          Ensino Médio\n",
       "30+             0       Ensino Superior\n",
       "<3              0    Ensino Fundamental\n",
       "Nenhuma         0               Nenhuma\n",
       "Name: escolaridade_mae, dtype: object"
      ]
     },
     "metadata": {},
     "execution_count": 104
    }
   ],
   "metadata": {}
  },
  {
   "cell_type": "code",
   "execution_count": 105,
   "source": [
    "microdados.groupby('renda_familiar').escolaridade_mae.value_counts()\n"
   ],
   "outputs": [
    {
     "output_type": "execute_result",
     "data": {
      "text/plain": [
       "renda_familiar  escolaridade_mae  \n",
       "10-30           Ensino Superior        7447\n",
       "                Ensino Médio           5692\n",
       "                Ensino Fundamental     2937\n",
       "                Nenhuma                 138\n",
       "3-10            Ensino Médio          27097\n",
       "                Ensino Fundamental    23316\n",
       "                Ensino Superior       18512\n",
       "                Nenhuma                1150\n",
       "30+             Ensino Superior        1193\n",
       "                Ensino Médio            474\n",
       "                Ensino Fundamental      130\n",
       "                Nenhuma                   9\n",
       "<3              Ensino Fundamental    16242\n",
       "                Ensino Médio          14334\n",
       "                Ensino Superior        6261\n",
       "                Nenhuma                1367\n",
       "Nenhuma         Nenhuma                6218\n",
       "                Ensino Médio             25\n",
       "                Ensino Fundamental       24\n",
       "                Ensino Superior          16\n",
       "Name: escolaridade_mae, dtype: int64"
      ]
     },
     "metadata": {},
     "execution_count": 105
    }
   ],
   "metadata": {}
  },
  {
   "cell_type": "code",
   "execution_count": 106,
   "source": [
    "microdados.groupby('renda_familiar').regiao.value_counts().unstack()"
   ],
   "outputs": [
    {
     "output_type": "execute_result",
     "data": {
      "text/plain": [
       "regiao            CO     N    NE      S     SE\n",
       "renda_familiar                                \n",
       "10-30           1430   614  2102   3254   8814\n",
       "3-10            5446  3382  9045  14667  37535\n",
       "30+              218    84   267    301    936\n",
       "<3              3654  3021  7696   6482  17351\n",
       "Nenhuma          498   300   680    675   4130"
      ],
      "text/html": [
       "<div>\n",
       "<style scoped>\n",
       "    .dataframe tbody tr th:only-of-type {\n",
       "        vertical-align: middle;\n",
       "    }\n",
       "\n",
       "    .dataframe tbody tr th {\n",
       "        vertical-align: top;\n",
       "    }\n",
       "\n",
       "    .dataframe thead th {\n",
       "        text-align: right;\n",
       "    }\n",
       "</style>\n",
       "<table border=\"1\" class=\"dataframe\">\n",
       "  <thead>\n",
       "    <tr style=\"text-align: right;\">\n",
       "      <th>regiao</th>\n",
       "      <th>CO</th>\n",
       "      <th>N</th>\n",
       "      <th>NE</th>\n",
       "      <th>S</th>\n",
       "      <th>SE</th>\n",
       "    </tr>\n",
       "    <tr>\n",
       "      <th>renda_familiar</th>\n",
       "      <th></th>\n",
       "      <th></th>\n",
       "      <th></th>\n",
       "      <th></th>\n",
       "      <th></th>\n",
       "    </tr>\n",
       "  </thead>\n",
       "  <tbody>\n",
       "    <tr>\n",
       "      <th>10-30</th>\n",
       "      <td>1430</td>\n",
       "      <td>614</td>\n",
       "      <td>2102</td>\n",
       "      <td>3254</td>\n",
       "      <td>8814</td>\n",
       "    </tr>\n",
       "    <tr>\n",
       "      <th>3-10</th>\n",
       "      <td>5446</td>\n",
       "      <td>3382</td>\n",
       "      <td>9045</td>\n",
       "      <td>14667</td>\n",
       "      <td>37535</td>\n",
       "    </tr>\n",
       "    <tr>\n",
       "      <th>30+</th>\n",
       "      <td>218</td>\n",
       "      <td>84</td>\n",
       "      <td>267</td>\n",
       "      <td>301</td>\n",
       "      <td>936</td>\n",
       "    </tr>\n",
       "    <tr>\n",
       "      <th>&lt;3</th>\n",
       "      <td>3654</td>\n",
       "      <td>3021</td>\n",
       "      <td>7696</td>\n",
       "      <td>6482</td>\n",
       "      <td>17351</td>\n",
       "    </tr>\n",
       "    <tr>\n",
       "      <th>Nenhuma</th>\n",
       "      <td>498</td>\n",
       "      <td>300</td>\n",
       "      <td>680</td>\n",
       "      <td>675</td>\n",
       "      <td>4130</td>\n",
       "    </tr>\n",
       "  </tbody>\n",
       "</table>\n",
       "</div>"
      ]
     },
     "metadata": {},
     "execution_count": 106
    }
   ],
   "metadata": {}
  },
  {
   "cell_type": "code",
   "execution_count": 107,
   "source": [
    "microdados.groupby('renda_familiar').nome_curso.value_counts().unstack()"
   ],
   "outputs": [
    {
     "output_type": "execute_result",
     "data": {
      "text/plain": [
       "nome_curso          ADS      BCC      EC     GTI     LCC      RC       SI\n",
       "renda_familiar                                                           \n",
       "10-30            3072.0   5009.0  1648.0   229.0   169.0  1095.0   4992.0\n",
       "3-10            17075.0  16245.0  4565.0  1643.0  1475.0  6416.0  22656.0\n",
       "30+               203.0    717.0   295.0    15.0    19.0    93.0    464.0\n",
       "<3              10006.0   7279.0  1634.0  1316.0  1889.0  3915.0  12165.0\n",
       "Nenhuma          1507.0   1538.0   132.0     NaN     NaN   406.0   2700.0"
      ],
      "text/html": [
       "<div>\n",
       "<style scoped>\n",
       "    .dataframe tbody tr th:only-of-type {\n",
       "        vertical-align: middle;\n",
       "    }\n",
       "\n",
       "    .dataframe tbody tr th {\n",
       "        vertical-align: top;\n",
       "    }\n",
       "\n",
       "    .dataframe thead th {\n",
       "        text-align: right;\n",
       "    }\n",
       "</style>\n",
       "<table border=\"1\" class=\"dataframe\">\n",
       "  <thead>\n",
       "    <tr style=\"text-align: right;\">\n",
       "      <th>nome_curso</th>\n",
       "      <th>ADS</th>\n",
       "      <th>BCC</th>\n",
       "      <th>EC</th>\n",
       "      <th>GTI</th>\n",
       "      <th>LCC</th>\n",
       "      <th>RC</th>\n",
       "      <th>SI</th>\n",
       "    </tr>\n",
       "    <tr>\n",
       "      <th>renda_familiar</th>\n",
       "      <th></th>\n",
       "      <th></th>\n",
       "      <th></th>\n",
       "      <th></th>\n",
       "      <th></th>\n",
       "      <th></th>\n",
       "      <th></th>\n",
       "    </tr>\n",
       "  </thead>\n",
       "  <tbody>\n",
       "    <tr>\n",
       "      <th>10-30</th>\n",
       "      <td>3072.0</td>\n",
       "      <td>5009.0</td>\n",
       "      <td>1648.0</td>\n",
       "      <td>229.0</td>\n",
       "      <td>169.0</td>\n",
       "      <td>1095.0</td>\n",
       "      <td>4992.0</td>\n",
       "    </tr>\n",
       "    <tr>\n",
       "      <th>3-10</th>\n",
       "      <td>17075.0</td>\n",
       "      <td>16245.0</td>\n",
       "      <td>4565.0</td>\n",
       "      <td>1643.0</td>\n",
       "      <td>1475.0</td>\n",
       "      <td>6416.0</td>\n",
       "      <td>22656.0</td>\n",
       "    </tr>\n",
       "    <tr>\n",
       "      <th>30+</th>\n",
       "      <td>203.0</td>\n",
       "      <td>717.0</td>\n",
       "      <td>295.0</td>\n",
       "      <td>15.0</td>\n",
       "      <td>19.0</td>\n",
       "      <td>93.0</td>\n",
       "      <td>464.0</td>\n",
       "    </tr>\n",
       "    <tr>\n",
       "      <th>&lt;3</th>\n",
       "      <td>10006.0</td>\n",
       "      <td>7279.0</td>\n",
       "      <td>1634.0</td>\n",
       "      <td>1316.0</td>\n",
       "      <td>1889.0</td>\n",
       "      <td>3915.0</td>\n",
       "      <td>12165.0</td>\n",
       "    </tr>\n",
       "    <tr>\n",
       "      <th>Nenhuma</th>\n",
       "      <td>1507.0</td>\n",
       "      <td>1538.0</td>\n",
       "      <td>132.0</td>\n",
       "      <td>NaN</td>\n",
       "      <td>NaN</td>\n",
       "      <td>406.0</td>\n",
       "      <td>2700.0</td>\n",
       "    </tr>\n",
       "  </tbody>\n",
       "</table>\n",
       "</div>"
      ]
     },
     "metadata": {},
     "execution_count": 107
    }
   ],
   "metadata": {}
  },
  {
   "cell_type": "code",
   "execution_count": 108,
   "source": [
    "microdados.groupby('renda_familiar').idade.apply(lambda x: x.mode())"
   ],
   "outputs": [
    {
     "output_type": "execute_result",
     "data": {
      "text/plain": [
       "renda_familiar   \n",
       "10-30           0    22\n",
       "3-10            0    22\n",
       "30+             0    22\n",
       "<3              0    22\n",
       "Nenhuma         0    21\n",
       "Name: idade, dtype: int64"
      ]
     },
     "metadata": {},
     "execution_count": 108
    }
   ],
   "metadata": {}
  },
  {
   "cell_type": "code",
   "execution_count": 109,
   "source": [
    "microdados.groupby('renda_familiar').idade.apply(lambda x: x.mean())\n"
   ],
   "outputs": [
    {
     "output_type": "execute_result",
     "data": {
      "text/plain": [
       "renda_familiar\n",
       "10-30      26.347231\n",
       "3-10       26.460706\n",
       "30+        25.032669\n",
       "<3         26.262695\n",
       "Nenhuma    24.819035\n",
       "Name: idade, dtype: float64"
      ]
     },
     "metadata": {},
     "execution_count": 109
    }
   ],
   "metadata": {}
  },
  {
   "cell_type": "code",
   "execution_count": 110,
   "source": [
    "microdados.groupby('renda_familiar').cor_raca.value_counts().unstack()\n"
   ],
   "outputs": [
    {
     "output_type": "execute_result",
     "data": {
      "text/plain": [
       "cor_raca        Amarela  Branca  Indígena  Não Inf.  Parda  Preta\n",
       "renda_familiar                                                   \n",
       "10-30               521   11756        69       115   3137    616\n",
       "3-10               1763   44489       380       659  18197   4587\n",
       "30+                  56    1396        14        19    268     53\n",
       "<3                  921   19378       270       503  13271   3861\n",
       "Nenhuma               3      45         1      6216     15      3"
      ],
      "text/html": [
       "<div>\n",
       "<style scoped>\n",
       "    .dataframe tbody tr th:only-of-type {\n",
       "        vertical-align: middle;\n",
       "    }\n",
       "\n",
       "    .dataframe tbody tr th {\n",
       "        vertical-align: top;\n",
       "    }\n",
       "\n",
       "    .dataframe thead th {\n",
       "        text-align: right;\n",
       "    }\n",
       "</style>\n",
       "<table border=\"1\" class=\"dataframe\">\n",
       "  <thead>\n",
       "    <tr style=\"text-align: right;\">\n",
       "      <th>cor_raca</th>\n",
       "      <th>Amarela</th>\n",
       "      <th>Branca</th>\n",
       "      <th>Indígena</th>\n",
       "      <th>Não Inf.</th>\n",
       "      <th>Parda</th>\n",
       "      <th>Preta</th>\n",
       "    </tr>\n",
       "    <tr>\n",
       "      <th>renda_familiar</th>\n",
       "      <th></th>\n",
       "      <th></th>\n",
       "      <th></th>\n",
       "      <th></th>\n",
       "      <th></th>\n",
       "      <th></th>\n",
       "    </tr>\n",
       "  </thead>\n",
       "  <tbody>\n",
       "    <tr>\n",
       "      <th>10-30</th>\n",
       "      <td>521</td>\n",
       "      <td>11756</td>\n",
       "      <td>69</td>\n",
       "      <td>115</td>\n",
       "      <td>3137</td>\n",
       "      <td>616</td>\n",
       "    </tr>\n",
       "    <tr>\n",
       "      <th>3-10</th>\n",
       "      <td>1763</td>\n",
       "      <td>44489</td>\n",
       "      <td>380</td>\n",
       "      <td>659</td>\n",
       "      <td>18197</td>\n",
       "      <td>4587</td>\n",
       "    </tr>\n",
       "    <tr>\n",
       "      <th>30+</th>\n",
       "      <td>56</td>\n",
       "      <td>1396</td>\n",
       "      <td>14</td>\n",
       "      <td>19</td>\n",
       "      <td>268</td>\n",
       "      <td>53</td>\n",
       "    </tr>\n",
       "    <tr>\n",
       "      <th>&lt;3</th>\n",
       "      <td>921</td>\n",
       "      <td>19378</td>\n",
       "      <td>270</td>\n",
       "      <td>503</td>\n",
       "      <td>13271</td>\n",
       "      <td>3861</td>\n",
       "    </tr>\n",
       "    <tr>\n",
       "      <th>Nenhuma</th>\n",
       "      <td>3</td>\n",
       "      <td>45</td>\n",
       "      <td>1</td>\n",
       "      <td>6216</td>\n",
       "      <td>15</td>\n",
       "      <td>3</td>\n",
       "    </tr>\n",
       "  </tbody>\n",
       "</table>\n",
       "</div>"
      ]
     },
     "metadata": {},
     "execution_count": 110
    }
   ],
   "metadata": {}
  },
  {
   "cell_type": "code",
   "execution_count": 111,
   "source": [
    "plot3D('nome_curso','renda_familiar', 'Quantidade de alunos','Curso',lista_cursos, lista_renda, 'alunos_renda', 0.50,1, 'upper center', labels=renda_label,list_max=23000, list_step=2000)"
   ],
   "outputs": [
    {
     "output_type": "display_data",
     "data": {
      "text/plain": [
       "<Figure size 432x288 with 1 Axes>"
      ],
      "image/png": "[encoded data removed]"
     },
     "metadata": {}
    }
   ],
   "metadata": {}
  },
  {
   "cell_type": "code",
   "execution_count": 112,
   "source": [
    "colunasDataset.remove('renda_familiar')"
   ],
   "outputs": [],
   "metadata": {}
  },
  {
   "cell_type": "markdown",
   "source": [
    "## Alunos por cota"
   ],
   "metadata": {}
  },
  {
   "cell_type": "code",
   "execution_count": 113,
   "source": [
    "lista_cotas = ['Não', 'EM público',  'Renda', 'Renda ou EM público', 'Étnico Racial', 'Outro', '2+']\n",
    "cotas_labels = ['Não', 'EM público',  'Renda', 'Renda ou EM público', 'Étnico Racial', 'Outro tipo', '2 ou mais critérios']"
   ],
   "outputs": [],
   "metadata": {}
  },
  {
   "cell_type": "code",
   "execution_count": 114,
   "source": [
    "microdados.cotas.loc[microdados.cotas != 'Não'].value_counts().sum()"
   ],
   "outputs": [
    {
     "output_type": "execute_result",
     "data": {
      "text/plain": [
       "21907"
      ]
     },
     "metadata": {},
     "execution_count": 114
    }
   ],
   "metadata": {}
  },
  {
   "cell_type": "code",
   "execution_count": 115,
   "source": [
    "microdados.recebeu_cota.value_counts()"
   ],
   "outputs": [
    {
     "output_type": "execute_result",
     "data": {
      "text/plain": [
       "Não    110675\n",
       "Sim     21907\n",
       "Name: recebeu_cota, dtype: int64"
      ]
     },
     "metadata": {},
     "execution_count": 115
    }
   ],
   "metadata": {}
  },
  {
   "cell_type": "code",
   "execution_count": 116,
   "source": [
    "microdados.groupby('recebeu_cota').categoria_adm_IES.value_counts().unstack()"
   ],
   "outputs": [
    {
     "output_type": "execute_result",
     "data": {
      "text/plain": [
       "categoria_adm_IES  IES privada  IES pública\n",
       "recebeu_cota                               \n",
       "Não                      80641        30034\n",
       "Sim                      15126         6781"
      ],
      "text/html": [
       "<div>\n",
       "<style scoped>\n",
       "    .dataframe tbody tr th:only-of-type {\n",
       "        vertical-align: middle;\n",
       "    }\n",
       "\n",
       "    .dataframe tbody tr th {\n",
       "        vertical-align: top;\n",
       "    }\n",
       "\n",
       "    .dataframe thead th {\n",
       "        text-align: right;\n",
       "    }\n",
       "</style>\n",
       "<table border=\"1\" class=\"dataframe\">\n",
       "  <thead>\n",
       "    <tr style=\"text-align: right;\">\n",
       "      <th>categoria_adm_IES</th>\n",
       "      <th>IES privada</th>\n",
       "      <th>IES pública</th>\n",
       "    </tr>\n",
       "    <tr>\n",
       "      <th>recebeu_cota</th>\n",
       "      <th></th>\n",
       "      <th></th>\n",
       "    </tr>\n",
       "  </thead>\n",
       "  <tbody>\n",
       "    <tr>\n",
       "      <th>Não</th>\n",
       "      <td>80641</td>\n",
       "      <td>30034</td>\n",
       "    </tr>\n",
       "    <tr>\n",
       "      <th>Sim</th>\n",
       "      <td>15126</td>\n",
       "      <td>6781</td>\n",
       "    </tr>\n",
       "  </tbody>\n",
       "</table>\n",
       "</div>"
      ]
     },
     "metadata": {},
     "execution_count": 116
    }
   ],
   "metadata": {}
  },
  {
   "cell_type": "code",
   "execution_count": 117,
   "source": [
    "microdados.info()"
   ],
   "outputs": [
    {
     "output_type": "stream",
     "name": "stdout",
     "text": [
      "<class 'pandas.core.frame.DataFrame'>\n",
      "RangeIndex: 132582 entries, 0 to 132581\n",
      "Data columns (total 37 columns):\n",
      " #   Column                          Non-Null Count   Dtype  \n",
      "---  ------                          --------------   -----  \n",
      " 0   ano                             132582 non-null  int64  \n",
      " 1   curso                           132582 non-null  int64  \n",
      " 2   nome_curso                      132582 non-null  object \n",
      " 3   uf                              132582 non-null  object \n",
      " 4   regiao                          132582 non-null  object \n",
      " 5   codigo_IES                      132582 non-null  int64  \n",
      " 6   categoria_adm_IES               132582 non-null  object \n",
      " 7   organizacao_academica           132582 non-null  object \n",
      " 8   turno                           132582 non-null  object \n",
      " 9   ead_presencial                  132582 non-null  object \n",
      " 10  nota_geral                      132582 non-null  float64\n",
      " 11  nota_formacao_geral             132582 non-null  float64\n",
      " 12  nota_obj_formacao_geral         132582 non-null  float64\n",
      " 13  nota_dis_formacao_geral         132582 non-null  float64\n",
      " 14  nota_componente_especifico      132582 non-null  float64\n",
      " 15  nota_obj_componente_especifico  132582 non-null  float64\n",
      " 16  nota_dis_componente_especifico  132582 non-null  float64\n",
      " 17  formatura_ensino_medio          132582 non-null  int64  \n",
      " 18  inicio_graduacao                132582 non-null  int64  \n",
      " 19  tipo_ensino_medio               132582 non-null  object \n",
      " 20  idade                           132582 non-null  int64  \n",
      " 21  range_idade                     132582 non-null  object \n",
      " 22  sexo                            132582 non-null  object \n",
      " 23  cor_raca                        132582 non-null  object \n",
      " 24  escolaridade_pai                132582 non-null  object \n",
      " 25  escolaridade_mae                132582 non-null  object \n",
      " 26  renda_familiar                  132582 non-null  object \n",
      " 27  cotas                           132582 non-null  object \n",
      " 28  recebeu_cota                    132582 non-null  object \n",
      " 29  bolsa_academica                 132582 non-null  object \n",
      " 30  recebeu_bolsa                   132582 non-null  object \n",
      " 31  trabalha                        132582 non-null  object \n",
      " 32  livros_ano                      132582 non-null  object \n",
      " 33  horas_estudo                    132582 non-null  object \n",
      " 34  idade_comeco_graduacao          132582 non-null  int64  \n",
      " 35  tempo_ocioso                    132582 non-null  int64  \n",
      " 36  tempo_cursado                   132582 non-null  int64  \n",
      "dtypes: float64(7), int64(9), object(21)\n",
      "memory usage: 37.4+ MB\n"
     ]
    }
   ],
   "metadata": {}
  },
  {
   "cell_type": "code",
   "execution_count": 118,
   "source": [
    "microdados.groupby('recebeu_cota').cor_raca.value_counts()\n"
   ],
   "outputs": [
    {
     "output_type": "execute_result",
     "data": {
      "text/plain": [
       "recebeu_cota  cor_raca\n",
       "Não           Branca      66035\n",
       "              Parda       27261\n",
       "              Não Inf.     7298\n",
       "              Preta        6670\n",
       "              Amarela      2802\n",
       "              Indígena      609\n",
       "Sim           Branca      11029\n",
       "              Parda        7627\n",
       "              Preta        2450\n",
       "              Amarela       462\n",
       "              Não Inf.      214\n",
       "              Indígena      125\n",
       "Name: cor_raca, dtype: int64"
      ]
     },
     "metadata": {},
     "execution_count": 118
    }
   ],
   "metadata": {}
  },
  {
   "cell_type": "code",
   "execution_count": 119,
   "source": [
    "microdados.groupby('recebeu_cota').escolaridade_pai.value_counts()\n"
   ],
   "outputs": [
    {
     "output_type": "execute_result",
     "data": {
      "text/plain": [
       "recebeu_cota  escolaridade_pai  \n",
       "Não           Ensino Médio          38137\n",
       "              Ensino Fundamental    37097\n",
       "              Ensino Superior       25831\n",
       "              Nenhuma                9610\n",
       "Sim           Ensino Fundamental    10306\n",
       "              Ensino Médio           7607\n",
       "              Ensino Superior        2882\n",
       "              Nenhuma                1112\n",
       "Name: escolaridade_pai, dtype: int64"
      ]
     },
     "metadata": {},
     "execution_count": 119
    }
   ],
   "metadata": {}
  },
  {
   "cell_type": "code",
   "execution_count": 120,
   "source": [
    "microdados.groupby('recebeu_cota').escolaridade_mae.value_counts()"
   ],
   "outputs": [
    {
     "output_type": "execute_result",
     "data": {
      "text/plain": [
       "recebeu_cota  escolaridade_mae  \n",
       "Não           Ensino Médio          39386\n",
       "              Ensino Fundamental    33390\n",
       "              Ensino Superior       29685\n",
       "              Nenhuma                8214\n",
       "Sim           Ensino Fundamental     9259\n",
       "              Ensino Médio           8236\n",
       "              Ensino Superior        3744\n",
       "              Nenhuma                 668\n",
       "Name: escolaridade_mae, dtype: int64"
      ]
     },
     "metadata": {},
     "execution_count": 120
    }
   ],
   "metadata": {}
  },
  {
   "cell_type": "code",
   "execution_count": 121,
   "source": [
    "plot3D('nome_curso','cotas', 'Quantidade de alunos','Curso',lista_cursos, lista_cotas, 'alunos_cota', 0.5,1, 'upper center', labels=cotas_labels,list_max=37000, list_step=3000)"
   ],
   "outputs": [
    {
     "output_type": "display_data",
     "data": {
      "text/plain": [
       "<Figure size 432x288 with 1 Axes>"
      ],
      "image/png": "[encoded data removed]"
     },
     "metadata": {}
    }
   ],
   "metadata": {}
  },
  {
   "cell_type": "code",
   "execution_count": 122,
   "source": [
    "microdados['tipo_cota'] = microdados['cotas'].loc[microdados.cotas != \"Não\"]"
   ],
   "outputs": [],
   "metadata": {}
  },
  {
   "cell_type": "code",
   "execution_count": 123,
   "source": [
    "cotas_labels.remove('Não')\n",
    "lista_cotas.remove('Não')\n"
   ],
   "outputs": [],
   "metadata": {}
  },
  {
   "cell_type": "code",
   "execution_count": 124,
   "source": [
    "plot3D('nome_curso','tipo_cota', 'Quantidade de alunos','Curso',lista_cursos, lista_cotas, 'alunos_cota_tipo', 0.5,1, 'upper center', labels=cotas_labels,list_max=3000, list_step=500)\n"
   ],
   "outputs": [
    {
     "output_type": "display_data",
     "data": {
      "text/plain": [
       "<Figure size 432x288 with 1 Axes>"
      ],
      "image/png": "[encoded data removed]"
     },
     "metadata": {}
    }
   ],
   "metadata": {}
  },
  {
   "cell_type": "code",
   "execution_count": 125,
   "source": [
    "cotas_sn = ['Sim','Não']"
   ],
   "outputs": [],
   "metadata": {}
  },
  {
   "cell_type": "code",
   "execution_count": 126,
   "source": [
    "plot3D('nome_curso','recebeu_cota', 'Quantidade de alunos','Curso',lista_cursos, cotas_sn, 'alunos_cota_sn', 0.5,1, 'upper center', labels=cotas_sn,list_max=37000, list_step=3000)\n"
   ],
   "outputs": [
    {
     "output_type": "display_data",
     "data": {
      "text/plain": [
       "<Figure size 432x288 with 1 Axes>"
      ],
      "image/png": "[encoded data removed]"
     },
     "metadata": {}
    }
   ],
   "metadata": {}
  },
  {
   "cell_type": "code",
   "execution_count": 127,
   "source": [
    "colunasDataset.remove('cotas')"
   ],
   "outputs": [],
   "metadata": {}
  },
  {
   "cell_type": "code",
   "execution_count": 128,
   "source": [
    "colunasDataset.remove('recebeu_cota')"
   ],
   "outputs": [],
   "metadata": {}
  },
  {
   "cell_type": "markdown",
   "source": [
    "## Alunos por bolsa"
   ],
   "metadata": {}
  },
  {
   "cell_type": "code",
   "execution_count": 129,
   "source": [
    "lista_bolsa = ListColumnValues('bolsa_academica')"
   ],
   "outputs": [],
   "metadata": {}
  },
  {
   "cell_type": "code",
   "execution_count": 130,
   "source": [
    "plot3D('nome_curso','bolsa_academica', 'Quantidade de alunos','Curso',lista_cursos, lista_bolsa, 'alunos_bolsa', 0.5,1, 'upper center', list_max=40000, list_step=3000)"
   ],
   "outputs": [
    {
     "output_type": "display_data",
     "data": {
      "text/plain": [
       "<Figure size 432x288 with 1 Axes>"
      ],
      "image/png": "[encoded data removed]"
     },
     "metadata": {}
    }
   ],
   "metadata": {}
  },
  {
   "cell_type": "code",
   "execution_count": 131,
   "source": [
    "lista_bolsa.remove('Nenhum')"
   ],
   "outputs": [],
   "metadata": {}
  },
  {
   "cell_type": "code",
   "execution_count": 132,
   "source": [
    "plot3D('nome_curso','bolsa_academica', 'Quantidade de alunos','Curso',lista_cursos, lista_bolsa, 'alunos_bolsa_tipo', 0.5,1, 'upper center', labels=lista_bolsa, list_max=3000, list_step=500)\n"
   ],
   "outputs": [
    {
     "output_type": "display_data",
     "data": {
      "text/plain": [
       "<Figure size 432x288 with 1 Axes>"
      ],
      "image/png": "[encoded data removed]"
     },
     "metadata": {}
    }
   ],
   "metadata": {}
  },
  {
   "cell_type": "code",
   "execution_count": 133,
   "source": [
    "bolsa_sn = ['Sim','Não']\n"
   ],
   "outputs": [],
   "metadata": {}
  },
  {
   "cell_type": "code",
   "execution_count": 134,
   "source": [
    "plot3D('nome_curso','recebeu_bolsa', 'Quantidade de alunos','Curso',lista_cursos, bolsa_sn, 'alunos_bolsa_sn', 0.5,1, 'upper center', labels=bolsa_sn,list_max=40000, list_step=3000)\n"
   ],
   "outputs": [
    {
     "output_type": "display_data",
     "data": {
      "text/plain": [
       "<Figure size 432x288 with 1 Axes>"
      ],
      "image/png": "[encoded data removed]"
     },
     "metadata": {}
    }
   ],
   "metadata": {}
  },
  {
   "cell_type": "code",
   "execution_count": 135,
   "source": [
    "microdados.bolsa_academica.loc[microdados.bolsa_academica != 'Nenhum'].value_counts().sum()"
   ],
   "outputs": [
    {
     "output_type": "execute_result",
     "data": {
      "text/plain": [
       "15973"
      ]
     },
     "metadata": {},
     "execution_count": 135
    }
   ],
   "metadata": {}
  },
  {
   "cell_type": "code",
   "execution_count": 136,
   "source": [
    "microdados.loc[microdados.bolsa_academica != 'Nenhum'].groupby('bolsa_academica').categoria_adm_IES.value_counts().unstack().sum()"
   ],
   "outputs": [
    {
     "output_type": "execute_result",
     "data": {
      "text/plain": [
       "categoria_adm_IES\n",
       "IES privada    6015\n",
       "IES pública    9958\n",
       "dtype: int64"
      ]
     },
     "metadata": {},
     "execution_count": 136
    }
   ],
   "metadata": {}
  },
  {
   "cell_type": "code",
   "execution_count": 137,
   "source": [
    "microdados.bolsa_academica.loc[microdados.bolsa_academica != 'Nenhum'].value_counts()"
   ],
   "outputs": [
    {
     "output_type": "execute_result",
     "data": {
      "text/plain": [
       "IC           5623\n",
       "Outro        5341\n",
       "Monitoria    2568\n",
       "Extensão     1890\n",
       "PET           551\n",
       "Name: bolsa_academica, dtype: int64"
      ]
     },
     "metadata": {},
     "execution_count": 137
    }
   ],
   "metadata": {}
  },
  {
   "cell_type": "code",
   "execution_count": 138,
   "source": [
    "# x = microdados.groupby(['nome_curso','recebeu_bolsa']).tempo_cursado.mean().unstack() \n",
    "# x['diff'] = 1-(x['Sim'] / x['Não'])\n",
    "# x['diff'].mean()\n",
    "# x\n",
    "# .agg(lambda x: x[2] - x[1])"
   ],
   "outputs": [],
   "metadata": {}
  },
  {
   "cell_type": "code",
   "execution_count": 139,
   "source": [
    "microdados.groupby(['nome_curso','recebeu_bolsa']).tempo_cursado.mean().unstack()"
   ],
   "outputs": [
    {
     "output_type": "execute_result",
     "data": {
      "text/plain": [
       "recebeu_bolsa       Não       Sim\n",
       "nome_curso                       \n",
       "ADS            2.601025  2.870438\n",
       "BCC            4.206396  4.506792\n",
       "EC             4.789628  4.698674\n",
       "GTI            2.496473  2.495575\n",
       "LCC            3.610236  3.922164\n",
       "RC             2.431236  2.678571\n",
       "SI             3.855613  4.123965"
      ],
      "text/html": [
       "<div>\n",
       "<style scoped>\n",
       "    .dataframe tbody tr th:only-of-type {\n",
       "        vertical-align: middle;\n",
       "    }\n",
       "\n",
       "    .dataframe tbody tr th {\n",
       "        vertical-align: top;\n",
       "    }\n",
       "\n",
       "    .dataframe thead th {\n",
       "        text-align: right;\n",
       "    }\n",
       "</style>\n",
       "<table border=\"1\" class=\"dataframe\">\n",
       "  <thead>\n",
       "    <tr style=\"text-align: right;\">\n",
       "      <th>recebeu_bolsa</th>\n",
       "      <th>Não</th>\n",
       "      <th>Sim</th>\n",
       "    </tr>\n",
       "    <tr>\n",
       "      <th>nome_curso</th>\n",
       "      <th></th>\n",
       "      <th></th>\n",
       "    </tr>\n",
       "  </thead>\n",
       "  <tbody>\n",
       "    <tr>\n",
       "      <th>ADS</th>\n",
       "      <td>2.601025</td>\n",
       "      <td>2.870438</td>\n",
       "    </tr>\n",
       "    <tr>\n",
       "      <th>BCC</th>\n",
       "      <td>4.206396</td>\n",
       "      <td>4.506792</td>\n",
       "    </tr>\n",
       "    <tr>\n",
       "      <th>EC</th>\n",
       "      <td>4.789628</td>\n",
       "      <td>4.698674</td>\n",
       "    </tr>\n",
       "    <tr>\n",
       "      <th>GTI</th>\n",
       "      <td>2.496473</td>\n",
       "      <td>2.495575</td>\n",
       "    </tr>\n",
       "    <tr>\n",
       "      <th>LCC</th>\n",
       "      <td>3.610236</td>\n",
       "      <td>3.922164</td>\n",
       "    </tr>\n",
       "    <tr>\n",
       "      <th>RC</th>\n",
       "      <td>2.431236</td>\n",
       "      <td>2.678571</td>\n",
       "    </tr>\n",
       "    <tr>\n",
       "      <th>SI</th>\n",
       "      <td>3.855613</td>\n",
       "      <td>4.123965</td>\n",
       "    </tr>\n",
       "  </tbody>\n",
       "</table>\n",
       "</div>"
      ]
     },
     "metadata": {},
     "execution_count": 139
    }
   ],
   "metadata": {}
  },
  {
   "cell_type": "code",
   "execution_count": 136,
   "source": [
    "colunasDataset.remove('bolsa_academica')"
   ],
   "outputs": [],
   "metadata": {}
  },
  {
   "cell_type": "code",
   "execution_count": 137,
   "source": [
    "colunasDataset.remove('recebeu_bolsa')"
   ],
   "outputs": [],
   "metadata": {}
  },
  {
   "cell_type": "markdown",
   "source": [
    "## Alunos por trabalho"
   ],
   "metadata": {}
  },
  {
   "cell_type": "code",
   "execution_count": 138,
   "source": [
    "lista_trabalho = ListColumnValues('trabalha')\n",
    "lista_trabalho"
   ],
   "outputs": [
    {
     "output_type": "execute_result",
     "data": {
      "text/plain": [
       "['Não', 'Não-Informado', 'Sim']"
      ]
     },
     "metadata": {},
     "execution_count": 138
    }
   ],
   "metadata": {}
  },
  {
   "cell_type": "code",
   "execution_count": 139,
   "source": [
    "microdados.trabalha.value_counts(normalize=True)"
   ],
   "outputs": [
    {
     "output_type": "execute_result",
     "data": {
      "text/plain": [
       "Sim              0.748767\n",
       "Não              0.203565\n",
       "Não-Informado    0.047669\n",
       "Name: trabalha, dtype: float64"
      ]
     },
     "metadata": {},
     "execution_count": 139
    }
   ],
   "metadata": {}
  },
  {
   "cell_type": "code",
   "execution_count": 140,
   "source": [
    "microdados.groupby('trabalha').range_idade.value_counts().unstack()"
   ],
   "outputs": [
    {
     "output_type": "execute_result",
     "data": {
      "text/plain": [
       "range_idade    17-24  25-29  30-39  40-49  50+\n",
       "trabalha                                      \n",
       "Não            20064   4633   1871    337   84\n",
       "Não-Informado   4261   1290    652    106   11\n",
       "Sim            52502  25521  17150   3528  572"
      ],
      "text/html": [
       "<div>\n",
       "<style scoped>\n",
       "    .dataframe tbody tr th:only-of-type {\n",
       "        vertical-align: middle;\n",
       "    }\n",
       "\n",
       "    .dataframe tbody tr th {\n",
       "        vertical-align: top;\n",
       "    }\n",
       "\n",
       "    .dataframe thead th {\n",
       "        text-align: right;\n",
       "    }\n",
       "</style>\n",
       "<table border=\"1\" class=\"dataframe\">\n",
       "  <thead>\n",
       "    <tr style=\"text-align: right;\">\n",
       "      <th>range_idade</th>\n",
       "      <th>17-24</th>\n",
       "      <th>25-29</th>\n",
       "      <th>30-39</th>\n",
       "      <th>40-49</th>\n",
       "      <th>50+</th>\n",
       "    </tr>\n",
       "    <tr>\n",
       "      <th>trabalha</th>\n",
       "      <th></th>\n",
       "      <th></th>\n",
       "      <th></th>\n",
       "      <th></th>\n",
       "      <th></th>\n",
       "    </tr>\n",
       "  </thead>\n",
       "  <tbody>\n",
       "    <tr>\n",
       "      <th>Não</th>\n",
       "      <td>20064</td>\n",
       "      <td>4633</td>\n",
       "      <td>1871</td>\n",
       "      <td>337</td>\n",
       "      <td>84</td>\n",
       "    </tr>\n",
       "    <tr>\n",
       "      <th>Não-Informado</th>\n",
       "      <td>4261</td>\n",
       "      <td>1290</td>\n",
       "      <td>652</td>\n",
       "      <td>106</td>\n",
       "      <td>11</td>\n",
       "    </tr>\n",
       "    <tr>\n",
       "      <th>Sim</th>\n",
       "      <td>52502</td>\n",
       "      <td>25521</td>\n",
       "      <td>17150</td>\n",
       "      <td>3528</td>\n",
       "      <td>572</td>\n",
       "    </tr>\n",
       "  </tbody>\n",
       "</table>\n",
       "</div>"
      ]
     },
     "metadata": {},
     "execution_count": 140
    }
   ],
   "metadata": {}
  },
  {
   "cell_type": "code",
   "execution_count": 141,
   "source": [
    "microdados.groupby('trabalha').categoria_adm_IES.value_counts().unstack()\n"
   ],
   "outputs": [
    {
     "output_type": "execute_result",
     "data": {
      "text/plain": [
       "categoria_adm_IES  IES privada  IES pública\n",
       "trabalha                                   \n",
       "Não                      14981        12008\n",
       "Não-Informado             5144         1176\n",
       "Sim                      75642        23631"
      ],
      "text/html": [
       "<div>\n",
       "<style scoped>\n",
       "    .dataframe tbody tr th:only-of-type {\n",
       "        vertical-align: middle;\n",
       "    }\n",
       "\n",
       "    .dataframe tbody tr th {\n",
       "        vertical-align: top;\n",
       "    }\n",
       "\n",
       "    .dataframe thead th {\n",
       "        text-align: right;\n",
       "    }\n",
       "</style>\n",
       "<table border=\"1\" class=\"dataframe\">\n",
       "  <thead>\n",
       "    <tr style=\"text-align: right;\">\n",
       "      <th>categoria_adm_IES</th>\n",
       "      <th>IES privada</th>\n",
       "      <th>IES pública</th>\n",
       "    </tr>\n",
       "    <tr>\n",
       "      <th>trabalha</th>\n",
       "      <th></th>\n",
       "      <th></th>\n",
       "    </tr>\n",
       "  </thead>\n",
       "  <tbody>\n",
       "    <tr>\n",
       "      <th>Não</th>\n",
       "      <td>14981</td>\n",
       "      <td>12008</td>\n",
       "    </tr>\n",
       "    <tr>\n",
       "      <th>Não-Informado</th>\n",
       "      <td>5144</td>\n",
       "      <td>1176</td>\n",
       "    </tr>\n",
       "    <tr>\n",
       "      <th>Sim</th>\n",
       "      <td>75642</td>\n",
       "      <td>23631</td>\n",
       "    </tr>\n",
       "  </tbody>\n",
       "</table>\n",
       "</div>"
      ]
     },
     "metadata": {},
     "execution_count": 141
    }
   ],
   "metadata": {}
  },
  {
   "cell_type": "code",
   "execution_count": 142,
   "source": [
    "microdados.groupby('trabalha').ead_presencial.value_counts().unstack()"
   ],
   "outputs": [
    {
     "output_type": "execute_result",
     "data": {
      "text/plain": [
       "ead_presencial   EAD  Não-Informado  Presencial\n",
       "trabalha                                       \n",
       "Não              977            913       25099\n",
       "Não-Informado      2           6267          51\n",
       "Sim             8349          11286       79638"
      ],
      "text/html": [
       "<div>\n",
       "<style scoped>\n",
       "    .dataframe tbody tr th:only-of-type {\n",
       "        vertical-align: middle;\n",
       "    }\n",
       "\n",
       "    .dataframe tbody tr th {\n",
       "        vertical-align: top;\n",
       "    }\n",
       "\n",
       "    .dataframe thead th {\n",
       "        text-align: right;\n",
       "    }\n",
       "</style>\n",
       "<table border=\"1\" class=\"dataframe\">\n",
       "  <thead>\n",
       "    <tr style=\"text-align: right;\">\n",
       "      <th>ead_presencial</th>\n",
       "      <th>EAD</th>\n",
       "      <th>Não-Informado</th>\n",
       "      <th>Presencial</th>\n",
       "    </tr>\n",
       "    <tr>\n",
       "      <th>trabalha</th>\n",
       "      <th></th>\n",
       "      <th></th>\n",
       "      <th></th>\n",
       "    </tr>\n",
       "  </thead>\n",
       "  <tbody>\n",
       "    <tr>\n",
       "      <th>Não</th>\n",
       "      <td>977</td>\n",
       "      <td>913</td>\n",
       "      <td>25099</td>\n",
       "    </tr>\n",
       "    <tr>\n",
       "      <th>Não-Informado</th>\n",
       "      <td>2</td>\n",
       "      <td>6267</td>\n",
       "      <td>51</td>\n",
       "    </tr>\n",
       "    <tr>\n",
       "      <th>Sim</th>\n",
       "      <td>8349</td>\n",
       "      <td>11286</td>\n",
       "      <td>79638</td>\n",
       "    </tr>\n",
       "  </tbody>\n",
       "</table>\n",
       "</div>"
      ]
     },
     "metadata": {},
     "execution_count": 142
    }
   ],
   "metadata": {}
  },
  {
   "cell_type": "code",
   "execution_count": 143,
   "source": [
    "microdados.groupby('trabalha').turno.value_counts().unstack()"
   ],
   "outputs": [
    {
     "output_type": "execute_result",
     "data": {
      "text/plain": [
       "turno           Diurno  Integral  Noturno  Não-Informado\n",
       "trabalha                                                \n",
       "Não             6345.0    6209.0  14435.0            NaN\n",
       "Não-Informado    682.0     401.0   5207.0           30.0\n",
       "Sim            10909.0    9874.0  78460.0           30.0"
      ],
      "text/html": [
       "<div>\n",
       "<style scoped>\n",
       "    .dataframe tbody tr th:only-of-type {\n",
       "        vertical-align: middle;\n",
       "    }\n",
       "\n",
       "    .dataframe tbody tr th {\n",
       "        vertical-align: top;\n",
       "    }\n",
       "\n",
       "    .dataframe thead th {\n",
       "        text-align: right;\n",
       "    }\n",
       "</style>\n",
       "<table border=\"1\" class=\"dataframe\">\n",
       "  <thead>\n",
       "    <tr style=\"text-align: right;\">\n",
       "      <th>turno</th>\n",
       "      <th>Diurno</th>\n",
       "      <th>Integral</th>\n",
       "      <th>Noturno</th>\n",
       "      <th>Não-Informado</th>\n",
       "    </tr>\n",
       "    <tr>\n",
       "      <th>trabalha</th>\n",
       "      <th></th>\n",
       "      <th></th>\n",
       "      <th></th>\n",
       "      <th></th>\n",
       "    </tr>\n",
       "  </thead>\n",
       "  <tbody>\n",
       "    <tr>\n",
       "      <th>Não</th>\n",
       "      <td>6345.0</td>\n",
       "      <td>6209.0</td>\n",
       "      <td>14435.0</td>\n",
       "      <td>NaN</td>\n",
       "    </tr>\n",
       "    <tr>\n",
       "      <th>Não-Informado</th>\n",
       "      <td>682.0</td>\n",
       "      <td>401.0</td>\n",
       "      <td>5207.0</td>\n",
       "      <td>30.0</td>\n",
       "    </tr>\n",
       "    <tr>\n",
       "      <th>Sim</th>\n",
       "      <td>10909.0</td>\n",
       "      <td>9874.0</td>\n",
       "      <td>78460.0</td>\n",
       "      <td>30.0</td>\n",
       "    </tr>\n",
       "  </tbody>\n",
       "</table>\n",
       "</div>"
      ]
     },
     "metadata": {},
     "execution_count": 143
    }
   ],
   "metadata": {}
  },
  {
   "cell_type": "code",
   "execution_count": 144,
   "source": [
    "microdados.groupby('trabalha').renda_familiar.value_counts(normalize=True).unstack()"
   ],
   "outputs": [
    {
     "output_type": "execute_result",
     "data": {
      "text/plain": [
       "renda_familiar     10-30      3-10       30+        <3   Nenhuma\n",
       "trabalha                                                        \n",
       "Não             0.100745  0.451999  0.014784  0.431991  0.000482\n",
       "Não-Informado   0.002690  0.009019  0.000316  0.004272  0.983703\n",
       "Sim             0.135767  0.582424  0.014153  0.267122  0.000534"
      ],
      "text/html": [
       "<div>\n",
       "<style scoped>\n",
       "    .dataframe tbody tr th:only-of-type {\n",
       "        vertical-align: middle;\n",
       "    }\n",
       "\n",
       "    .dataframe tbody tr th {\n",
       "        vertical-align: top;\n",
       "    }\n",
       "\n",
       "    .dataframe thead th {\n",
       "        text-align: right;\n",
       "    }\n",
       "</style>\n",
       "<table border=\"1\" class=\"dataframe\">\n",
       "  <thead>\n",
       "    <tr style=\"text-align: right;\">\n",
       "      <th>renda_familiar</th>\n",
       "      <th>10-30</th>\n",
       "      <th>3-10</th>\n",
       "      <th>30+</th>\n",
       "      <th>&lt;3</th>\n",
       "      <th>Nenhuma</th>\n",
       "    </tr>\n",
       "    <tr>\n",
       "      <th>trabalha</th>\n",
       "      <th></th>\n",
       "      <th></th>\n",
       "      <th></th>\n",
       "      <th></th>\n",
       "      <th></th>\n",
       "    </tr>\n",
       "  </thead>\n",
       "  <tbody>\n",
       "    <tr>\n",
       "      <th>Não</th>\n",
       "      <td>0.100745</td>\n",
       "      <td>0.451999</td>\n",
       "      <td>0.014784</td>\n",
       "      <td>0.431991</td>\n",
       "      <td>0.000482</td>\n",
       "    </tr>\n",
       "    <tr>\n",
       "      <th>Não-Informado</th>\n",
       "      <td>0.002690</td>\n",
       "      <td>0.009019</td>\n",
       "      <td>0.000316</td>\n",
       "      <td>0.004272</td>\n",
       "      <td>0.983703</td>\n",
       "    </tr>\n",
       "    <tr>\n",
       "      <th>Sim</th>\n",
       "      <td>0.135767</td>\n",
       "      <td>0.582424</td>\n",
       "      <td>0.014153</td>\n",
       "      <td>0.267122</td>\n",
       "      <td>0.000534</td>\n",
       "    </tr>\n",
       "  </tbody>\n",
       "</table>\n",
       "</div>"
      ]
     },
     "metadata": {},
     "execution_count": 144
    }
   ],
   "metadata": {}
  },
  {
   "cell_type": "code",
   "execution_count": 145,
   "source": [
    "plot3D('nome_curso','trabalha', 'Quantidade de alunos','Curso',lista_cursos, lista_trabalho, 'alunos_trabalho', 0.5,1, 'upper center', list_max=34000, list_step=3000)"
   ],
   "outputs": [
    {
     "output_type": "display_data",
     "data": {
      "text/plain": [
       "<Figure size 432x288 with 1 Axes>"
      ],
      "image/png": "[encoded data removed]"
     },
     "metadata": {}
    }
   ],
   "metadata": {}
  },
  {
   "cell_type": "code",
   "execution_count": 146,
   "source": [
    "colunasDataset.remove('trabalha')"
   ],
   "outputs": [],
   "metadata": {}
  },
  {
   "cell_type": "markdown",
   "source": [
    "## Alunos por livro"
   ],
   "metadata": {}
  },
  {
   "cell_type": "code",
   "execution_count": 147,
   "source": [
    "lista_livro = ListColumnValues('livros_ano')\n",
    "livro_labels = ['Nenhum', '1-2', '3-5', '6-8', 'Mais que 8']"
   ],
   "outputs": [],
   "metadata": {}
  },
  {
   "cell_type": "code",
   "execution_count": 148,
   "source": [
    "microdados.livros_ano.value_counts()"
   ],
   "outputs": [
    {
     "output_type": "execute_result",
     "data": {
      "text/plain": [
       "1/2    48901\n",
       "3-5    33803\n",
       "0      30409\n",
       "8+     10619\n",
       "6-8     8850\n",
       "Name: livros_ano, dtype: int64"
      ]
     },
     "metadata": {},
     "execution_count": 148
    }
   ],
   "metadata": {}
  },
  {
   "cell_type": "code",
   "execution_count": 149,
   "source": [
    "microdados.livros_ano.value_counts(normalize=True)\n"
   ],
   "outputs": [
    {
     "output_type": "execute_result",
     "data": {
      "text/plain": [
       "1/2    0.368836\n",
       "3-5    0.254959\n",
       "0      0.229360\n",
       "8+     0.080094\n",
       "6-8    0.066751\n",
       "Name: livros_ano, dtype: float64"
      ]
     },
     "metadata": {},
     "execution_count": 149
    }
   ],
   "metadata": {}
  },
  {
   "cell_type": "code",
   "execution_count": 150,
   "source": [
    "microdados.groupby('ead_presencial').livros_ano.value_counts(normalize=True).unstack()"
   ],
   "outputs": [
    {
     "output_type": "execute_result",
     "data": {
      "text/plain": [
       "livros_ano             0       1/2       3-5       6-8        8+\n",
       "ead_presencial                                                  \n",
       "EAD             0.154588  0.367817  0.276265  0.084584  0.116745\n",
       "Não-Informado   0.498213  0.240009  0.177570  0.042402  0.041807\n",
       "Presencial      0.188638  0.391629  0.266700  0.069455  0.083578"
      ],
      "text/html": [
       "<div>\n",
       "<style scoped>\n",
       "    .dataframe tbody tr th:only-of-type {\n",
       "        vertical-align: middle;\n",
       "    }\n",
       "\n",
       "    .dataframe tbody tr th {\n",
       "        vertical-align: top;\n",
       "    }\n",
       "\n",
       "    .dataframe thead th {\n",
       "        text-align: right;\n",
       "    }\n",
       "</style>\n",
       "<table border=\"1\" class=\"dataframe\">\n",
       "  <thead>\n",
       "    <tr style=\"text-align: right;\">\n",
       "      <th>livros_ano</th>\n",
       "      <th>0</th>\n",
       "      <th>1/2</th>\n",
       "      <th>3-5</th>\n",
       "      <th>6-8</th>\n",
       "      <th>8+</th>\n",
       "    </tr>\n",
       "    <tr>\n",
       "      <th>ead_presencial</th>\n",
       "      <th></th>\n",
       "      <th></th>\n",
       "      <th></th>\n",
       "      <th></th>\n",
       "      <th></th>\n",
       "    </tr>\n",
       "  </thead>\n",
       "  <tbody>\n",
       "    <tr>\n",
       "      <th>EAD</th>\n",
       "      <td>0.154588</td>\n",
       "      <td>0.367817</td>\n",
       "      <td>0.276265</td>\n",
       "      <td>0.084584</td>\n",
       "      <td>0.116745</td>\n",
       "    </tr>\n",
       "    <tr>\n",
       "      <th>Não-Informado</th>\n",
       "      <td>0.498213</td>\n",
       "      <td>0.240009</td>\n",
       "      <td>0.177570</td>\n",
       "      <td>0.042402</td>\n",
       "      <td>0.041807</td>\n",
       "    </tr>\n",
       "    <tr>\n",
       "      <th>Presencial</th>\n",
       "      <td>0.188638</td>\n",
       "      <td>0.391629</td>\n",
       "      <td>0.266700</td>\n",
       "      <td>0.069455</td>\n",
       "      <td>0.083578</td>\n",
       "    </tr>\n",
       "  </tbody>\n",
       "</table>\n",
       "</div>"
      ]
     },
     "metadata": {},
     "execution_count": 150
    }
   ],
   "metadata": {}
  },
  {
   "cell_type": "code",
   "execution_count": 151,
   "source": [
    "microdados.groupby('categoria_adm_IES').livros_ano.value_counts(normalize=True).unstack()\n"
   ],
   "outputs": [
    {
     "output_type": "execute_result",
     "data": {
      "text/plain": [
       "livros_ano                0       1/2       3-5       6-8        8+\n",
       "categoria_adm_IES                                                  \n",
       "IES privada        0.230434  0.371119  0.254085  0.065973  0.078388\n",
       "IES pública        0.226565  0.362896  0.257232  0.068776  0.084531"
      ],
      "text/html": [
       "<div>\n",
       "<style scoped>\n",
       "    .dataframe tbody tr th:only-of-type {\n",
       "        vertical-align: middle;\n",
       "    }\n",
       "\n",
       "    .dataframe tbody tr th {\n",
       "        vertical-align: top;\n",
       "    }\n",
       "\n",
       "    .dataframe thead th {\n",
       "        text-align: right;\n",
       "    }\n",
       "</style>\n",
       "<table border=\"1\" class=\"dataframe\">\n",
       "  <thead>\n",
       "    <tr style=\"text-align: right;\">\n",
       "      <th>livros_ano</th>\n",
       "      <th>0</th>\n",
       "      <th>1/2</th>\n",
       "      <th>3-5</th>\n",
       "      <th>6-8</th>\n",
       "      <th>8+</th>\n",
       "    </tr>\n",
       "    <tr>\n",
       "      <th>categoria_adm_IES</th>\n",
       "      <th></th>\n",
       "      <th></th>\n",
       "      <th></th>\n",
       "      <th></th>\n",
       "      <th></th>\n",
       "    </tr>\n",
       "  </thead>\n",
       "  <tbody>\n",
       "    <tr>\n",
       "      <th>IES privada</th>\n",
       "      <td>0.230434</td>\n",
       "      <td>0.371119</td>\n",
       "      <td>0.254085</td>\n",
       "      <td>0.065973</td>\n",
       "      <td>0.078388</td>\n",
       "    </tr>\n",
       "    <tr>\n",
       "      <th>IES pública</th>\n",
       "      <td>0.226565</td>\n",
       "      <td>0.362896</td>\n",
       "      <td>0.257232</td>\n",
       "      <td>0.068776</td>\n",
       "      <td>0.084531</td>\n",
       "    </tr>\n",
       "  </tbody>\n",
       "</table>\n",
       "</div>"
      ]
     },
     "metadata": {},
     "execution_count": 151
    }
   ],
   "metadata": {}
  },
  {
   "cell_type": "code",
   "execution_count": 152,
   "source": [
    "microdados.groupby('tipo_ensino_medio').livros_ano.value_counts(normalize=True).unstack()\n"
   ],
   "outputs": [
    {
     "output_type": "execute_result",
     "data": {
      "text/plain": [
       "livros_ano                0       1/2       3-5       6-8        8+\n",
       "tipo_ensino_medio                                                  \n",
       "Exterior           0.192171  0.348754  0.238434  0.096085  0.124555\n",
       "Não-Informado      0.990779  0.005246  0.002226  0.000636  0.001113\n",
       "Particular         0.205474  0.381200  0.264219  0.066485  0.082622\n",
       "Pública            0.184613  0.389863  0.269260  0.071687  0.084576"
      ],
      "text/html": [
       "<div>\n",
       "<style scoped>\n",
       "    .dataframe tbody tr th:only-of-type {\n",
       "        vertical-align: middle;\n",
       "    }\n",
       "\n",
       "    .dataframe tbody tr th {\n",
       "        vertical-align: top;\n",
       "    }\n",
       "\n",
       "    .dataframe thead th {\n",
       "        text-align: right;\n",
       "    }\n",
       "</style>\n",
       "<table border=\"1\" class=\"dataframe\">\n",
       "  <thead>\n",
       "    <tr style=\"text-align: right;\">\n",
       "      <th>livros_ano</th>\n",
       "      <th>0</th>\n",
       "      <th>1/2</th>\n",
       "      <th>3-5</th>\n",
       "      <th>6-8</th>\n",
       "      <th>8+</th>\n",
       "    </tr>\n",
       "    <tr>\n",
       "      <th>tipo_ensino_medio</th>\n",
       "      <th></th>\n",
       "      <th></th>\n",
       "      <th></th>\n",
       "      <th></th>\n",
       "      <th></th>\n",
       "    </tr>\n",
       "  </thead>\n",
       "  <tbody>\n",
       "    <tr>\n",
       "      <th>Exterior</th>\n",
       "      <td>0.192171</td>\n",
       "      <td>0.348754</td>\n",
       "      <td>0.238434</td>\n",
       "      <td>0.096085</td>\n",
       "      <td>0.124555</td>\n",
       "    </tr>\n",
       "    <tr>\n",
       "      <th>Não-Informado</th>\n",
       "      <td>0.990779</td>\n",
       "      <td>0.005246</td>\n",
       "      <td>0.002226</td>\n",
       "      <td>0.000636</td>\n",
       "      <td>0.001113</td>\n",
       "    </tr>\n",
       "    <tr>\n",
       "      <th>Particular</th>\n",
       "      <td>0.205474</td>\n",
       "      <td>0.381200</td>\n",
       "      <td>0.264219</td>\n",
       "      <td>0.066485</td>\n",
       "      <td>0.082622</td>\n",
       "    </tr>\n",
       "    <tr>\n",
       "      <th>Pública</th>\n",
       "      <td>0.184613</td>\n",
       "      <td>0.389863</td>\n",
       "      <td>0.269260</td>\n",
       "      <td>0.071687</td>\n",
       "      <td>0.084576</td>\n",
       "    </tr>\n",
       "  </tbody>\n",
       "</table>\n",
       "</div>"
      ]
     },
     "metadata": {},
     "execution_count": 152
    }
   ],
   "metadata": {}
  },
  {
   "cell_type": "code",
   "execution_count": 153,
   "source": [
    "microdados.groupby('escolaridade_pai').livros_ano.value_counts(normalize=True).unstack()\n"
   ],
   "outputs": [
    {
     "output_type": "execute_result",
     "data": {
      "text/plain": [
       "livros_ano                 0       1/2       3-5       6-8        8+\n",
       "escolaridade_pai                                                    \n",
       "Ensino Fundamental  0.182879  0.394258  0.271228  0.070439  0.081197\n",
       "Ensino Médio        0.193315  0.389516  0.266877  0.069364  0.080929\n",
       "Ensino Superior     0.202104  0.371539  0.262982  0.069690  0.093686\n",
       "Nenhuma             0.661630  0.160977  0.110707  0.031431  0.035255"
      ],
      "text/html": [
       "<div>\n",
       "<style scoped>\n",
       "    .dataframe tbody tr th:only-of-type {\n",
       "        vertical-align: middle;\n",
       "    }\n",
       "\n",
       "    .dataframe tbody tr th {\n",
       "        vertical-align: top;\n",
       "    }\n",
       "\n",
       "    .dataframe thead th {\n",
       "        text-align: right;\n",
       "    }\n",
       "</style>\n",
       "<table border=\"1\" class=\"dataframe\">\n",
       "  <thead>\n",
       "    <tr style=\"text-align: right;\">\n",
       "      <th>livros_ano</th>\n",
       "      <th>0</th>\n",
       "      <th>1/2</th>\n",
       "      <th>3-5</th>\n",
       "      <th>6-8</th>\n",
       "      <th>8+</th>\n",
       "    </tr>\n",
       "    <tr>\n",
       "      <th>escolaridade_pai</th>\n",
       "      <th></th>\n",
       "      <th></th>\n",
       "      <th></th>\n",
       "      <th></th>\n",
       "      <th></th>\n",
       "    </tr>\n",
       "  </thead>\n",
       "  <tbody>\n",
       "    <tr>\n",
       "      <th>Ensino Fundamental</th>\n",
       "      <td>0.182879</td>\n",
       "      <td>0.394258</td>\n",
       "      <td>0.271228</td>\n",
       "      <td>0.070439</td>\n",
       "      <td>0.081197</td>\n",
       "    </tr>\n",
       "    <tr>\n",
       "      <th>Ensino Médio</th>\n",
       "      <td>0.193315</td>\n",
       "      <td>0.389516</td>\n",
       "      <td>0.266877</td>\n",
       "      <td>0.069364</td>\n",
       "      <td>0.080929</td>\n",
       "    </tr>\n",
       "    <tr>\n",
       "      <th>Ensino Superior</th>\n",
       "      <td>0.202104</td>\n",
       "      <td>0.371539</td>\n",
       "      <td>0.262982</td>\n",
       "      <td>0.069690</td>\n",
       "      <td>0.093686</td>\n",
       "    </tr>\n",
       "    <tr>\n",
       "      <th>Nenhuma</th>\n",
       "      <td>0.661630</td>\n",
       "      <td>0.160977</td>\n",
       "      <td>0.110707</td>\n",
       "      <td>0.031431</td>\n",
       "      <td>0.035255</td>\n",
       "    </tr>\n",
       "  </tbody>\n",
       "</table>\n",
       "</div>"
      ]
     },
     "metadata": {},
     "execution_count": 153
    }
   ],
   "metadata": {}
  },
  {
   "cell_type": "code",
   "execution_count": 154,
   "source": [
    "plot3D('nome_curso','livros_ano', 'Quantidade de alunos','Curso',lista_cursos, lista_livro, 'alunos_livros', 0.5,1, 'upper center',labels=livro_labels, list_max=17000, list_step=2000)"
   ],
   "outputs": [
    {
     "output_type": "display_data",
     "data": {
      "text/plain": [
       "<Figure size 432x288 with 1 Axes>"
      ],
      "image/png": "[encoded data removed]"
     },
     "metadata": {}
    }
   ],
   "metadata": {}
  },
  {
   "cell_type": "code",
   "execution_count": 155,
   "source": [
    "colunasDataset.remove('livros_ano')"
   ],
   "outputs": [],
   "metadata": {}
  },
  {
   "cell_type": "markdown",
   "source": [
    "## Alunos por horas estudo"
   ],
   "metadata": {}
  },
  {
   "cell_type": "code",
   "execution_count": 156,
   "source": [
    "lista_horas = ['0','<3', '3-8', '8+']\n",
    "horas_labels = ['Nenhuma','Menos que 3', '3-8', 'Mais que 8']"
   ],
   "outputs": [],
   "metadata": {}
  },
  {
   "cell_type": "code",
   "execution_count": 157,
   "source": [
    "microdados.horas_estudo.value_counts()"
   ],
   "outputs": [
    {
     "output_type": "execute_result",
     "data": {
      "text/plain": [
       "<3     55170\n",
       "3-8    36151\n",
       "8+     23695\n",
       "0      17566\n",
       "Name: horas_estudo, dtype: int64"
      ]
     },
     "metadata": {},
     "execution_count": 157
    }
   ],
   "metadata": {}
  },
  {
   "cell_type": "code",
   "execution_count": 158,
   "source": [
    "microdados.loc[microdados.livros_ano != '0'].horas_estudo.value_counts()"
   ],
   "outputs": [
    {
     "output_type": "execute_result",
     "data": {
      "text/plain": [
       "<3     44046\n",
       "3-8    31102\n",
       "8+     20672\n",
       "0       6353\n",
       "Name: horas_estudo, dtype: int64"
      ]
     },
     "metadata": {},
     "execution_count": 158
    }
   ],
   "metadata": {}
  },
  {
   "cell_type": "code",
   "execution_count": 159,
   "source": [
    "microdados.loc[microdados.livros_ano == '0'].horas_estudo.value_counts()\n"
   ],
   "outputs": [
    {
     "output_type": "execute_result",
     "data": {
      "text/plain": [
       "0      11213\n",
       "<3     11124\n",
       "3-8     5049\n",
       "8+      3023\n",
       "Name: horas_estudo, dtype: int64"
      ]
     },
     "metadata": {},
     "execution_count": 159
    }
   ],
   "metadata": {}
  },
  {
   "cell_type": "code",
   "execution_count": 160,
   "source": [
    "microdados.groupby('categoria_adm_IES').horas_estudo.value_counts(normalize=True).unstack()*100\n"
   ],
   "outputs": [
    {
     "output_type": "execute_result",
     "data": {
      "text/plain": [
       "horas_estudo               0        3-8         8+         <3\n",
       "categoria_adm_IES                                            \n",
       "IES privada        14.449654  26.642789  15.389435  43.518122\n",
       "IES pública        10.126307  28.890398  24.329757  36.653538"
      ],
      "text/html": [
       "<div>\n",
       "<style scoped>\n",
       "    .dataframe tbody tr th:only-of-type {\n",
       "        vertical-align: middle;\n",
       "    }\n",
       "\n",
       "    .dataframe tbody tr th {\n",
       "        vertical-align: top;\n",
       "    }\n",
       "\n",
       "    .dataframe thead th {\n",
       "        text-align: right;\n",
       "    }\n",
       "</style>\n",
       "<table border=\"1\" class=\"dataframe\">\n",
       "  <thead>\n",
       "    <tr style=\"text-align: right;\">\n",
       "      <th>horas_estudo</th>\n",
       "      <th>0</th>\n",
       "      <th>3-8</th>\n",
       "      <th>8+</th>\n",
       "      <th>&lt;3</th>\n",
       "    </tr>\n",
       "    <tr>\n",
       "      <th>categoria_adm_IES</th>\n",
       "      <th></th>\n",
       "      <th></th>\n",
       "      <th></th>\n",
       "      <th></th>\n",
       "    </tr>\n",
       "  </thead>\n",
       "  <tbody>\n",
       "    <tr>\n",
       "      <th>IES privada</th>\n",
       "      <td>14.449654</td>\n",
       "      <td>26.642789</td>\n",
       "      <td>15.389435</td>\n",
       "      <td>43.518122</td>\n",
       "    </tr>\n",
       "    <tr>\n",
       "      <th>IES pública</th>\n",
       "      <td>10.126307</td>\n",
       "      <td>28.890398</td>\n",
       "      <td>24.329757</td>\n",
       "      <td>36.653538</td>\n",
       "    </tr>\n",
       "  </tbody>\n",
       "</table>\n",
       "</div>"
      ]
     },
     "metadata": {},
     "execution_count": 160
    }
   ],
   "metadata": {}
  },
  {
   "cell_type": "code",
   "execution_count": 161,
   "source": [
    "microdados.groupby('ead_presencial').horas_estudo.value_counts(normalize=True).unstack()*100\n"
   ],
   "outputs": [
    {
     "output_type": "execute_result",
     "data": {
      "text/plain": [
       "horas_estudo            0        3-8         8+         <3\n",
       "ead_presencial                                            \n",
       "EAD              5.735420  30.124357  24.078045  40.062178\n",
       "Não-Informado   41.958193  26.286148   5.902740  25.852919\n",
       "Presencial       8.858839  27.185365  19.428751  44.527045"
      ],
      "text/html": [
       "<div>\n",
       "<style scoped>\n",
       "    .dataframe tbody tr th:only-of-type {\n",
       "        vertical-align: middle;\n",
       "    }\n",
       "\n",
       "    .dataframe tbody tr th {\n",
       "        vertical-align: top;\n",
       "    }\n",
       "\n",
       "    .dataframe thead th {\n",
       "        text-align: right;\n",
       "    }\n",
       "</style>\n",
       "<table border=\"1\" class=\"dataframe\">\n",
       "  <thead>\n",
       "    <tr style=\"text-align: right;\">\n",
       "      <th>horas_estudo</th>\n",
       "      <th>0</th>\n",
       "      <th>3-8</th>\n",
       "      <th>8+</th>\n",
       "      <th>&lt;3</th>\n",
       "    </tr>\n",
       "    <tr>\n",
       "      <th>ead_presencial</th>\n",
       "      <th></th>\n",
       "      <th></th>\n",
       "      <th></th>\n",
       "      <th></th>\n",
       "    </tr>\n",
       "  </thead>\n",
       "  <tbody>\n",
       "    <tr>\n",
       "      <th>EAD</th>\n",
       "      <td>5.735420</td>\n",
       "      <td>30.124357</td>\n",
       "      <td>24.078045</td>\n",
       "      <td>40.062178</td>\n",
       "    </tr>\n",
       "    <tr>\n",
       "      <th>Não-Informado</th>\n",
       "      <td>41.958193</td>\n",
       "      <td>26.286148</td>\n",
       "      <td>5.902740</td>\n",
       "      <td>25.852919</td>\n",
       "    </tr>\n",
       "    <tr>\n",
       "      <th>Presencial</th>\n",
       "      <td>8.858839</td>\n",
       "      <td>27.185365</td>\n",
       "      <td>19.428751</td>\n",
       "      <td>44.527045</td>\n",
       "    </tr>\n",
       "  </tbody>\n",
       "</table>\n",
       "</div>"
      ]
     },
     "metadata": {},
     "execution_count": 161
    }
   ],
   "metadata": {}
  },
  {
   "cell_type": "code",
   "execution_count": 162,
   "source": [
    "microdados.groupby('turno').horas_estudo.value_counts(normalize=True).unstack()*100\n",
    "\n"
   ],
   "outputs": [
    {
     "output_type": "execute_result",
     "data": {
      "text/plain": [
       "horas_estudo           0        3-8         8+         <3\n",
       "turno                                                    \n",
       "Diurno         11.044826  28.367529  20.316682  40.270963\n",
       "Integral        8.214026  30.726765  29.883523  31.175686\n",
       "Noturno        14.468614  26.488757  15.416607  43.626022\n",
       "Não-Informado  61.666667  20.000000   1.666667  16.666667"
      ],
      "text/html": [
       "<div>\n",
       "<style scoped>\n",
       "    .dataframe tbody tr th:only-of-type {\n",
       "        vertical-align: middle;\n",
       "    }\n",
       "\n",
       "    .dataframe tbody tr th {\n",
       "        vertical-align: top;\n",
       "    }\n",
       "\n",
       "    .dataframe thead th {\n",
       "        text-align: right;\n",
       "    }\n",
       "</style>\n",
       "<table border=\"1\" class=\"dataframe\">\n",
       "  <thead>\n",
       "    <tr style=\"text-align: right;\">\n",
       "      <th>horas_estudo</th>\n",
       "      <th>0</th>\n",
       "      <th>3-8</th>\n",
       "      <th>8+</th>\n",
       "      <th>&lt;3</th>\n",
       "    </tr>\n",
       "    <tr>\n",
       "      <th>turno</th>\n",
       "      <th></th>\n",
       "      <th></th>\n",
       "      <th></th>\n",
       "      <th></th>\n",
       "    </tr>\n",
       "  </thead>\n",
       "  <tbody>\n",
       "    <tr>\n",
       "      <th>Diurno</th>\n",
       "      <td>11.044826</td>\n",
       "      <td>28.367529</td>\n",
       "      <td>20.316682</td>\n",
       "      <td>40.270963</td>\n",
       "    </tr>\n",
       "    <tr>\n",
       "      <th>Integral</th>\n",
       "      <td>8.214026</td>\n",
       "      <td>30.726765</td>\n",
       "      <td>29.883523</td>\n",
       "      <td>31.175686</td>\n",
       "    </tr>\n",
       "    <tr>\n",
       "      <th>Noturno</th>\n",
       "      <td>14.468614</td>\n",
       "      <td>26.488757</td>\n",
       "      <td>15.416607</td>\n",
       "      <td>43.626022</td>\n",
       "    </tr>\n",
       "    <tr>\n",
       "      <th>Não-Informado</th>\n",
       "      <td>61.666667</td>\n",
       "      <td>20.000000</td>\n",
       "      <td>1.666667</td>\n",
       "      <td>16.666667</td>\n",
       "    </tr>\n",
       "  </tbody>\n",
       "</table>\n",
       "</div>"
      ]
     },
     "metadata": {},
     "execution_count": 162
    }
   ],
   "metadata": {}
  },
  {
   "cell_type": "code",
   "execution_count": 163,
   "source": [
    "microdados.groupby('tipo_ensino_medio').horas_estudo.value_counts(normalize=True).unstack()*100\n"
   ],
   "outputs": [
    {
     "output_type": "execute_result",
     "data": {
      "text/plain": [
       "horas_estudo               0        3-8         8+         <3\n",
       "tipo_ensino_medio                                            \n",
       "Exterior            9.608541  33.451957  28.469751  28.469751\n",
       "Não-Informado      98.982512   0.317965   0.143084   0.556439\n",
       "Particular         10.984665  28.178686  18.535863  42.300786\n",
       "Pública             8.002453  28.802226  18.829231  44.366089"
      ],
      "text/html": [
       "<div>\n",
       "<style scoped>\n",
       "    .dataframe tbody tr th:only-of-type {\n",
       "        vertical-align: middle;\n",
       "    }\n",
       "\n",
       "    .dataframe tbody tr th {\n",
       "        vertical-align: top;\n",
       "    }\n",
       "\n",
       "    .dataframe thead th {\n",
       "        text-align: right;\n",
       "    }\n",
       "</style>\n",
       "<table border=\"1\" class=\"dataframe\">\n",
       "  <thead>\n",
       "    <tr style=\"text-align: right;\">\n",
       "      <th>horas_estudo</th>\n",
       "      <th>0</th>\n",
       "      <th>3-8</th>\n",
       "      <th>8+</th>\n",
       "      <th>&lt;3</th>\n",
       "    </tr>\n",
       "    <tr>\n",
       "      <th>tipo_ensino_medio</th>\n",
       "      <th></th>\n",
       "      <th></th>\n",
       "      <th></th>\n",
       "      <th></th>\n",
       "    </tr>\n",
       "  </thead>\n",
       "  <tbody>\n",
       "    <tr>\n",
       "      <th>Exterior</th>\n",
       "      <td>9.608541</td>\n",
       "      <td>33.451957</td>\n",
       "      <td>28.469751</td>\n",
       "      <td>28.469751</td>\n",
       "    </tr>\n",
       "    <tr>\n",
       "      <th>Não-Informado</th>\n",
       "      <td>98.982512</td>\n",
       "      <td>0.317965</td>\n",
       "      <td>0.143084</td>\n",
       "      <td>0.556439</td>\n",
       "    </tr>\n",
       "    <tr>\n",
       "      <th>Particular</th>\n",
       "      <td>10.984665</td>\n",
       "      <td>28.178686</td>\n",
       "      <td>18.535863</td>\n",
       "      <td>42.300786</td>\n",
       "    </tr>\n",
       "    <tr>\n",
       "      <th>Pública</th>\n",
       "      <td>8.002453</td>\n",
       "      <td>28.802226</td>\n",
       "      <td>18.829231</td>\n",
       "      <td>44.366089</td>\n",
       "    </tr>\n",
       "  </tbody>\n",
       "</table>\n",
       "</div>"
      ]
     },
     "metadata": {},
     "execution_count": 163
    }
   ],
   "metadata": {}
  },
  {
   "cell_type": "code",
   "execution_count": 164,
   "source": [
    "microdados.groupby('escolaridade_pai').horas_estudo.value_counts(normalize=True).unstack()*100\n"
   ],
   "outputs": [
    {
     "output_type": "execute_result",
     "data": {
      "text/plain": [
       "horas_estudo                0        3-8         8+         <3\n",
       "escolaridade_pai                                              \n",
       "Ensino Fundamental   7.583908  29.038247  18.676033  44.701812\n",
       "Ensino Médio         9.155299  28.517401  18.249388  44.077912\n",
       "Ensino Superior     11.102985  28.234598  19.364051  41.298367\n",
       "Nenhuma             61.509047  11.509047   8.711061  18.270845"
      ],
      "text/html": [
       "<div>\n",
       "<style scoped>\n",
       "    .dataframe tbody tr th:only-of-type {\n",
       "        vertical-align: middle;\n",
       "    }\n",
       "\n",
       "    .dataframe tbody tr th {\n",
       "        vertical-align: top;\n",
       "    }\n",
       "\n",
       "    .dataframe thead th {\n",
       "        text-align: right;\n",
       "    }\n",
       "</style>\n",
       "<table border=\"1\" class=\"dataframe\">\n",
       "  <thead>\n",
       "    <tr style=\"text-align: right;\">\n",
       "      <th>horas_estudo</th>\n",
       "      <th>0</th>\n",
       "      <th>3-8</th>\n",
       "      <th>8+</th>\n",
       "      <th>&lt;3</th>\n",
       "    </tr>\n",
       "    <tr>\n",
       "      <th>escolaridade_pai</th>\n",
       "      <th></th>\n",
       "      <th></th>\n",
       "      <th></th>\n",
       "      <th></th>\n",
       "    </tr>\n",
       "  </thead>\n",
       "  <tbody>\n",
       "    <tr>\n",
       "      <th>Ensino Fundamental</th>\n",
       "      <td>7.583908</td>\n",
       "      <td>29.038247</td>\n",
       "      <td>18.676033</td>\n",
       "      <td>44.701812</td>\n",
       "    </tr>\n",
       "    <tr>\n",
       "      <th>Ensino Médio</th>\n",
       "      <td>9.155299</td>\n",
       "      <td>28.517401</td>\n",
       "      <td>18.249388</td>\n",
       "      <td>44.077912</td>\n",
       "    </tr>\n",
       "    <tr>\n",
       "      <th>Ensino Superior</th>\n",
       "      <td>11.102985</td>\n",
       "      <td>28.234598</td>\n",
       "      <td>19.364051</td>\n",
       "      <td>41.298367</td>\n",
       "    </tr>\n",
       "    <tr>\n",
       "      <th>Nenhuma</th>\n",
       "      <td>61.509047</td>\n",
       "      <td>11.509047</td>\n",
       "      <td>8.711061</td>\n",
       "      <td>18.270845</td>\n",
       "    </tr>\n",
       "  </tbody>\n",
       "</table>\n",
       "</div>"
      ]
     },
     "metadata": {},
     "execution_count": 164
    }
   ],
   "metadata": {}
  },
  {
   "cell_type": "code",
   "execution_count": 165,
   "source": [
    "microdados.groupby('escolaridade_mae').horas_estudo.value_counts(normalize=True).unstack()*100\n"
   ],
   "outputs": [
    {
     "output_type": "execute_result",
     "data": {
      "text/plain": [
       "horas_estudo                0        3-8         8+         <3\n",
       "escolaridade_mae                                              \n",
       "Ensino Fundamental   7.641445  29.109709  18.640531  44.608314\n",
       "Ensino Médio         9.203729  28.362941  18.331863  44.101466\n",
       "Ensino Superior     10.377217  28.274851  19.498041  41.849891\n",
       "Nenhuma             72.675073   8.748030   5.595587  12.981311"
      ],
      "text/html": [
       "<div>\n",
       "<style scoped>\n",
       "    .dataframe tbody tr th:only-of-type {\n",
       "        vertical-align: middle;\n",
       "    }\n",
       "\n",
       "    .dataframe tbody tr th {\n",
       "        vertical-align: top;\n",
       "    }\n",
       "\n",
       "    .dataframe thead th {\n",
       "        text-align: right;\n",
       "    }\n",
       "</style>\n",
       "<table border=\"1\" class=\"dataframe\">\n",
       "  <thead>\n",
       "    <tr style=\"text-align: right;\">\n",
       "      <th>horas_estudo</th>\n",
       "      <th>0</th>\n",
       "      <th>3-8</th>\n",
       "      <th>8+</th>\n",
       "      <th>&lt;3</th>\n",
       "    </tr>\n",
       "    <tr>\n",
       "      <th>escolaridade_mae</th>\n",
       "      <th></th>\n",
       "      <th></th>\n",
       "      <th></th>\n",
       "      <th></th>\n",
       "    </tr>\n",
       "  </thead>\n",
       "  <tbody>\n",
       "    <tr>\n",
       "      <th>Ensino Fundamental</th>\n",
       "      <td>7.641445</td>\n",
       "      <td>29.109709</td>\n",
       "      <td>18.640531</td>\n",
       "      <td>44.608314</td>\n",
       "    </tr>\n",
       "    <tr>\n",
       "      <th>Ensino Médio</th>\n",
       "      <td>9.203729</td>\n",
       "      <td>28.362941</td>\n",
       "      <td>18.331863</td>\n",
       "      <td>44.101466</td>\n",
       "    </tr>\n",
       "    <tr>\n",
       "      <th>Ensino Superior</th>\n",
       "      <td>10.377217</td>\n",
       "      <td>28.274851</td>\n",
       "      <td>19.498041</td>\n",
       "      <td>41.849891</td>\n",
       "    </tr>\n",
       "    <tr>\n",
       "      <th>Nenhuma</th>\n",
       "      <td>72.675073</td>\n",
       "      <td>8.748030</td>\n",
       "      <td>5.595587</td>\n",
       "      <td>12.981311</td>\n",
       "    </tr>\n",
       "  </tbody>\n",
       "</table>\n",
       "</div>"
      ]
     },
     "metadata": {},
     "execution_count": 165
    }
   ],
   "metadata": {}
  },
  {
   "cell_type": "code",
   "execution_count": 166,
   "source": [
    "plot3D('nome_curso','horas_estudo', 'Quantidade de alunos','Curso',lista_cursos, lista_horas, 'alunos_horas_estudo', 0.5,1, 'upper center',labels=horas_labels, list_max=19000, list_step=2000)"
   ],
   "outputs": [
    {
     "output_type": "display_data",
     "data": {
      "text/plain": [
       "<Figure size 432x288 with 1 Axes>"
      ],
      "image/png": "[encoded data removed]"
     },
     "metadata": {}
    }
   ],
   "metadata": {}
  },
  {
   "cell_type": "code",
   "execution_count": 167,
   "source": [
    "colunasDataset.remove('horas_estudo')"
   ],
   "outputs": [],
   "metadata": {}
  },
  {
   "cell_type": "code",
   "execution_count": 168,
   "source": [
    "colunasDataset"
   ],
   "outputs": [
    {
     "output_type": "execute_result",
     "data": {
      "text/plain": [
       "['nota_geral',\n",
       " 'nota_formacao_geral',\n",
       " 'nota_obj_formacao_geral',\n",
       " 'nota_dis_formacao_geral',\n",
       " 'nota_componente_especifico',\n",
       " 'nota_obj_componente_especifico',\n",
       " 'nota_dis_componente_especifico',\n",
       " 'idade_comeco_graduacao',\n",
       " 'tempo_ocioso',\n",
       " 'tempo_cursado']"
      ]
     },
     "metadata": {},
     "execution_count": 168
    }
   ],
   "metadata": {}
  },
  {
   "cell_type": "markdown",
   "source": [
    "## Alunos por nota geral"
   ],
   "metadata": {}
  },
  {
   "cell_type": "code",
   "execution_count": 169,
   "source": [
    "# pandas.DataFrame.corr"
   ],
   "outputs": [],
   "metadata": {}
  },
  {
   "cell_type": "code",
   "execution_count": 170,
   "source": [
    "def normalizeColumn(column):\n",
    "    microdados['nt_geral_normalize'] = microdados.groupby([column])['nota_geral'].transform(lambda x: (x-x.min())/(x.max()-x.min())) "
   ],
   "outputs": [],
   "metadata": {}
  },
  {
   "cell_type": "code",
   "execution_count": 171,
   "source": [
    "# microdados['nt_geral_normalize'] = microdados.groupby(['nome_curso'])['nota_geral'].transform(lambda x: (x-x.min())/(x.max()-x.min())) \n",
    "# microdados['nt_geral_normalize'] = microdados['nt_geral_normalize']*100"
   ],
   "outputs": [],
   "metadata": {}
  },
  {
   "cell_type": "code",
   "execution_count": 172,
   "source": [
    "microdados['nt_geral_norm'] = (microdados['nota_geral'] - microdados['nota_geral'].min())/(microdados['nota_geral'].max() - microdados['nota_geral'].min())"
   ],
   "outputs": [],
   "metadata": {}
  },
  {
   "cell_type": "code",
   "execution_count": 173,
   "source": [
    "microdados.groupby(['regiao'])['nota_geral'].mean().sort_values(ascending=False)"
   ],
   "outputs": [
    {
     "output_type": "execute_result",
     "data": {
      "text/plain": [
       "regiao\n",
       "NE    41.198231\n",
       "S     40.992636\n",
       "SE    39.703980\n",
       "N     38.537036\n",
       "CO    37.614992\n",
       "Name: nota_geral, dtype: float64"
      ]
     },
     "metadata": {},
     "execution_count": 173
    }
   ],
   "metadata": {}
  },
  {
   "cell_type": "code",
   "execution_count": 174,
   "source": [
    "normalizeColumn('regiao')"
   ],
   "outputs": [],
   "metadata": {}
  },
  {
   "cell_type": "code",
   "execution_count": 175,
   "source": [
    "microdados.groupby(['regiao'])['nt_geral_normalize'].mean().sort_values(ascending=False)\n"
   ],
   "outputs": [
    {
     "output_type": "execute_result",
     "data": {
      "text/plain": [
       "regiao\n",
       "N     0.441432\n",
       "CO    0.437893\n",
       "NE    0.428256\n",
       "S     0.426562\n",
       "SE    0.417497\n",
       "Name: nt_geral_normalize, dtype: float64"
      ]
     },
     "metadata": {},
     "execution_count": 175
    }
   ],
   "metadata": {}
  },
  {
   "cell_type": "code",
   "execution_count": 176,
   "source": [
    "microdados.groupby(['categoria_adm_IES'])['nota_geral'].mean().sort_values(ascending=False)"
   ],
   "outputs": [
    {
     "output_type": "execute_result",
     "data": {
      "text/plain": [
       "categoria_adm_IES\n",
       "IES pública    45.061831\n",
       "IES privada    37.959093\n",
       "Name: nota_geral, dtype: float64"
      ]
     },
     "metadata": {},
     "execution_count": 176
    }
   ],
   "metadata": {}
  },
  {
   "cell_type": "code",
   "execution_count": 177,
   "source": [
    "normalizeColumn('categoria_adm_IES')\n",
    "microdados.groupby(['categoria_adm_IES'])['nt_geral_normalize'].mean().sort_values(ascending=False)"
   ],
   "outputs": [
    {
     "output_type": "execute_result",
     "data": {
      "text/plain": [
       "categoria_adm_IES\n",
       "IES pública    0.468418\n",
       "IES privada    0.406850\n",
       "Name: nt_geral_normalize, dtype: float64"
      ]
     },
     "metadata": {},
     "execution_count": 177
    }
   ],
   "metadata": {}
  },
  {
   "cell_type": "code",
   "execution_count": 178,
   "source": [
    "microdados.groupby(['turno'])['nota_geral'].mean().sort_values(ascending=False)\n"
   ],
   "outputs": [
    {
     "output_type": "execute_result",
     "data": {
      "text/plain": [
       "turno\n",
       "Integral         47.033372\n",
       "Diurno           41.592005\n",
       "Noturno          38.437234\n",
       "Não-Informado    35.300000\n",
       "Name: nota_geral, dtype: float64"
      ]
     },
     "metadata": {},
     "execution_count": 178
    }
   ],
   "metadata": {}
  },
  {
   "cell_type": "code",
   "execution_count": 179,
   "source": [
    "microdados.groupby(['ead_presencial'])['nota_geral'].mean().sort_values(ascending=False)\n"
   ],
   "outputs": [
    {
     "output_type": "execute_result",
     "data": {
      "text/plain": [
       "ead_presencial\n",
       "Presencial       40.474080\n",
       "EAD              40.022566\n",
       "Não-Informado    36.805556\n",
       "Name: nota_geral, dtype: float64"
      ]
     },
     "metadata": {},
     "execution_count": 179
    }
   ],
   "metadata": {}
  },
  {
   "cell_type": "code",
   "execution_count": 180,
   "source": [
    "normalizeColumn('ead_presencial')\n",
    "microdados.groupby(['ead_presencial'])['nt_geral_normalize'].mean().sort_values(ascending=False)\n"
   ],
   "outputs": [
    {
     "output_type": "execute_result",
     "data": {
      "text/plain": [
       "ead_presencial\n",
       "EAD              0.441750\n",
       "Presencial       0.420728\n",
       "Não-Informado    0.419676\n",
       "Name: nt_geral_normalize, dtype: float64"
      ]
     },
     "metadata": {},
     "execution_count": 180
    }
   ],
   "metadata": {}
  },
  {
   "cell_type": "code",
   "execution_count": 181,
   "source": [
    "microdados.groupby(['tipo_ensino_medio'])['nota_geral'].mean().sort_values(ascending=False)\n"
   ],
   "outputs": [
    {
     "output_type": "execute_result",
     "data": {
      "text/plain": [
       "tipo_ensino_medio\n",
       "Exterior         44.131317\n",
       "Particular       41.755678\n",
       "Pública          39.325025\n",
       "Não-Informado    35.965199\n",
       "Name: nota_geral, dtype: float64"
      ]
     },
     "metadata": {},
     "execution_count": 181
    }
   ],
   "metadata": {}
  },
  {
   "cell_type": "code",
   "execution_count": 182,
   "source": [
    "normalizeColumn('tipo_ensino_medio')\n",
    "\n",
    "microdados.groupby(['tipo_ensino_medio'])['nt_geral_normalize'].mean().sort_values(ascending=False)\n"
   ],
   "outputs": [
    {
     "output_type": "execute_result",
     "data": {
      "text/plain": [
       "tipo_ensino_medio\n",
       "Exterior         0.487119\n",
       "Particular       0.434051\n",
       "Pública          0.413512\n",
       "Não-Informado    0.410093\n",
       "Name: nt_geral_normalize, dtype: float64"
      ]
     },
     "metadata": {},
     "execution_count": 182
    }
   ],
   "metadata": {}
  },
  {
   "cell_type": "code",
   "execution_count": 183,
   "source": [
    "microdados.groupby(['tipo_ensino_medio'])['nt_geral_normalize'].describe().sort_values(by='mean',ascending=False)\n"
   ],
   "outputs": [
    {
     "output_type": "execute_result",
     "data": {
      "text/plain": [
       "                     count      mean       std  min       25%       50%  \\\n",
       "tipo_ensino_medio                                                         \n",
       "Exterior             281.0  0.487119  0.190761  0.0  0.359043  0.492021   \n",
       "Particular         41212.0  0.434051  0.149130  0.0  0.327443  0.426195   \n",
       "Pública            84799.0  0.413512  0.141815  0.0  0.312303  0.403785   \n",
       "Não-Informado       6290.0  0.410093  0.129573  0.0  0.320410  0.401368   \n",
       "\n",
       "                        75%  max  \n",
       "tipo_ensino_medio                 \n",
       "Exterior           0.623670  1.0  \n",
       "Particular         0.535603  1.0  \n",
       "Pública            0.505783  1.0  \n",
       "Não-Informado      0.488027  1.0  "
      ],
      "text/html": [
       "<div>\n",
       "<style scoped>\n",
       "    .dataframe tbody tr th:only-of-type {\n",
       "        vertical-align: middle;\n",
       "    }\n",
       "\n",
       "    .dataframe tbody tr th {\n",
       "        vertical-align: top;\n",
       "    }\n",
       "\n",
       "    .dataframe thead th {\n",
       "        text-align: right;\n",
       "    }\n",
       "</style>\n",
       "<table border=\"1\" class=\"dataframe\">\n",
       "  <thead>\n",
       "    <tr style=\"text-align: right;\">\n",
       "      <th></th>\n",
       "      <th>count</th>\n",
       "      <th>mean</th>\n",
       "      <th>std</th>\n",
       "      <th>min</th>\n",
       "      <th>25%</th>\n",
       "      <th>50%</th>\n",
       "      <th>75%</th>\n",
       "      <th>max</th>\n",
       "    </tr>\n",
       "    <tr>\n",
       "      <th>tipo_ensino_medio</th>\n",
       "      <th></th>\n",
       "      <th></th>\n",
       "      <th></th>\n",
       "      <th></th>\n",
       "      <th></th>\n",
       "      <th></th>\n",
       "      <th></th>\n",
       "      <th></th>\n",
       "    </tr>\n",
       "  </thead>\n",
       "  <tbody>\n",
       "    <tr>\n",
       "      <th>Exterior</th>\n",
       "      <td>281.0</td>\n",
       "      <td>0.487119</td>\n",
       "      <td>0.190761</td>\n",
       "      <td>0.0</td>\n",
       "      <td>0.359043</td>\n",
       "      <td>0.492021</td>\n",
       "      <td>0.623670</td>\n",
       "      <td>1.0</td>\n",
       "    </tr>\n",
       "    <tr>\n",
       "      <th>Particular</th>\n",
       "      <td>41212.0</td>\n",
       "      <td>0.434051</td>\n",
       "      <td>0.149130</td>\n",
       "      <td>0.0</td>\n",
       "      <td>0.327443</td>\n",
       "      <td>0.426195</td>\n",
       "      <td>0.535603</td>\n",
       "      <td>1.0</td>\n",
       "    </tr>\n",
       "    <tr>\n",
       "      <th>Pública</th>\n",
       "      <td>84799.0</td>\n",
       "      <td>0.413512</td>\n",
       "      <td>0.141815</td>\n",
       "      <td>0.0</td>\n",
       "      <td>0.312303</td>\n",
       "      <td>0.403785</td>\n",
       "      <td>0.505783</td>\n",
       "      <td>1.0</td>\n",
       "    </tr>\n",
       "    <tr>\n",
       "      <th>Não-Informado</th>\n",
       "      <td>6290.0</td>\n",
       "      <td>0.410093</td>\n",
       "      <td>0.129573</td>\n",
       "      <td>0.0</td>\n",
       "      <td>0.320410</td>\n",
       "      <td>0.401368</td>\n",
       "      <td>0.488027</td>\n",
       "      <td>1.0</td>\n",
       "    </tr>\n",
       "  </tbody>\n",
       "</table>\n",
       "</div>"
      ]
     },
     "metadata": {},
     "execution_count": 183
    }
   ],
   "metadata": {}
  },
  {
   "cell_type": "code",
   "execution_count": 184,
   "source": [
    "microdados.groupby(['range_idade'])['nota_geral'].mean().sort_values(ascending=False)\n"
   ],
   "outputs": [
    {
     "output_type": "execute_result",
     "data": {
      "text/plain": [
       "range_idade\n",
       "17-24    40.464213\n",
       "40-49    39.540771\n",
       "30-39    39.202536\n",
       "25-29    39.169161\n",
       "50+      38.309895\n",
       "Name: nota_geral, dtype: float64"
      ]
     },
     "metadata": {},
     "execution_count": 184
    }
   ],
   "metadata": {}
  },
  {
   "cell_type": "code",
   "execution_count": 185,
   "source": [
    "normalizeColumn('range_idade')\n",
    "\n",
    "microdados.groupby(['range_idade'])['nt_geral_normalize'].mean().sort_values(ascending=False)"
   ],
   "outputs": [
    {
     "output_type": "execute_result",
     "data": {
      "text/plain": [
       "range_idade\n",
       "40-49    0.454492\n",
       "50+      0.435340\n",
       "30-39    0.432699\n",
       "25-29    0.425289\n",
       "17-24    0.420626\n",
       "Name: nt_geral_normalize, dtype: float64"
      ]
     },
     "metadata": {},
     "execution_count": 185
    }
   ],
   "metadata": {}
  },
  {
   "cell_type": "code",
   "execution_count": 186,
   "source": [
    "microdados.groupby(['sexo'])['nota_geral'].mean().sort_values(ascending=False)\n"
   ],
   "outputs": [
    {
     "output_type": "execute_result",
     "data": {
      "text/plain": [
       "sexo\n",
       "M    40.239287\n",
       "F    38.262750\n",
       "Name: nota_geral, dtype: float64"
      ]
     },
     "metadata": {},
     "execution_count": 186
    }
   ],
   "metadata": {}
  },
  {
   "cell_type": "code",
   "execution_count": 187,
   "source": [
    "microdados.groupby(['cor_raca'])['nota_geral'].mean().sort_values(ascending=False)\n"
   ],
   "outputs": [
    {
     "output_type": "execute_result",
     "data": {
      "text/plain": [
       "cor_raca\n",
       "Amarela     40.657230\n",
       "Branca      40.485027\n",
       "Parda       39.648383\n",
       "Preta       38.229243\n",
       "Não Inf.    37.567053\n",
       "Indígena    37.369619\n",
       "Name: nota_geral, dtype: float64"
      ]
     },
     "metadata": {},
     "execution_count": 187
    }
   ],
   "metadata": {}
  },
  {
   "cell_type": "code",
   "execution_count": 188,
   "source": [
    "microdados.groupby(['escolaridade_pai'])['nota_geral'].mean().sort_values(ascending=False)\n"
   ],
   "outputs": [
    {
     "output_type": "execute_result",
     "data": {
      "text/plain": [
       "escolaridade_pai\n",
       "Ensino Superior       42.256769\n",
       "Ensino Médio          40.187636\n",
       "Ensino Fundamental    38.950182\n",
       "Nenhuma               36.948564\n",
       "Name: nota_geral, dtype: float64"
      ]
     },
     "metadata": {},
     "execution_count": 188
    }
   ],
   "metadata": {}
  },
  {
   "cell_type": "code",
   "execution_count": 189,
   "source": [
    "microdados.groupby(['escolaridade_mae'])['nota_geral'].mean().sort_values(ascending=False)\n"
   ],
   "outputs": [
    {
     "output_type": "execute_result",
     "data": {
      "text/plain": [
       "escolaridade_mae\n",
       "Ensino Superior       41.875767\n",
       "Ensino Médio          40.218233\n",
       "Ensino Fundamental    38.832467\n",
       "Nenhuma               36.351745\n",
       "Name: nota_geral, dtype: float64"
      ]
     },
     "metadata": {},
     "execution_count": 189
    }
   ],
   "metadata": {}
  },
  {
   "cell_type": "code",
   "execution_count": 190,
   "source": [
    "microdados.groupby(['renda_familiar'])['nota_geral'].mean().sort_values(ascending=False)\n"
   ],
   "outputs": [
    {
     "output_type": "execute_result",
     "data": {
      "text/plain": [
       "renda_familiar\n",
       "10-30      42.028007\n",
       "30+        41.497896\n",
       "3-10       40.483863\n",
       "<3         38.593938\n",
       "Nenhuma    36.040586\n",
       "Name: nota_geral, dtype: float64"
      ]
     },
     "metadata": {},
     "execution_count": 190
    }
   ],
   "metadata": {}
  },
  {
   "cell_type": "code",
   "execution_count": 191,
   "source": [
    "microdados.groupby(['cotas'])['nota_geral'].mean().sort_values(ascending=False)\n"
   ],
   "outputs": [
    {
     "output_type": "execute_result",
     "data": {
      "text/plain": [
       "cotas\n",
       "2+                     43.706811\n",
       "EM público             43.655051\n",
       "Não                    39.804137\n",
       "Étnico Racial          39.304444\n",
       "Renda                  37.210339\n",
       "Outro                  36.523625\n",
       "Renda ou EM público    35.549500\n",
       "Name: nota_geral, dtype: float64"
      ]
     },
     "metadata": {},
     "execution_count": 191
    }
   ],
   "metadata": {}
  },
  {
   "cell_type": "code",
   "execution_count": 192,
   "source": [
    "microdados.groupby(['bolsa_academica'])['nota_geral'].mean().sort_values(ascending=False)\n"
   ],
   "outputs": [
    {
     "output_type": "execute_result",
     "data": {
      "text/plain": [
       "bolsa_academica\n",
       "PET          53.235753\n",
       "IC           51.304322\n",
       "Monitoria    49.496846\n",
       "Extensão     47.296190\n",
       "Outro        43.544299\n",
       "Nenhum       38.824575\n",
       "Name: nota_geral, dtype: float64"
      ]
     },
     "metadata": {},
     "execution_count": 192
    }
   ],
   "metadata": {}
  },
  {
   "cell_type": "code",
   "execution_count": 193,
   "source": [
    "microdados.groupby(['trabalha'])['nota_geral'].mean().sort_values(ascending=False)\n"
   ],
   "outputs": [
    {
     "output_type": "execute_result",
     "data": {
      "text/plain": [
       "trabalha\n",
       "Não              42.233477\n",
       "Sim              39.555678\n",
       "Não-Informado    36.001535\n",
       "Name: nota_geral, dtype: float64"
      ]
     },
     "metadata": {},
     "execution_count": 193
    }
   ],
   "metadata": {}
  },
  {
   "cell_type": "code",
   "execution_count": 194,
   "source": [
    "microdados.groupby(['livros_ano'])['nota_geral'].mean().sort_values(ascending=False)\n"
   ],
   "outputs": [
    {
     "output_type": "execute_result",
     "data": {
      "text/plain": [
       "livros_ano\n",
       "8+     41.963707\n",
       "6-8    40.827254\n",
       "3-5    40.573301\n",
       "1/2    39.687131\n",
       "0      38.640084\n",
       "Name: nota_geral, dtype: float64"
      ]
     },
     "metadata": {},
     "execution_count": 194
    }
   ],
   "metadata": {}
  },
  {
   "cell_type": "code",
   "execution_count": 195,
   "source": [
    "microdados.groupby(['horas_estudo'])['nota_geral'].mean().sort_values(ascending=False)\n"
   ],
   "outputs": [
    {
     "output_type": "execute_result",
     "data": {
      "text/plain": [
       "horas_estudo\n",
       "8+     43.611973\n",
       "3-8    41.156162\n",
       "<3     38.500165\n",
       "0      36.940886\n",
       "Name: nota_geral, dtype: float64"
      ]
     },
     "metadata": {},
     "execution_count": 195
    }
   ],
   "metadata": {}
  },
  {
   "cell_type": "code",
   "execution_count": 196,
   "source": [
    "microdados.groupby(['nome_curso','ano'])['nota_geral'].describe().unstack().reset_index()"
   ],
   "outputs": [
    {
     "output_type": "execute_result",
     "data": {
      "text/plain": [
       "    nome_curso   count                                  mean             \\\n",
       "ano               2008     2011     2014     2017       2008       2011   \n",
       "0          ADS  3852.0   7265.0  11110.0   9636.0  41.105244  40.243565   \n",
       "1          BCC  4447.0   9670.0   8263.0   8408.0  35.647942  32.814922   \n",
       "2           EC   387.0   1929.0   2543.0   3415.0  40.385013  36.844894   \n",
       "3          GTI     NaN      NaN      NaN   3203.0        NaN        NaN   \n",
       "4          LCC     NaN    694.0   1778.0   1080.0        NaN  32.562248   \n",
       "5           RC  2179.0   3415.0   3851.0   2480.0  37.567875  37.313441   \n",
       "6           SI  7601.0  10246.0  13238.0  11892.0  34.903065  30.135809   \n",
       "\n",
       "                                 std  ...   50%           75%              \\\n",
       "ano       2014       2017       2008  ...  2014   2017   2008  2011  2014   \n",
       "0    40.441179  40.236249  12.111087  ...  39.7  39.60  49.10  50.6  49.2   \n",
       "1    44.426540  43.324619  12.394615  ...  43.7  42.30  42.50  40.5  53.5   \n",
       "2    46.017263  45.425124  13.373903  ...  46.5  44.40  47.45  44.0  56.3   \n",
       "3          NaN  45.517921        NaN  ...   NaN  45.60    NaN   NaN   NaN   \n",
       "4    49.523510  40.776852        NaN  ...  50.4  40.85    NaN  39.1  60.3   \n",
       "5    42.443599  33.744919  12.845207  ...  41.7  33.20  45.55  45.0  51.1   \n",
       "6    43.607962  44.746678   9.420041  ...  43.3  44.60  41.10  36.6  52.7   \n",
       "\n",
       "              max                    \n",
       "ano    2017  2008  2011  2014  2017  \n",
       "0    49.000  87.7  88.0  91.5  90.6  \n",
       "1    52.500  86.5  82.3  96.1  95.1  \n",
       "2    54.650  82.4  86.7  93.8  96.2  \n",
       "3    54.700   NaN   NaN   NaN  87.8  \n",
       "4    50.225   NaN  67.5  87.3  79.6  \n",
       "5    41.300  85.2  90.5  92.1  76.4  \n",
       "6    53.800  72.0  74.9  88.4  87.3  \n",
       "\n",
       "[7 rows x 33 columns]"
      ],
      "text/html": [
       "<div>\n",
       "<style scoped>\n",
       "    .dataframe tbody tr th:only-of-type {\n",
       "        vertical-align: middle;\n",
       "    }\n",
       "\n",
       "    .dataframe tbody tr th {\n",
       "        vertical-align: top;\n",
       "    }\n",
       "\n",
       "    .dataframe thead tr th {\n",
       "        text-align: left;\n",
       "    }\n",
       "</style>\n",
       "<table border=\"1\" class=\"dataframe\">\n",
       "  <thead>\n",
       "    <tr>\n",
       "      <th></th>\n",
       "      <th>nome_curso</th>\n",
       "      <th colspan=\"4\" halign=\"left\">count</th>\n",
       "      <th colspan=\"4\" halign=\"left\">mean</th>\n",
       "      <th>std</th>\n",
       "      <th>...</th>\n",
       "      <th colspan=\"2\" halign=\"left\">50%</th>\n",
       "      <th colspan=\"4\" halign=\"left\">75%</th>\n",
       "      <th colspan=\"4\" halign=\"left\">max</th>\n",
       "    </tr>\n",
       "    <tr>\n",
       "      <th>ano</th>\n",
       "      <th></th>\n",
       "      <th>2008</th>\n",
       "      <th>2011</th>\n",
       "      <th>2014</th>\n",
       "      <th>2017</th>\n",
       "      <th>2008</th>\n",
       "      <th>2011</th>\n",
       "      <th>2014</th>\n",
       "      <th>2017</th>\n",
       "      <th>2008</th>\n",
       "      <th>...</th>\n",
       "      <th>2014</th>\n",
       "      <th>2017</th>\n",
       "      <th>2008</th>\n",
       "      <th>2011</th>\n",
       "      <th>2014</th>\n",
       "      <th>2017</th>\n",
       "      <th>2008</th>\n",
       "      <th>2011</th>\n",
       "      <th>2014</th>\n",
       "      <th>2017</th>\n",
       "    </tr>\n",
       "  </thead>\n",
       "  <tbody>\n",
       "    <tr>\n",
       "      <th>0</th>\n",
       "      <td>ADS</td>\n",
       "      <td>3852.0</td>\n",
       "      <td>7265.0</td>\n",
       "      <td>11110.0</td>\n",
       "      <td>9636.0</td>\n",
       "      <td>41.105244</td>\n",
       "      <td>40.243565</td>\n",
       "      <td>40.441179</td>\n",
       "      <td>40.236249</td>\n",
       "      <td>12.111087</td>\n",
       "      <td>...</td>\n",
       "      <td>39.7</td>\n",
       "      <td>39.60</td>\n",
       "      <td>49.10</td>\n",
       "      <td>50.6</td>\n",
       "      <td>49.2</td>\n",
       "      <td>49.000</td>\n",
       "      <td>87.7</td>\n",
       "      <td>88.0</td>\n",
       "      <td>91.5</td>\n",
       "      <td>90.6</td>\n",
       "    </tr>\n",
       "    <tr>\n",
       "      <th>1</th>\n",
       "      <td>BCC</td>\n",
       "      <td>4447.0</td>\n",
       "      <td>9670.0</td>\n",
       "      <td>8263.0</td>\n",
       "      <td>8408.0</td>\n",
       "      <td>35.647942</td>\n",
       "      <td>32.814922</td>\n",
       "      <td>44.426540</td>\n",
       "      <td>43.324619</td>\n",
       "      <td>12.394615</td>\n",
       "      <td>...</td>\n",
       "      <td>43.7</td>\n",
       "      <td>42.30</td>\n",
       "      <td>42.50</td>\n",
       "      <td>40.5</td>\n",
       "      <td>53.5</td>\n",
       "      <td>52.500</td>\n",
       "      <td>86.5</td>\n",
       "      <td>82.3</td>\n",
       "      <td>96.1</td>\n",
       "      <td>95.1</td>\n",
       "    </tr>\n",
       "    <tr>\n",
       "      <th>2</th>\n",
       "      <td>EC</td>\n",
       "      <td>387.0</td>\n",
       "      <td>1929.0</td>\n",
       "      <td>2543.0</td>\n",
       "      <td>3415.0</td>\n",
       "      <td>40.385013</td>\n",
       "      <td>36.844894</td>\n",
       "      <td>46.017263</td>\n",
       "      <td>45.425124</td>\n",
       "      <td>13.373903</td>\n",
       "      <td>...</td>\n",
       "      <td>46.5</td>\n",
       "      <td>44.40</td>\n",
       "      <td>47.45</td>\n",
       "      <td>44.0</td>\n",
       "      <td>56.3</td>\n",
       "      <td>54.650</td>\n",
       "      <td>82.4</td>\n",
       "      <td>86.7</td>\n",
       "      <td>93.8</td>\n",
       "      <td>96.2</td>\n",
       "    </tr>\n",
       "    <tr>\n",
       "      <th>3</th>\n",
       "      <td>GTI</td>\n",
       "      <td>NaN</td>\n",
       "      <td>NaN</td>\n",
       "      <td>NaN</td>\n",
       "      <td>3203.0</td>\n",
       "      <td>NaN</td>\n",
       "      <td>NaN</td>\n",
       "      <td>NaN</td>\n",
       "      <td>45.517921</td>\n",
       "      <td>NaN</td>\n",
       "      <td>...</td>\n",
       "      <td>NaN</td>\n",
       "      <td>45.60</td>\n",
       "      <td>NaN</td>\n",
       "      <td>NaN</td>\n",
       "      <td>NaN</td>\n",
       "      <td>54.700</td>\n",
       "      <td>NaN</td>\n",
       "      <td>NaN</td>\n",
       "      <td>NaN</td>\n",
       "      <td>87.8</td>\n",
       "    </tr>\n",
       "    <tr>\n",
       "      <th>4</th>\n",
       "      <td>LCC</td>\n",
       "      <td>NaN</td>\n",
       "      <td>694.0</td>\n",
       "      <td>1778.0</td>\n",
       "      <td>1080.0</td>\n",
       "      <td>NaN</td>\n",
       "      <td>32.562248</td>\n",
       "      <td>49.523510</td>\n",
       "      <td>40.776852</td>\n",
       "      <td>NaN</td>\n",
       "      <td>...</td>\n",
       "      <td>50.4</td>\n",
       "      <td>40.85</td>\n",
       "      <td>NaN</td>\n",
       "      <td>39.1</td>\n",
       "      <td>60.3</td>\n",
       "      <td>50.225</td>\n",
       "      <td>NaN</td>\n",
       "      <td>67.5</td>\n",
       "      <td>87.3</td>\n",
       "      <td>79.6</td>\n",
       "    </tr>\n",
       "    <tr>\n",
       "      <th>5</th>\n",
       "      <td>RC</td>\n",
       "      <td>2179.0</td>\n",
       "      <td>3415.0</td>\n",
       "      <td>3851.0</td>\n",
       "      <td>2480.0</td>\n",
       "      <td>37.567875</td>\n",
       "      <td>37.313441</td>\n",
       "      <td>42.443599</td>\n",
       "      <td>33.744919</td>\n",
       "      <td>12.845207</td>\n",
       "      <td>...</td>\n",
       "      <td>41.7</td>\n",
       "      <td>33.20</td>\n",
       "      <td>45.55</td>\n",
       "      <td>45.0</td>\n",
       "      <td>51.1</td>\n",
       "      <td>41.300</td>\n",
       "      <td>85.2</td>\n",
       "      <td>90.5</td>\n",
       "      <td>92.1</td>\n",
       "      <td>76.4</td>\n",
       "    </tr>\n",
       "    <tr>\n",
       "      <th>6</th>\n",
       "      <td>SI</td>\n",
       "      <td>7601.0</td>\n",
       "      <td>10246.0</td>\n",
       "      <td>13238.0</td>\n",
       "      <td>11892.0</td>\n",
       "      <td>34.903065</td>\n",
       "      <td>30.135809</td>\n",
       "      <td>43.607962</td>\n",
       "      <td>44.746678</td>\n",
       "      <td>9.420041</td>\n",
       "      <td>...</td>\n",
       "      <td>43.3</td>\n",
       "      <td>44.60</td>\n",
       "      <td>41.10</td>\n",
       "      <td>36.6</td>\n",
       "      <td>52.7</td>\n",
       "      <td>53.800</td>\n",
       "      <td>72.0</td>\n",
       "      <td>74.9</td>\n",
       "      <td>88.4</td>\n",
       "      <td>87.3</td>\n",
       "    </tr>\n",
       "  </tbody>\n",
       "</table>\n",
       "<p>7 rows × 33 columns</p>\n",
       "</div>"
      ]
     },
     "metadata": {},
     "execution_count": 196
    }
   ],
   "metadata": {}
  },
  {
   "cell_type": "code",
   "execution_count": 197,
   "source": [
    "microdados['nota_geral'].describe()\n"
   ],
   "outputs": [
    {
     "output_type": "execute_result",
     "data": {
      "text/plain": [
       "count    132582.000000\n",
       "mean         39.931362\n",
       "std          13.744919\n",
       "min           0.000000\n",
       "25%          30.200000\n",
       "50%          39.000000\n",
       "75%          49.000000\n",
       "max          96.200000\n",
       "Name: nota_geral, dtype: float64"
      ]
     },
     "metadata": {},
     "execution_count": 197
    }
   ],
   "metadata": {}
  },
  {
   "cell_type": "code",
   "execution_count": 198,
   "source": [
    "microdados['nota_geral'].mode()"
   ],
   "outputs": [
    {
     "output_type": "execute_result",
     "data": {
      "text/plain": [
       "0    39.4\n",
       "dtype: float64"
      ]
     },
     "metadata": {},
     "execution_count": 198
    }
   ],
   "metadata": {}
  },
  {
   "cell_type": "code",
   "execution_count": 199,
   "source": [
    "microdados['nome_curso'].loc[microdados.nota_geral > 39.93].value_counts().sum()"
   ],
   "outputs": [
    {
     "output_type": "execute_result",
     "data": {
      "text/plain": [
       "62631"
      ]
     },
     "metadata": {},
     "execution_count": 199
    }
   ],
   "metadata": {}
  },
  {
   "cell_type": "code",
   "execution_count": 200,
   "source": [
    "microdados['nome_curso'].loc[microdados.nota_geral < 39.93].value_counts().sum()\n"
   ],
   "outputs": [
    {
     "output_type": "execute_result",
     "data": {
      "text/plain": [
       "69951"
      ]
     },
     "metadata": {},
     "execution_count": 200
    }
   ],
   "metadata": {}
  },
  {
   "cell_type": "code",
   "execution_count": 201,
   "source": [
    "microdados.groupby(['nome_curso'])['nota_geral'].describe()"
   ],
   "outputs": [
    {
     "output_type": "execute_result",
     "data": {
      "text/plain": [
       "              count       mean        std  min   25%   50%     75%   max\n",
       "nome_curso                                                              \n",
       "ADS         31863.0  40.414427  13.527699  0.0  30.9  39.6  49.300  91.5\n",
       "BCC         30788.0  39.210621  14.167085  0.0  29.1  38.0  48.400  96.1\n",
       "EC           8274.0  43.370981  14.595066  0.0  33.3  42.7  52.800  96.2\n",
       "GTI          3203.0  45.517921  13.398228  0.0  36.3  45.6  54.700  87.8\n",
       "LCC          3552.0  43.550113  15.105547  0.0  32.0  43.2  54.425  87.3\n",
       "RC          11925.0  38.274507  12.965807  0.0  29.1  37.3  46.500  92.1\n",
       "SI          42977.0  39.171636  13.263608  0.0  29.7  38.2  48.000  88.4"
      ],
      "text/html": [
       "<div>\n",
       "<style scoped>\n",
       "    .dataframe tbody tr th:only-of-type {\n",
       "        vertical-align: middle;\n",
       "    }\n",
       "\n",
       "    .dataframe tbody tr th {\n",
       "        vertical-align: top;\n",
       "    }\n",
       "\n",
       "    .dataframe thead th {\n",
       "        text-align: right;\n",
       "    }\n",
       "</style>\n",
       "<table border=\"1\" class=\"dataframe\">\n",
       "  <thead>\n",
       "    <tr style=\"text-align: right;\">\n",
       "      <th></th>\n",
       "      <th>count</th>\n",
       "      <th>mean</th>\n",
       "      <th>std</th>\n",
       "      <th>min</th>\n",
       "      <th>25%</th>\n",
       "      <th>50%</th>\n",
       "      <th>75%</th>\n",
       "      <th>max</th>\n",
       "    </tr>\n",
       "    <tr>\n",
       "      <th>nome_curso</th>\n",
       "      <th></th>\n",
       "      <th></th>\n",
       "      <th></th>\n",
       "      <th></th>\n",
       "      <th></th>\n",
       "      <th></th>\n",
       "      <th></th>\n",
       "      <th></th>\n",
       "    </tr>\n",
       "  </thead>\n",
       "  <tbody>\n",
       "    <tr>\n",
       "      <th>ADS</th>\n",
       "      <td>31863.0</td>\n",
       "      <td>40.414427</td>\n",
       "      <td>13.527699</td>\n",
       "      <td>0.0</td>\n",
       "      <td>30.9</td>\n",
       "      <td>39.6</td>\n",
       "      <td>49.300</td>\n",
       "      <td>91.5</td>\n",
       "    </tr>\n",
       "    <tr>\n",
       "      <th>BCC</th>\n",
       "      <td>30788.0</td>\n",
       "      <td>39.210621</td>\n",
       "      <td>14.167085</td>\n",
       "      <td>0.0</td>\n",
       "      <td>29.1</td>\n",
       "      <td>38.0</td>\n",
       "      <td>48.400</td>\n",
       "      <td>96.1</td>\n",
       "    </tr>\n",
       "    <tr>\n",
       "      <th>EC</th>\n",
       "      <td>8274.0</td>\n",
       "      <td>43.370981</td>\n",
       "      <td>14.595066</td>\n",
       "      <td>0.0</td>\n",
       "      <td>33.3</td>\n",
       "      <td>42.7</td>\n",
       "      <td>52.800</td>\n",
       "      <td>96.2</td>\n",
       "    </tr>\n",
       "    <tr>\n",
       "      <th>GTI</th>\n",
       "      <td>3203.0</td>\n",
       "      <td>45.517921</td>\n",
       "      <td>13.398228</td>\n",
       "      <td>0.0</td>\n",
       "      <td>36.3</td>\n",
       "      <td>45.6</td>\n",
       "      <td>54.700</td>\n",
       "      <td>87.8</td>\n",
       "    </tr>\n",
       "    <tr>\n",
       "      <th>LCC</th>\n",
       "      <td>3552.0</td>\n",
       "      <td>43.550113</td>\n",
       "      <td>15.105547</td>\n",
       "      <td>0.0</td>\n",
       "      <td>32.0</td>\n",
       "      <td>43.2</td>\n",
       "      <td>54.425</td>\n",
       "      <td>87.3</td>\n",
       "    </tr>\n",
       "    <tr>\n",
       "      <th>RC</th>\n",
       "      <td>11925.0</td>\n",
       "      <td>38.274507</td>\n",
       "      <td>12.965807</td>\n",
       "      <td>0.0</td>\n",
       "      <td>29.1</td>\n",
       "      <td>37.3</td>\n",
       "      <td>46.500</td>\n",
       "      <td>92.1</td>\n",
       "    </tr>\n",
       "    <tr>\n",
       "      <th>SI</th>\n",
       "      <td>42977.0</td>\n",
       "      <td>39.171636</td>\n",
       "      <td>13.263608</td>\n",
       "      <td>0.0</td>\n",
       "      <td>29.7</td>\n",
       "      <td>38.2</td>\n",
       "      <td>48.000</td>\n",
       "      <td>88.4</td>\n",
       "    </tr>\n",
       "  </tbody>\n",
       "</table>\n",
       "</div>"
      ]
     },
     "metadata": {},
     "execution_count": 201
    }
   ],
   "metadata": {}
  },
  {
   "cell_type": "code",
   "execution_count": 202,
   "source": [
    "microdados.groupby(['nome_curso','ano'])['nota_geral'].mean().unstack().reset_index()\n"
   ],
   "outputs": [
    {
     "output_type": "execute_result",
     "data": {
      "text/plain": [
       "ano nome_curso       2008       2011       2014       2017\n",
       "0          ADS  41.105244  40.243565  40.441179  40.236249\n",
       "1          BCC  35.647942  32.814922  44.426540  43.324619\n",
       "2           EC  40.385013  36.844894  46.017263  45.425124\n",
       "3          GTI        NaN        NaN        NaN  45.517921\n",
       "4          LCC        NaN  32.562248  49.523510  40.776852\n",
       "5           RC  37.567875  37.313441  42.443599  33.744919\n",
       "6           SI  34.903065  30.135809  43.607962  44.746678"
      ],
      "text/html": [
       "<div>\n",
       "<style scoped>\n",
       "    .dataframe tbody tr th:only-of-type {\n",
       "        vertical-align: middle;\n",
       "    }\n",
       "\n",
       "    .dataframe tbody tr th {\n",
       "        vertical-align: top;\n",
       "    }\n",
       "\n",
       "    .dataframe thead th {\n",
       "        text-align: right;\n",
       "    }\n",
       "</style>\n",
       "<table border=\"1\" class=\"dataframe\">\n",
       "  <thead>\n",
       "    <tr style=\"text-align: right;\">\n",
       "      <th>ano</th>\n",
       "      <th>nome_curso</th>\n",
       "      <th>2008</th>\n",
       "      <th>2011</th>\n",
       "      <th>2014</th>\n",
       "      <th>2017</th>\n",
       "    </tr>\n",
       "  </thead>\n",
       "  <tbody>\n",
       "    <tr>\n",
       "      <th>0</th>\n",
       "      <td>ADS</td>\n",
       "      <td>41.105244</td>\n",
       "      <td>40.243565</td>\n",
       "      <td>40.441179</td>\n",
       "      <td>40.236249</td>\n",
       "    </tr>\n",
       "    <tr>\n",
       "      <th>1</th>\n",
       "      <td>BCC</td>\n",
       "      <td>35.647942</td>\n",
       "      <td>32.814922</td>\n",
       "      <td>44.426540</td>\n",
       "      <td>43.324619</td>\n",
       "    </tr>\n",
       "    <tr>\n",
       "      <th>2</th>\n",
       "      <td>EC</td>\n",
       "      <td>40.385013</td>\n",
       "      <td>36.844894</td>\n",
       "      <td>46.017263</td>\n",
       "      <td>45.425124</td>\n",
       "    </tr>\n",
       "    <tr>\n",
       "      <th>3</th>\n",
       "      <td>GTI</td>\n",
       "      <td>NaN</td>\n",
       "      <td>NaN</td>\n",
       "      <td>NaN</td>\n",
       "      <td>45.517921</td>\n",
       "    </tr>\n",
       "    <tr>\n",
       "      <th>4</th>\n",
       "      <td>LCC</td>\n",
       "      <td>NaN</td>\n",
       "      <td>32.562248</td>\n",
       "      <td>49.523510</td>\n",
       "      <td>40.776852</td>\n",
       "    </tr>\n",
       "    <tr>\n",
       "      <th>5</th>\n",
       "      <td>RC</td>\n",
       "      <td>37.567875</td>\n",
       "      <td>37.313441</td>\n",
       "      <td>42.443599</td>\n",
       "      <td>33.744919</td>\n",
       "    </tr>\n",
       "    <tr>\n",
       "      <th>6</th>\n",
       "      <td>SI</td>\n",
       "      <td>34.903065</td>\n",
       "      <td>30.135809</td>\n",
       "      <td>43.607962</td>\n",
       "      <td>44.746678</td>\n",
       "    </tr>\n",
       "  </tbody>\n",
       "</table>\n",
       "</div>"
      ]
     },
     "metadata": {},
     "execution_count": 202
    }
   ],
   "metadata": {}
  },
  {
   "cell_type": "code",
   "execution_count": 203,
   "source": [
    "copia = microdados.copy()\n",
    "# copia.set_index('ano', inplace=True)\n",
    "# copia.groupby(['nome_curso','ano'])['nota_geral'].mean().unstack().plot(sharex=True)\n",
    "# copia.groupby('nome_curso')['nota_geral'].mean()\n",
    "x = copia.groupby(['ano','nome_curso'])['nota_geral'].mean().unstack().fillna(0).plot()\n",
    "x.set_ylim(28,50)\n",
    "x.legend(labels=lista_cursos, bbox_to_anchor=(1,1))"
   ],
   "outputs": [
    {
     "output_type": "execute_result",
     "data": {
      "text/plain": [
       "<matplotlib.legend.Legend at 0x7fceff2329a0>"
      ]
     },
     "metadata": {},
     "execution_count": 203
    },
    {
     "output_type": "display_data",
     "data": {
      "text/plain": [
       "<Figure size 432x288 with 1 Axes>"
      ],
      "image/png": "[encoded data removed]"
     },
     "metadata": {}
    }
   ],
   "metadata": {}
  },
  {
   "cell_type": "code",
   "execution_count": 204,
   "source": [
    "boxplotNota('nome_curso', 'nota_geral', 'Nota Geral', 'Cursos', 'alunos_nota_geral', lista_cursos, 101, 10)"
   ],
   "outputs": [
    {
     "output_type": "display_data",
     "data": {
      "text/plain": [
       "<Figure size 432x288 with 1 Axes>"
      ],
      "image/png": "[encoded data removed]"
     },
     "metadata": {}
    }
   ],
   "metadata": {}
  },
  {
   "cell_type": "markdown",
   "source": [
    "já não se trata mais de numeros absolutos, então a comparação é tipo \"tal curso tem média maior, mediana maior...\" sem falar valores"
   ],
   "metadata": {}
  },
  {
   "cell_type": "code",
   "execution_count": 205,
   "source": [
    "normalizeColumn('nome_curso')\n"
   ],
   "outputs": [],
   "metadata": {}
  },
  {
   "cell_type": "code",
   "execution_count": 206,
   "source": [
    "boxplotNota('nome_curso', 'nt_geral_normalize', 'Nota Geral', 'Cursos', 'alunos_nota_geral_norm', lista_cursos)"
   ],
   "outputs": [
    {
     "output_type": "display_data",
     "data": {
      "text/plain": [
       "<Figure size 432x288 with 1 Axes>"
      ],
      "image/png": "[encoded data removed]"
     },
     "metadata": {}
    }
   ],
   "metadata": {}
  },
  {
   "cell_type": "code",
   "execution_count": 207,
   "source": [
    "microdados['nt_g_n'] = zscore(microdados['nota_geral'])"
   ],
   "outputs": [],
   "metadata": {}
  },
  {
   "cell_type": "code",
   "execution_count": 208,
   "source": [
    "boxplotNota('nome_curso', 'nt_g_n', 'Nota Geral', 'Cursos', 'alunos_nota_geral_norm_z', lista_cursos)\n"
   ],
   "outputs": [
    {
     "output_type": "display_data",
     "data": {
      "text/plain": [
       "<Figure size 432x288 with 1 Axes>"
      ],
      "image/png": "[encoded data removed]"
     },
     "metadata": {}
    }
   ],
   "metadata": {}
  },
  {
   "cell_type": "markdown",
   "source": [
    "## Alunos nota formacao geral"
   ],
   "metadata": {}
  },
  {
   "cell_type": "code",
   "execution_count": 209,
   "source": [
    "microdados['nota_formacao_geral'].describe()\n"
   ],
   "outputs": [
    {
     "output_type": "execute_result",
     "data": {
      "text/plain": [
       "count    132582.000000\n",
       "mean         52.163797\n",
       "std          18.010767\n",
       "min           0.000000\n",
       "25%          40.000000\n",
       "50%          53.100000\n",
       "75%          65.100000\n",
       "max          99.200000\n",
       "Name: nota_formacao_geral, dtype: float64"
      ]
     },
     "metadata": {},
     "execution_count": 209
    }
   ],
   "metadata": {}
  },
  {
   "cell_type": "code",
   "execution_count": 210,
   "source": [
    "microdados.groupby(['nome_curso'])['nota_formacao_geral'].describe()\n"
   ],
   "outputs": [
    {
     "output_type": "execute_result",
     "data": {
      "text/plain": [
       "              count       mean        std  min   25%   50%   75%   max\n",
       "nome_curso                                                            \n",
       "ADS         31863.0  51.334309  17.908993  0.0  38.8  52.5  64.1  98.6\n",
       "BCC         30788.0  54.170411  18.335410  0.0  42.5  55.8  67.5  99.2\n",
       "EC           8274.0  58.253783  17.738413  0.0  47.0  59.8  71.2  98.8\n",
       "GTI          3203.0  47.105901  16.645779  0.0  36.1  47.5  58.7  96.2\n",
       "LCC          3552.0  52.514668  17.326345  0.0  40.7  53.2  65.1  98.6\n",
       "RC          11925.0  48.251086  17.873265  0.0  36.9  49.0  61.3  98.2\n",
       "SI          42977.0  51.602450  17.619353  0.0  39.8  52.5  64.1  99.0"
      ],
      "text/html": [
       "<div>\n",
       "<style scoped>\n",
       "    .dataframe tbody tr th:only-of-type {\n",
       "        vertical-align: middle;\n",
       "    }\n",
       "\n",
       "    .dataframe tbody tr th {\n",
       "        vertical-align: top;\n",
       "    }\n",
       "\n",
       "    .dataframe thead th {\n",
       "        text-align: right;\n",
       "    }\n",
       "</style>\n",
       "<table border=\"1\" class=\"dataframe\">\n",
       "  <thead>\n",
       "    <tr style=\"text-align: right;\">\n",
       "      <th></th>\n",
       "      <th>count</th>\n",
       "      <th>mean</th>\n",
       "      <th>std</th>\n",
       "      <th>min</th>\n",
       "      <th>25%</th>\n",
       "      <th>50%</th>\n",
       "      <th>75%</th>\n",
       "      <th>max</th>\n",
       "    </tr>\n",
       "    <tr>\n",
       "      <th>nome_curso</th>\n",
       "      <th></th>\n",
       "      <th></th>\n",
       "      <th></th>\n",
       "      <th></th>\n",
       "      <th></th>\n",
       "      <th></th>\n",
       "      <th></th>\n",
       "      <th></th>\n",
       "    </tr>\n",
       "  </thead>\n",
       "  <tbody>\n",
       "    <tr>\n",
       "      <th>ADS</th>\n",
       "      <td>31863.0</td>\n",
       "      <td>51.334309</td>\n",
       "      <td>17.908993</td>\n",
       "      <td>0.0</td>\n",
       "      <td>38.8</td>\n",
       "      <td>52.5</td>\n",
       "      <td>64.1</td>\n",
       "      <td>98.6</td>\n",
       "    </tr>\n",
       "    <tr>\n",
       "      <th>BCC</th>\n",
       "      <td>30788.0</td>\n",
       "      <td>54.170411</td>\n",
       "      <td>18.335410</td>\n",
       "      <td>0.0</td>\n",
       "      <td>42.5</td>\n",
       "      <td>55.8</td>\n",
       "      <td>67.5</td>\n",
       "      <td>99.2</td>\n",
       "    </tr>\n",
       "    <tr>\n",
       "      <th>EC</th>\n",
       "      <td>8274.0</td>\n",
       "      <td>58.253783</td>\n",
       "      <td>17.738413</td>\n",
       "      <td>0.0</td>\n",
       "      <td>47.0</td>\n",
       "      <td>59.8</td>\n",
       "      <td>71.2</td>\n",
       "      <td>98.8</td>\n",
       "    </tr>\n",
       "    <tr>\n",
       "      <th>GTI</th>\n",
       "      <td>3203.0</td>\n",
       "      <td>47.105901</td>\n",
       "      <td>16.645779</td>\n",
       "      <td>0.0</td>\n",
       "      <td>36.1</td>\n",
       "      <td>47.5</td>\n",
       "      <td>58.7</td>\n",
       "      <td>96.2</td>\n",
       "    </tr>\n",
       "    <tr>\n",
       "      <th>LCC</th>\n",
       "      <td>3552.0</td>\n",
       "      <td>52.514668</td>\n",
       "      <td>17.326345</td>\n",
       "      <td>0.0</td>\n",
       "      <td>40.7</td>\n",
       "      <td>53.2</td>\n",
       "      <td>65.1</td>\n",
       "      <td>98.6</td>\n",
       "    </tr>\n",
       "    <tr>\n",
       "      <th>RC</th>\n",
       "      <td>11925.0</td>\n",
       "      <td>48.251086</td>\n",
       "      <td>17.873265</td>\n",
       "      <td>0.0</td>\n",
       "      <td>36.9</td>\n",
       "      <td>49.0</td>\n",
       "      <td>61.3</td>\n",
       "      <td>98.2</td>\n",
       "    </tr>\n",
       "    <tr>\n",
       "      <th>SI</th>\n",
       "      <td>42977.0</td>\n",
       "      <td>51.602450</td>\n",
       "      <td>17.619353</td>\n",
       "      <td>0.0</td>\n",
       "      <td>39.8</td>\n",
       "      <td>52.5</td>\n",
       "      <td>64.1</td>\n",
       "      <td>99.0</td>\n",
       "    </tr>\n",
       "  </tbody>\n",
       "</table>\n",
       "</div>"
      ]
     },
     "metadata": {},
     "execution_count": 210
    }
   ],
   "metadata": {}
  },
  {
   "cell_type": "code",
   "execution_count": 211,
   "source": [
    "microdados.groupby(['nome_curso','ano'])['nota_formacao_geral'].mean().unstack().reset_index()\n"
   ],
   "outputs": [
    {
     "output_type": "execute_result",
     "data": {
      "text/plain": [
       "ano nome_curso       2008       2011       2014       2017\n",
       "0          ADS  50.007788  49.517275  55.731710  48.164467\n",
       "1          BCC  52.820778  49.987280  59.748626  54.213214\n",
       "2           EC  54.891473  52.968896  62.408769  58.526003\n",
       "3          GTI        NaN        NaN        NaN  47.105901\n",
       "4          LCC        NaN  54.051873  53.654893  49.649722\n",
       "5           RC  46.762047  47.534993  52.560322  43.853992\n",
       "6           SI  48.391988  48.930705  56.596918  50.396653"
      ],
      "text/html": [
       "<div>\n",
       "<style scoped>\n",
       "    .dataframe tbody tr th:only-of-type {\n",
       "        vertical-align: middle;\n",
       "    }\n",
       "\n",
       "    .dataframe tbody tr th {\n",
       "        vertical-align: top;\n",
       "    }\n",
       "\n",
       "    .dataframe thead th {\n",
       "        text-align: right;\n",
       "    }\n",
       "</style>\n",
       "<table border=\"1\" class=\"dataframe\">\n",
       "  <thead>\n",
       "    <tr style=\"text-align: right;\">\n",
       "      <th>ano</th>\n",
       "      <th>nome_curso</th>\n",
       "      <th>2008</th>\n",
       "      <th>2011</th>\n",
       "      <th>2014</th>\n",
       "      <th>2017</th>\n",
       "    </tr>\n",
       "  </thead>\n",
       "  <tbody>\n",
       "    <tr>\n",
       "      <th>0</th>\n",
       "      <td>ADS</td>\n",
       "      <td>50.007788</td>\n",
       "      <td>49.517275</td>\n",
       "      <td>55.731710</td>\n",
       "      <td>48.164467</td>\n",
       "    </tr>\n",
       "    <tr>\n",
       "      <th>1</th>\n",
       "      <td>BCC</td>\n",
       "      <td>52.820778</td>\n",
       "      <td>49.987280</td>\n",
       "      <td>59.748626</td>\n",
       "      <td>54.213214</td>\n",
       "    </tr>\n",
       "    <tr>\n",
       "      <th>2</th>\n",
       "      <td>EC</td>\n",
       "      <td>54.891473</td>\n",
       "      <td>52.968896</td>\n",
       "      <td>62.408769</td>\n",
       "      <td>58.526003</td>\n",
       "    </tr>\n",
       "    <tr>\n",
       "      <th>3</th>\n",
       "      <td>GTI</td>\n",
       "      <td>NaN</td>\n",
       "      <td>NaN</td>\n",
       "      <td>NaN</td>\n",
       "      <td>47.105901</td>\n",
       "    </tr>\n",
       "    <tr>\n",
       "      <th>4</th>\n",
       "      <td>LCC</td>\n",
       "      <td>NaN</td>\n",
       "      <td>54.051873</td>\n",
       "      <td>53.654893</td>\n",
       "      <td>49.649722</td>\n",
       "    </tr>\n",
       "    <tr>\n",
       "      <th>5</th>\n",
       "      <td>RC</td>\n",
       "      <td>46.762047</td>\n",
       "      <td>47.534993</td>\n",
       "      <td>52.560322</td>\n",
       "      <td>43.853992</td>\n",
       "    </tr>\n",
       "    <tr>\n",
       "      <th>6</th>\n",
       "      <td>SI</td>\n",
       "      <td>48.391988</td>\n",
       "      <td>48.930705</td>\n",
       "      <td>56.596918</td>\n",
       "      <td>50.396653</td>\n",
       "    </tr>\n",
       "  </tbody>\n",
       "</table>\n",
       "</div>"
      ]
     },
     "metadata": {},
     "execution_count": 211
    }
   ],
   "metadata": {}
  },
  {
   "cell_type": "code",
   "execution_count": 212,
   "source": [
    "boxplotNota('nome_curso', 'nota_formacao_geral', 'Nota Formação Geral', 'Cursos', 'alunos_nota_formacao_geral', lista_cursos, 101, 10)"
   ],
   "outputs": [
    {
     "output_type": "display_data",
     "data": {
      "text/plain": [
       "<Figure size 432x288 with 1 Axes>"
      ],
      "image/png": "[encoded data removed]"
     },
     "metadata": {}
    }
   ],
   "metadata": {}
  },
  {
   "cell_type": "code",
   "execution_count": 213,
   "source": [
    "boxplotNota('nome_curso', 'nota_obj_formacao_geral', 'Nota Objetiva Formação Geral', 'Cursos', 'alunos_nota_obj_formacao_geral', lista_cursos, 101, 10)"
   ],
   "outputs": [
    {
     "output_type": "display_data",
     "data": {
      "text/plain": [
       "<Figure size 432x288 with 1 Axes>"
      ],
      "image/png": "[encoded data removed]"
     },
     "metadata": {}
    }
   ],
   "metadata": {}
  },
  {
   "cell_type": "code",
   "execution_count": 214,
   "source": [
    "boxplotNota('nome_curso', 'nota_dis_formacao_geral', 'Nota Discursiva Formação Geral', 'Cursos', 'alunos_nota_dis_formacao_geral', lista_cursos, 101, 10)"
   ],
   "outputs": [
    {
     "output_type": "display_data",
     "data": {
      "text/plain": [
       "<Figure size 432x288 with 1 Axes>"
      ],
      "image/png": "[encoded data removed]"
     },
     "metadata": {}
    }
   ],
   "metadata": {}
  },
  {
   "cell_type": "markdown",
   "source": [
    "## Alunos nota compenente especifico"
   ],
   "metadata": {}
  },
  {
   "cell_type": "code",
   "execution_count": 215,
   "source": [
    "microdados['nota_componente_especifico'].describe()\n"
   ],
   "outputs": [
    {
     "output_type": "execute_result",
     "data": {
      "text/plain": [
       "count    132582.000000\n",
       "mean         35.837134\n",
       "std          15.406493\n",
       "min           0.000000\n",
       "25%          24.300000\n",
       "50%          34.300000\n",
       "75%          46.000000\n",
       "max          99.300000\n",
       "Name: nota_componente_especifico, dtype: float64"
      ]
     },
     "metadata": {},
     "execution_count": 215
    }
   ],
   "metadata": {}
  },
  {
   "cell_type": "code",
   "execution_count": 216,
   "source": [
    "microdados.groupby(['nome_curso'])['nota_componente_especifico'].describe()\n"
   ],
   "outputs": [
    {
     "output_type": "execute_result",
     "data": {
      "text/plain": [
       "              count       mean        std  min   25%   50%    75%   max\n",
       "nome_curso                                                             \n",
       "ADS         31863.0  36.757499  15.203725  0.0  25.5  35.5  46.80  94.7\n",
       "BCC         30788.0  34.207431  15.747106  0.0  22.6  32.4  44.50  99.3\n",
       "EC           8274.0  38.393739  16.584064  0.0  27.6  37.7  48.80  96.3\n",
       "GTI          3203.0  44.972026  14.735626  0.0  34.6  45.2  54.85  93.4\n",
       "LCC          3552.0  40.544623  17.163281  0.0  27.3  40.3  53.30  89.5\n",
       "RC          11925.0  34.932361  14.330400  0.0  25.0  33.8  43.70  96.5\n",
       "SI          42977.0  35.011243  14.834063  0.0  23.6  33.3  44.70  90.4"
      ],
      "text/html": [
       "<div>\n",
       "<style scoped>\n",
       "    .dataframe tbody tr th:only-of-type {\n",
       "        vertical-align: middle;\n",
       "    }\n",
       "\n",
       "    .dataframe tbody tr th {\n",
       "        vertical-align: top;\n",
       "    }\n",
       "\n",
       "    .dataframe thead th {\n",
       "        text-align: right;\n",
       "    }\n",
       "</style>\n",
       "<table border=\"1\" class=\"dataframe\">\n",
       "  <thead>\n",
       "    <tr style=\"text-align: right;\">\n",
       "      <th></th>\n",
       "      <th>count</th>\n",
       "      <th>mean</th>\n",
       "      <th>std</th>\n",
       "      <th>min</th>\n",
       "      <th>25%</th>\n",
       "      <th>50%</th>\n",
       "      <th>75%</th>\n",
       "      <th>max</th>\n",
       "    </tr>\n",
       "    <tr>\n",
       "      <th>nome_curso</th>\n",
       "      <th></th>\n",
       "      <th></th>\n",
       "      <th></th>\n",
       "      <th></th>\n",
       "      <th></th>\n",
       "      <th></th>\n",
       "      <th></th>\n",
       "      <th></th>\n",
       "    </tr>\n",
       "  </thead>\n",
       "  <tbody>\n",
       "    <tr>\n",
       "      <th>ADS</th>\n",
       "      <td>31863.0</td>\n",
       "      <td>36.757499</td>\n",
       "      <td>15.203725</td>\n",
       "      <td>0.0</td>\n",
       "      <td>25.5</td>\n",
       "      <td>35.5</td>\n",
       "      <td>46.80</td>\n",
       "      <td>94.7</td>\n",
       "    </tr>\n",
       "    <tr>\n",
       "      <th>BCC</th>\n",
       "      <td>30788.0</td>\n",
       "      <td>34.207431</td>\n",
       "      <td>15.747106</td>\n",
       "      <td>0.0</td>\n",
       "      <td>22.6</td>\n",
       "      <td>32.4</td>\n",
       "      <td>44.50</td>\n",
       "      <td>99.3</td>\n",
       "    </tr>\n",
       "    <tr>\n",
       "      <th>EC</th>\n",
       "      <td>8274.0</td>\n",
       "      <td>38.393739</td>\n",
       "      <td>16.584064</td>\n",
       "      <td>0.0</td>\n",
       "      <td>27.6</td>\n",
       "      <td>37.7</td>\n",
       "      <td>48.80</td>\n",
       "      <td>96.3</td>\n",
       "    </tr>\n",
       "    <tr>\n",
       "      <th>GTI</th>\n",
       "      <td>3203.0</td>\n",
       "      <td>44.972026</td>\n",
       "      <td>14.735626</td>\n",
       "      <td>0.0</td>\n",
       "      <td>34.6</td>\n",
       "      <td>45.2</td>\n",
       "      <td>54.85</td>\n",
       "      <td>93.4</td>\n",
       "    </tr>\n",
       "    <tr>\n",
       "      <th>LCC</th>\n",
       "      <td>3552.0</td>\n",
       "      <td>40.544623</td>\n",
       "      <td>17.163281</td>\n",
       "      <td>0.0</td>\n",
       "      <td>27.3</td>\n",
       "      <td>40.3</td>\n",
       "      <td>53.30</td>\n",
       "      <td>89.5</td>\n",
       "    </tr>\n",
       "    <tr>\n",
       "      <th>RC</th>\n",
       "      <td>11925.0</td>\n",
       "      <td>34.932361</td>\n",
       "      <td>14.330400</td>\n",
       "      <td>0.0</td>\n",
       "      <td>25.0</td>\n",
       "      <td>33.8</td>\n",
       "      <td>43.70</td>\n",
       "      <td>96.5</td>\n",
       "    </tr>\n",
       "    <tr>\n",
       "      <th>SI</th>\n",
       "      <td>42977.0</td>\n",
       "      <td>35.011243</td>\n",
       "      <td>14.834063</td>\n",
       "      <td>0.0</td>\n",
       "      <td>23.6</td>\n",
       "      <td>33.3</td>\n",
       "      <td>44.70</td>\n",
       "      <td>90.4</td>\n",
       "    </tr>\n",
       "  </tbody>\n",
       "</table>\n",
       "</div>"
      ]
     },
     "metadata": {},
     "execution_count": 216
    }
   ],
   "metadata": {}
  },
  {
   "cell_type": "code",
   "execution_count": 217,
   "source": [
    "microdados.groupby(['nome_curso','ano'])['nota_componente_especifico'].mean().unstack().reset_index()\n"
   ],
   "outputs": [
    {
     "output_type": "execute_result",
     "data": {
      "text/plain": [
       "ano nome_curso       2008       2011       2014       2017\n",
       "0          ADS  38.120976  37.134935  35.327570  37.576546\n",
       "1          BCC  29.906341  27.074747  39.302348  39.678497\n",
       "2           EC  35.531008  31.454588  40.537239  41.041640\n",
       "3          GTI        NaN        NaN        NaN  44.972026\n",
       "4          LCC        NaN  25.380259  48.129190  37.802685\n",
       "5           RC  34.486278  33.889985  39.054505  30.358710\n",
       "6           SI  30.389515  23.853806  39.261641  42.846939"
      ],
      "text/html": [
       "<div>\n",
       "<style scoped>\n",
       "    .dataframe tbody tr th:only-of-type {\n",
       "        vertical-align: middle;\n",
       "    }\n",
       "\n",
       "    .dataframe tbody tr th {\n",
       "        vertical-align: top;\n",
       "    }\n",
       "\n",
       "    .dataframe thead th {\n",
       "        text-align: right;\n",
       "    }\n",
       "</style>\n",
       "<table border=\"1\" class=\"dataframe\">\n",
       "  <thead>\n",
       "    <tr style=\"text-align: right;\">\n",
       "      <th>ano</th>\n",
       "      <th>nome_curso</th>\n",
       "      <th>2008</th>\n",
       "      <th>2011</th>\n",
       "      <th>2014</th>\n",
       "      <th>2017</th>\n",
       "    </tr>\n",
       "  </thead>\n",
       "  <tbody>\n",
       "    <tr>\n",
       "      <th>0</th>\n",
       "      <td>ADS</td>\n",
       "      <td>38.120976</td>\n",
       "      <td>37.134935</td>\n",
       "      <td>35.327570</td>\n",
       "      <td>37.576546</td>\n",
       "    </tr>\n",
       "    <tr>\n",
       "      <th>1</th>\n",
       "      <td>BCC</td>\n",
       "      <td>29.906341</td>\n",
       "      <td>27.074747</td>\n",
       "      <td>39.302348</td>\n",
       "      <td>39.678497</td>\n",
       "    </tr>\n",
       "    <tr>\n",
       "      <th>2</th>\n",
       "      <td>EC</td>\n",
       "      <td>35.531008</td>\n",
       "      <td>31.454588</td>\n",
       "      <td>40.537239</td>\n",
       "      <td>41.041640</td>\n",
       "    </tr>\n",
       "    <tr>\n",
       "      <th>3</th>\n",
       "      <td>GTI</td>\n",
       "      <td>NaN</td>\n",
       "      <td>NaN</td>\n",
       "      <td>NaN</td>\n",
       "      <td>44.972026</td>\n",
       "    </tr>\n",
       "    <tr>\n",
       "      <th>4</th>\n",
       "      <td>LCC</td>\n",
       "      <td>NaN</td>\n",
       "      <td>25.380259</td>\n",
       "      <td>48.129190</td>\n",
       "      <td>37.802685</td>\n",
       "    </tr>\n",
       "    <tr>\n",
       "      <th>5</th>\n",
       "      <td>RC</td>\n",
       "      <td>34.486278</td>\n",
       "      <td>33.889985</td>\n",
       "      <td>39.054505</td>\n",
       "      <td>30.358710</td>\n",
       "    </tr>\n",
       "    <tr>\n",
       "      <th>6</th>\n",
       "      <td>SI</td>\n",
       "      <td>30.389515</td>\n",
       "      <td>23.853806</td>\n",
       "      <td>39.261641</td>\n",
       "      <td>42.846939</td>\n",
       "    </tr>\n",
       "  </tbody>\n",
       "</table>\n",
       "</div>"
      ]
     },
     "metadata": {},
     "execution_count": 217
    }
   ],
   "metadata": {}
  },
  {
   "cell_type": "code",
   "execution_count": 218,
   "source": [
    "boxplotNota('nome_curso', 'nota_componente_especifico', 'Nota Componente Específico', 'Cursos', 'alunos_nota_componente_espc', lista_cursos, 101, 10)"
   ],
   "outputs": [
    {
     "output_type": "display_data",
     "data": {
      "text/plain": [
       "<Figure size 432x288 with 1 Axes>"
      ],
      "image/png": "[encoded data removed]"
     },
     "metadata": {}
    }
   ],
   "metadata": {}
  },
  {
   "cell_type": "code",
   "execution_count": 219,
   "source": [
    "boxplotNota('nome_curso', 'nota_obj_componente_especifico', 'Nota Objetiva Componente Específico', 'Cursos', 'alunos_nota_obj_componente_espc', lista_cursos, 101, 10)"
   ],
   "outputs": [
    {
     "output_type": "display_data",
     "data": {
      "text/plain": [
       "<Figure size 432x288 with 1 Axes>"
      ],
      "image/png": "[encoded data removed]"
     },
     "metadata": {}
    }
   ],
   "metadata": {}
  },
  {
   "cell_type": "code",
   "execution_count": 220,
   "source": [
    "boxplotNota('nome_curso', 'nota_dis_componente_especifico', 'Nota Discursiva Componente Específico', 'Cursos', 'alunos_nota_dis_componente_espc', lista_cursos, 101, 10)"
   ],
   "outputs": [
    {
     "output_type": "display_data",
     "data": {
      "text/plain": [
       "<Figure size 432x288 with 1 Axes>"
      ],
      "image/png": "[encoded data removed]"
     },
     "metadata": {}
    }
   ],
   "metadata": {}
  }
 ],
 "metadata": {
  "orig_nbformat": 4,
  "language_info": {
   "name": "python",
   "version": "3.8.10",
   "mimetype": "text/x-python",
   "codemirror_mode": {
    "name": "ipython",
    "version": 3
   },
   "pygments_lexer": "ipython3",
   "nbconvert_exporter": "python",
   "file_extension": ".py"
  },
  "kernelspec": {
   "name": "python3",
   "display_name": "Python 3.8.10 64-bit"
  },
  "interpreter": {
   "hash": "916dbcbb3f70747c44a77c7bcd40155683ae19c65e1c03b4aa3499c5328201f1"
  }
 },
 "nbformat": 4,
 "nbformat_minor": 2
}