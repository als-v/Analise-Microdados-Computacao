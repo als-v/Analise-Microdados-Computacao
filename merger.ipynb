{
 "cells": [
  {
   "cell_type": "code",
   "execution_count": 119,
   "metadata": {},
   "outputs": [],
   "source": [
    "import pandas as pd\n",
    "import os\n",
    "import matplotlib.pyplot as plt"
   ]
  },
  {
   "cell_type": "code",
   "execution_count": 120,
   "metadata": {},
   "outputs": [],
   "source": [
    "# enade_2005 = pd.read_csv('computacao_enade_2005.csv',sep=',',decimal='.')\n",
    "# enade_2008 = pd.read_csv('computacao_enade_2008.csv',sep=',',decimal='.')\n",
    "enade_2011 = pd.read_csv('computacao_enade_2011.csv',sep=',',decimal='.')\n",
    "enade_2014 = pd.read_csv('computacao_enade_2014.csv',sep=',',decimal='.')\n",
    "enade_2017 = pd.read_csv('computacao_enade_2017.csv',sep=',',decimal='.')"
   ]
  },
  {
   "cell_type": "code",
   "execution_count": 121,
   "metadata": {},
   "outputs": [],
   "source": [
    "# enade_2005['ano'] = '2005' \n",
    "# enade_2008['ano'] = '2008'\n",
    "enade_2011['ano'] = '2011'\n",
    "enade_2014['ano'] = '2014'\n",
    "enade_2017['ano'] = '2017'"
   ]
  },
  {
   "cell_type": "code",
   "execution_count": 122,
   "metadata": {},
   "outputs": [],
   "source": [
    "frames = [\n",
    "    # enade_2005, \n",
    "    # enade_2008, \n",
    "    enade_2011, \n",
    "    enade_2014, \n",
    "    enade_2017]\n",
    "enade_merge = pd.concat(frames)"
   ]
  },
  {
   "cell_type": "code",
   "execution_count": 123,
   "metadata": {},
   "outputs": [],
   "source": [
    "enade_merge['cotas'].replace(['*','.'],'Não',inplace=True)\n",
    "enade_merge['cotas'].fillna('Não',inplace=True)"
   ]
  },
  {
   "cell_type": "code",
   "execution_count": 124,
   "metadata": {},
   "outputs": [],
   "source": [
    "enade_merge['cor_raca'].replace(['*','.'],'ND',inplace=True)\n",
    "enade_merge['cor_raca'].fillna('ND',inplace=True)"
   ]
  },
  {
   "cell_type": "code",
   "execution_count": 125,
   "metadata": {},
   "outputs": [],
   "source": [
    "enade_merge['renda_familiar'].replace(['*','.'],'Nenhuma',inplace=True)\n",
    "enade_merge['renda_familiar'].fillna('Nenhuma',inplace=True)"
   ]
  },
  {
   "cell_type": "code",
   "execution_count": 126,
   "metadata": {},
   "outputs": [],
   "source": [
    "enade_merge['escolaridade_pai'].replace(['*','.'],'Nenhuma',inplace=True)\n",
    "enade_merge['escolaridade_pai'].fillna('Nenhuma',inplace=True)"
   ]
  },
  {
   "cell_type": "code",
   "execution_count": 127,
   "metadata": {},
   "outputs": [],
   "source": [
    "enade_merge['escolaridade_mae'].replace(['*','.'],'Nenhuma',inplace=True)\n",
    "enade_merge['escolaridade_mae'].fillna('Nenhuma',inplace=True)"
   ]
  },
  {
   "cell_type": "code",
   "execution_count": 128,
   "metadata": {},
   "outputs": [],
   "source": [
    "enade_merge['recebeu_bolsa'].fillna('Não',inplace=True)"
   ]
  },
  {
   "cell_type": "code",
   "execution_count": 129,
   "metadata": {},
   "outputs": [],
   "source": [
    "enade_merge['bolsa_academica'].fillna('Nenhum',inplace=True)"
   ]
  },
  {
   "cell_type": "code",
   "execution_count": 130,
   "metadata": {},
   "outputs": [],
   "source": [
    "enade_merge['recebeu_cota'].replace(['*','.'],'Não',inplace=True)\n",
    "enade_merge['recebeu_cota'].fillna('Não',inplace=True)"
   ]
  },
  {
   "cell_type": "code",
   "execution_count": 131,
   "metadata": {},
   "outputs": [],
   "source": [
    "enade_merge['tipo_ensino_medio'].replace(['*','.'],'Não-Informado',inplace=True)\n",
    "enade_merge['tipo_ensino_medio'].fillna('Não-Informado',inplace=True)"
   ]
  },
  {
   "cell_type": "code",
   "execution_count": 132,
   "metadata": {},
   "outputs": [],
   "source": [
    "enade_merge['turno'].replace(['V','M'],'D',inplace=True)\n",
    "enade_merge['turno'].fillna('Não-Informado',inplace=True)"
   ]
  },
  {
   "cell_type": "code",
   "execution_count": 133,
   "metadata": {},
   "outputs": [],
   "source": [
    "enade_merge['ead_presencial'].fillna('Não-Informado',inplace=True)"
   ]
  },
  {
   "cell_type": "code",
   "execution_count": 134,
   "metadata": {},
   "outputs": [],
   "source": [
    "enade_merge['trabalha'].replace(['*','.'],'Não-Informado',inplace=True)\n",
    "enade_merge['trabalha'].fillna('Não-Informado',inplace=True)"
   ]
  },
  {
   "cell_type": "code",
   "execution_count": 135,
   "metadata": {},
   "outputs": [],
   "source": [
    "enade_merge['estado_civil'].fillna('Não-Informado',inplace=True)"
   ]
  },
  {
   "cell_type": "code",
   "execution_count": 136,
   "metadata": {},
   "outputs": [],
   "source": [
    "enade_merge['moradia'].fillna('Não-Informado',inplace=True)"
   ]
  },
  {
   "cell_type": "code",
   "execution_count": 137,
   "metadata": {},
   "outputs": [],
   "source": [
    "enade_merge['pessoas_moradia'].fillna('Não-Informado',inplace=True)"
   ]
  },
  {
   "cell_type": "code",
   "execution_count": 138,
   "metadata": {},
   "outputs": [],
   "source": [
    "\n",
    "enade_merge['ensino_medio'].fillna('Não-Informado',inplace=True)"
   ]
  },
  {
   "cell_type": "code",
   "execution_count": 139,
   "metadata": {},
   "outputs": [],
   "source": [
    "enade_merge['condicoes_salas_estudantes'].fillna('Não-Informado',inplace=True)"
   ]
  },
  {
   "cell_type": "code",
   "execution_count": 140,
   "metadata": {},
   "outputs": [],
   "source": [
    "enade_merge['condicoes_praticas_materiais'].fillna('Não-Informado',inplace=True)"
   ]
  },
  {
   "cell_type": "code",
   "execution_count": 141,
   "metadata": {},
   "outputs": [],
   "source": [
    "enade_merge['plano_ensino'].fillna('Não-Informado',inplace=True)"
   ]
  },
  {
   "cell_type": "code",
   "execution_count": 142,
   "metadata": {},
   "outputs": [],
   "source": [
    "enade_merge['avaliacao_curso'].fillna('Não-Informado',inplace=True)"
   ]
  },
  {
   "cell_type": "code",
   "execution_count": 143,
   "metadata": {},
   "outputs": [
    {
     "data": {
      "text/plain": [
       "codigo_IES                         False\n",
       "categoria_adm                      False\n",
       "organizacao_academica              False\n",
       "nome_curso                         False\n",
       "curso                              False\n",
       "ead_presencial                     False\n",
       "uf                                 False\n",
       "regiao                             False\n",
       "idade                              False\n",
       "sexo                               False\n",
       "formatura_medio                    False\n",
       "inicio_graduacao                   False\n",
       "nota_geral                         False\n",
       "nota_formacao_geral                False\n",
       "nota_obj_formacao_geral            False\n",
       "nota_disc_formacao_geral           False\n",
       "nota_componente_especifico         False\n",
       "nota_obj_componente_especifico     False\n",
       "nota_disc_componente_especifico    False\n",
       "estado_civil                       False\n",
       "cor_raca                           False\n",
       "moradia                            False\n",
       "pessoas_moradia                    False\n",
       "renda_familiar                     False\n",
       "trabalha                           False\n",
       "cotas                              False\n",
       "escolaridade_pai                   False\n",
       "escolaridade_mae                   False\n",
       "tipo_ensino_medio                  False\n",
       "ensino_medio                       False\n",
       "livros_ano                          True\n",
       "horas_estudo                        True\n",
       "condicoes_salas_estudantes         False\n",
       "condicoes_praticas_materiais       False\n",
       "plano_ensino                       False\n",
       "avaliacao_curso                    False\n",
       "turno                              False\n",
       "recebeu_cota                       False\n",
       "range_idade                        False\n",
       "ano                                False\n",
       "bolsa_academica                    False\n",
       "condicoes_praticas_estudantes       True\n",
       "recebeu_bolsa                      False\n",
       "dtype: bool"
      ]
     },
     "execution_count": 143,
     "metadata": {},
     "output_type": "execute_result"
    }
   ],
   "source": [
    "enade_merge.isna().any()"
   ]
  },
  {
   "cell_type": "code",
   "execution_count": 144,
   "metadata": {},
   "outputs": [
    {
     "data": {
      "text/html": [
       "<div>\n",
       "<style scoped>\n",
       "    .dataframe tbody tr th:only-of-type {\n",
       "        vertical-align: middle;\n",
       "    }\n",
       "\n",
       "    .dataframe tbody tr th {\n",
       "        vertical-align: top;\n",
       "    }\n",
       "\n",
       "    .dataframe thead th {\n",
       "        text-align: right;\n",
       "    }\n",
       "</style>\n",
       "<table border=\"1\" class=\"dataframe\">\n",
       "  <thead>\n",
       "    <tr style=\"text-align: right;\">\n",
       "      <th></th>\n",
       "      <th>codigo_IES</th>\n",
       "      <th>categoria_adm</th>\n",
       "      <th>organizacao_academica</th>\n",
       "      <th>nome_curso</th>\n",
       "      <th>curso</th>\n",
       "      <th>ead_presencial</th>\n",
       "      <th>uf</th>\n",
       "      <th>regiao</th>\n",
       "      <th>idade</th>\n",
       "      <th>sexo</th>\n",
       "      <th>...</th>\n",
       "      <th>condicoes_praticas_materiais</th>\n",
       "      <th>plano_ensino</th>\n",
       "      <th>avaliacao_curso</th>\n",
       "      <th>turno</th>\n",
       "      <th>recebeu_cota</th>\n",
       "      <th>range_idade</th>\n",
       "      <th>ano</th>\n",
       "      <th>bolsa_academica</th>\n",
       "      <th>condicoes_praticas_estudantes</th>\n",
       "      <th>recebeu_bolsa</th>\n",
       "    </tr>\n",
       "  </thead>\n",
       "  <tbody>\n",
       "    <tr>\n",
       "      <th>0</th>\n",
       "      <td>1313</td>\n",
       "      <td>IES privada</td>\n",
       "      <td>Faculdade</td>\n",
       "      <td>SI</td>\n",
       "      <td>47630</td>\n",
       "      <td>Presencial</td>\n",
       "      <td>SP</td>\n",
       "      <td>SE</td>\n",
       "      <td>27</td>\n",
       "      <td>M</td>\n",
       "      <td>...</td>\n",
       "      <td>Algumas</td>\n",
       "      <td>Todos aspectos</td>\n",
       "      <td>Boa</td>\n",
       "      <td>N</td>\n",
       "      <td>Não</td>\n",
       "      <td>25-29</td>\n",
       "      <td>2011</td>\n",
       "      <td>Nenhum</td>\n",
       "      <td>NaN</td>\n",
       "      <td>Não</td>\n",
       "    </tr>\n",
       "    <tr>\n",
       "      <th>1</th>\n",
       "      <td>1295</td>\n",
       "      <td>IES privada</td>\n",
       "      <td>Faculdade</td>\n",
       "      <td>RC</td>\n",
       "      <td>55569</td>\n",
       "      <td>Presencial</td>\n",
       "      <td>SP</td>\n",
       "      <td>SE</td>\n",
       "      <td>20</td>\n",
       "      <td>M</td>\n",
       "      <td>...</td>\n",
       "      <td>Algumas</td>\n",
       "      <td>Todos aspectos</td>\n",
       "      <td>Boa</td>\n",
       "      <td>N</td>\n",
       "      <td>Sim</td>\n",
       "      <td>17-24</td>\n",
       "      <td>2011</td>\n",
       "      <td>Nenhum</td>\n",
       "      <td>NaN</td>\n",
       "      <td>Não</td>\n",
       "    </tr>\n",
       "    <tr>\n",
       "      <th>2</th>\n",
       "      <td>1295</td>\n",
       "      <td>IES privada</td>\n",
       "      <td>Faculdade</td>\n",
       "      <td>RC</td>\n",
       "      <td>55569</td>\n",
       "      <td>Presencial</td>\n",
       "      <td>SP</td>\n",
       "      <td>SE</td>\n",
       "      <td>21</td>\n",
       "      <td>F</td>\n",
       "      <td>...</td>\n",
       "      <td>Não-Informado</td>\n",
       "      <td>Todos aspectos</td>\n",
       "      <td>Muito boa</td>\n",
       "      <td>N</td>\n",
       "      <td>Não</td>\n",
       "      <td>17-24</td>\n",
       "      <td>2011</td>\n",
       "      <td>Nenhum</td>\n",
       "      <td>NaN</td>\n",
       "      <td>Não</td>\n",
       "    </tr>\n",
       "    <tr>\n",
       "      <th>3</th>\n",
       "      <td>5016</td>\n",
       "      <td>IES pública</td>\n",
       "      <td>Faculdade</td>\n",
       "      <td>ADS</td>\n",
       "      <td>96819</td>\n",
       "      <td>Presencial</td>\n",
       "      <td>RJ</td>\n",
       "      <td>SE</td>\n",
       "      <td>23</td>\n",
       "      <td>M</td>\n",
       "      <td>...</td>\n",
       "      <td>Todas</td>\n",
       "      <td>Todos aspectos</td>\n",
       "      <td>Muito boa</td>\n",
       "      <td>D</td>\n",
       "      <td>Sim</td>\n",
       "      <td>17-24</td>\n",
       "      <td>2011</td>\n",
       "      <td>Nenhum</td>\n",
       "      <td>NaN</td>\n",
       "      <td>Não</td>\n",
       "    </tr>\n",
       "    <tr>\n",
       "      <th>4</th>\n",
       "      <td>1295</td>\n",
       "      <td>IES privada</td>\n",
       "      <td>Faculdade</td>\n",
       "      <td>RC</td>\n",
       "      <td>55569</td>\n",
       "      <td>Presencial</td>\n",
       "      <td>SP</td>\n",
       "      <td>SE</td>\n",
       "      <td>24</td>\n",
       "      <td>M</td>\n",
       "      <td>...</td>\n",
       "      <td>Algumas</td>\n",
       "      <td>Nenhum</td>\n",
       "      <td>Regular</td>\n",
       "      <td>N</td>\n",
       "      <td>Não</td>\n",
       "      <td>17-24</td>\n",
       "      <td>2011</td>\n",
       "      <td>Nenhum</td>\n",
       "      <td>NaN</td>\n",
       "      <td>Não</td>\n",
       "    </tr>\n",
       "    <tr>\n",
       "      <th>...</th>\n",
       "      <td>...</td>\n",
       "      <td>...</td>\n",
       "      <td>...</td>\n",
       "      <td>...</td>\n",
       "      <td>...</td>\n",
       "      <td>...</td>\n",
       "      <td>...</td>\n",
       "      <td>...</td>\n",
       "      <td>...</td>\n",
       "      <td>...</td>\n",
       "      <td>...</td>\n",
       "      <td>...</td>\n",
       "      <td>...</td>\n",
       "      <td>...</td>\n",
       "      <td>...</td>\n",
       "      <td>...</td>\n",
       "      <td>...</td>\n",
       "      <td>...</td>\n",
       "      <td>...</td>\n",
       "      <td>...</td>\n",
       "      <td>...</td>\n",
       "    </tr>\n",
       "    <tr>\n",
       "      <th>40109</th>\n",
       "      <td>3295</td>\n",
       "      <td>IES privada</td>\n",
       "      <td>Faculdade</td>\n",
       "      <td>ADS</td>\n",
       "      <td>5001211</td>\n",
       "      <td>Presencial</td>\n",
       "      <td>SC</td>\n",
       "      <td>S</td>\n",
       "      <td>20</td>\n",
       "      <td>M</td>\n",
       "      <td>...</td>\n",
       "      <td>6.0</td>\n",
       "      <td>5.0</td>\n",
       "      <td>6.0</td>\n",
       "      <td>D</td>\n",
       "      <td>Não</td>\n",
       "      <td>17-24</td>\n",
       "      <td>2017</td>\n",
       "      <td>Nenhum</td>\n",
       "      <td>NaN</td>\n",
       "      <td>Não</td>\n",
       "    </tr>\n",
       "    <tr>\n",
       "      <th>40110</th>\n",
       "      <td>3295</td>\n",
       "      <td>IES privada</td>\n",
       "      <td>Faculdade</td>\n",
       "      <td>ADS</td>\n",
       "      <td>5001211</td>\n",
       "      <td>Presencial</td>\n",
       "      <td>SC</td>\n",
       "      <td>S</td>\n",
       "      <td>25</td>\n",
       "      <td>M</td>\n",
       "      <td>...</td>\n",
       "      <td>5.0</td>\n",
       "      <td>3.0</td>\n",
       "      <td>4.0</td>\n",
       "      <td>D</td>\n",
       "      <td>Sim</td>\n",
       "      <td>17-24</td>\n",
       "      <td>2017</td>\n",
       "      <td>Nenhum</td>\n",
       "      <td>NaN</td>\n",
       "      <td>Não</td>\n",
       "    </tr>\n",
       "    <tr>\n",
       "      <th>40111</th>\n",
       "      <td>3295</td>\n",
       "      <td>IES privada</td>\n",
       "      <td>Faculdade</td>\n",
       "      <td>ADS</td>\n",
       "      <td>5001211</td>\n",
       "      <td>Presencial</td>\n",
       "      <td>SC</td>\n",
       "      <td>S</td>\n",
       "      <td>35</td>\n",
       "      <td>M</td>\n",
       "      <td>...</td>\n",
       "      <td>6.0</td>\n",
       "      <td>3.0</td>\n",
       "      <td>4.0</td>\n",
       "      <td>D</td>\n",
       "      <td>Não</td>\n",
       "      <td>30-39</td>\n",
       "      <td>2017</td>\n",
       "      <td>Nenhum</td>\n",
       "      <td>NaN</td>\n",
       "      <td>Não</td>\n",
       "    </tr>\n",
       "    <tr>\n",
       "      <th>40112</th>\n",
       "      <td>494</td>\n",
       "      <td>IES privada</td>\n",
       "      <td>Universidade</td>\n",
       "      <td>LCC</td>\n",
       "      <td>5001284</td>\n",
       "      <td>EAD</td>\n",
       "      <td>SC</td>\n",
       "      <td>S</td>\n",
       "      <td>25</td>\n",
       "      <td>M</td>\n",
       "      <td>...</td>\n",
       "      <td>6.0</td>\n",
       "      <td>6.0</td>\n",
       "      <td>6.0</td>\n",
       "      <td>I</td>\n",
       "      <td>Não</td>\n",
       "      <td>17-24</td>\n",
       "      <td>2017</td>\n",
       "      <td>Nenhum</td>\n",
       "      <td>NaN</td>\n",
       "      <td>Não</td>\n",
       "    </tr>\n",
       "    <tr>\n",
       "      <th>40113</th>\n",
       "      <td>494</td>\n",
       "      <td>IES privada</td>\n",
       "      <td>Universidade</td>\n",
       "      <td>LCC</td>\n",
       "      <td>5001284</td>\n",
       "      <td>EAD</td>\n",
       "      <td>SC</td>\n",
       "      <td>S</td>\n",
       "      <td>34</td>\n",
       "      <td>M</td>\n",
       "      <td>...</td>\n",
       "      <td>6.0</td>\n",
       "      <td>6.0</td>\n",
       "      <td>6.0</td>\n",
       "      <td>I</td>\n",
       "      <td>Não</td>\n",
       "      <td>30-39</td>\n",
       "      <td>2017</td>\n",
       "      <td>Nenhum</td>\n",
       "      <td>NaN</td>\n",
       "      <td>Não</td>\n",
       "    </tr>\n",
       "  </tbody>\n",
       "</table>\n",
       "<p>114119 rows × 43 columns</p>\n",
       "</div>"
      ],
      "text/plain": [
       "       codigo_IES categoria_adm organizacao_academica nome_curso    curso  \\\n",
       "0            1313   IES privada             Faculdade         SI    47630   \n",
       "1            1295   IES privada             Faculdade         RC    55569   \n",
       "2            1295   IES privada             Faculdade         RC    55569   \n",
       "3            5016   IES pública             Faculdade        ADS    96819   \n",
       "4            1295   IES privada             Faculdade         RC    55569   \n",
       "...           ...           ...                   ...        ...      ...   \n",
       "40109        3295   IES privada             Faculdade        ADS  5001211   \n",
       "40110        3295   IES privada             Faculdade        ADS  5001211   \n",
       "40111        3295   IES privada             Faculdade        ADS  5001211   \n",
       "40112         494   IES privada          Universidade        LCC  5001284   \n",
       "40113         494   IES privada          Universidade        LCC  5001284   \n",
       "\n",
       "      ead_presencial  uf regiao  idade sexo  ...  \\\n",
       "0         Presencial  SP     SE     27    M  ...   \n",
       "1         Presencial  SP     SE     20    M  ...   \n",
       "2         Presencial  SP     SE     21    F  ...   \n",
       "3         Presencial  RJ     SE     23    M  ...   \n",
       "4         Presencial  SP     SE     24    M  ...   \n",
       "...              ...  ..    ...    ...  ...  ...   \n",
       "40109     Presencial  SC      S     20    M  ...   \n",
       "40110     Presencial  SC      S     25    M  ...   \n",
       "40111     Presencial  SC      S     35    M  ...   \n",
       "40112            EAD  SC      S     25    M  ...   \n",
       "40113            EAD  SC      S     34    M  ...   \n",
       "\n",
       "       condicoes_praticas_materiais    plano_ensino  avaliacao_curso  turno  \\\n",
       "0                           Algumas  Todos aspectos              Boa      N   \n",
       "1                           Algumas  Todos aspectos              Boa      N   \n",
       "2                     Não-Informado  Todos aspectos        Muito boa      N   \n",
       "3                             Todas  Todos aspectos        Muito boa      D   \n",
       "4                           Algumas          Nenhum          Regular      N   \n",
       "...                             ...             ...              ...    ...   \n",
       "40109                           6.0             5.0              6.0      D   \n",
       "40110                           5.0             3.0              4.0      D   \n",
       "40111                           6.0             3.0              4.0      D   \n",
       "40112                           6.0             6.0              6.0      I   \n",
       "40113                           6.0             6.0              6.0      I   \n",
       "\n",
       "       recebeu_cota  range_idade   ano  bolsa_academica  \\\n",
       "0               Não        25-29  2011           Nenhum   \n",
       "1               Sim        17-24  2011           Nenhum   \n",
       "2               Não        17-24  2011           Nenhum   \n",
       "3               Sim        17-24  2011           Nenhum   \n",
       "4               Não        17-24  2011           Nenhum   \n",
       "...             ...          ...   ...              ...   \n",
       "40109           Não        17-24  2017           Nenhum   \n",
       "40110           Sim        17-24  2017           Nenhum   \n",
       "40111           Não        30-39  2017           Nenhum   \n",
       "40112           Não        17-24  2017           Nenhum   \n",
       "40113           Não        30-39  2017           Nenhum   \n",
       "\n",
       "       condicoes_praticas_estudantes recebeu_bolsa  \n",
       "0                                NaN           Não  \n",
       "1                                NaN           Não  \n",
       "2                                NaN           Não  \n",
       "3                                NaN           Não  \n",
       "4                                NaN           Não  \n",
       "...                              ...           ...  \n",
       "40109                            NaN           Não  \n",
       "40110                            NaN           Não  \n",
       "40111                            NaN           Não  \n",
       "40112                            NaN           Não  \n",
       "40113                            NaN           Não  \n",
       "\n",
       "[114119 rows x 43 columns]"
      ]
     },
     "execution_count": 144,
     "metadata": {},
     "output_type": "execute_result"
    }
   ],
   "source": [
    "enade_merge"
   ]
  },
  {
   "cell_type": "code",
   "execution_count": 145,
   "metadata": {},
   "outputs": [],
   "source": [
    "enade_merge['livros_ano'].replace(['*','.'],'0',inplace=True)\n",
    "enade_merge['livros_ano'].fillna('0',inplace=True)"
   ]
  },
  {
   "cell_type": "code",
   "execution_count": 146,
   "metadata": {},
   "outputs": [],
   "source": [
    "enade_merge['horas_estudo'].replace(['*','.'],'0',inplace=True)\n",
    "enade_merge['horas_estudo'].fillna('0',inplace=True)"
   ]
  },
  {
   "cell_type": "code",
   "execution_count": 147,
   "metadata": {},
   "outputs": [],
   "source": [
    "order_column = ['ano','curso','nome_curso','uf','regiao','codigo_IES','categoria_adm','organizacao_academica','turno','ead_presencial',\n",
    "                'nota_geral','nota_formacao_geral','nota_obj_formacao_geral','nota_disc_formacao_geral',\n",
    "                'nota_componente_especifico','nota_obj_componente_especifico','nota_disc_componente_especifico',\n",
    "                'formatura_medio','inicio_graduacao','tipo_ensino_medio','idade','range_idade','sexo','cor_raca',\n",
    "                'escolaridade_pai','escolaridade_mae','renda_familiar','cotas','recebeu_cota','bolsa_academica','recebeu_bolsa', \n",
    "                'trabalha', 'livros_ano', 'horas_estudo', \n",
    "                'estado_civil', 'moradia', 'pessoas_moradia', 'ensino_medio', 'condicoes_salas_estudantes', 'condicoes_praticas_materiais', 'plano_ensino', 'avaliacao_curso']\n",
    "\n",
    "enade_merge = enade_merge.reindex(columns=order_column)"
   ]
  },
  {
   "cell_type": "code",
   "execution_count": 148,
   "metadata": {},
   "outputs": [
    {
     "data": {
      "text/plain": [
       "array(['Noturno', 'Diurno', 'Integral'], dtype=object)"
      ]
     },
     "execution_count": 148,
     "metadata": {},
     "output_type": "execute_result"
    }
   ],
   "source": [
    "turno_dict={'I':'Integral','D':'Diurno','N':'Noturno','Não-Informado':'Não-Informado'}\n",
    "enade_merge['turno'].replace(turno_dict,inplace=True)\n",
    "enade_merge['turno'].unique()"
   ]
  },
  {
   "cell_type": "code",
   "execution_count": 149,
   "metadata": {},
   "outputs": [
    {
     "data": {
      "text/plain": [
       "M    96716\n",
       "F    17400\n",
       "Name: sexo, dtype: int64"
      ]
     },
     "execution_count": 149,
     "metadata": {},
     "output_type": "execute_result"
    }
   ],
   "source": [
    "enade_merge = enade_merge.loc[enade_merge.sexo != 'N']\n",
    "enade_merge['sexo'].value_counts()"
   ]
  },
  {
   "cell_type": "code",
   "execution_count": 150,
   "metadata": {},
   "outputs": [
    {
     "data": {
      "text/plain": [
       "array(['Ensino Superior', 'Ensino Fundamental', 'Ensino Médio', 'Nenhuma'],\n",
       "      dtype=object)"
      ]
     },
     "execution_count": 150,
     "metadata": {},
     "output_type": "execute_result"
    }
   ],
   "source": [
    "escolaridade_dict = {'1°-5° EF':'Ensino Fundamental','6°-9° EF':'Ensino Fundamental','Ensino Médio':'Ensino Médio','Nenhuma':'Nenhuma','Graduação':'Ensino Superior','Graduação+':'Ensino Superior','Pós-graduação':'Ensino Superior'}\n",
    "enade_merge['escolaridade_pai'].replace(escolaridade_dict,inplace=True)\n",
    "enade_merge['escolaridade_pai'].unique()"
   ]
  },
  {
   "cell_type": "code",
   "execution_count": 151,
   "metadata": {},
   "outputs": [
    {
     "data": {
      "text/plain": [
       "array(['Ensino Médio', 'Ensino Superior', 'Ensino Fundamental', 'Nenhuma'],\n",
       "      dtype=object)"
      ]
     },
     "execution_count": 151,
     "metadata": {},
     "output_type": "execute_result"
    }
   ],
   "source": [
    "enade_merge['escolaridade_mae'].replace(escolaridade_dict,inplace=True)\n",
    "enade_merge['escolaridade_mae'].unique()"
   ]
  },
  {
   "cell_type": "code",
   "execution_count": 152,
   "metadata": {},
   "outputs": [
    {
     "data": {
      "text/plain": [
       "array(['Sim', 'Não', 'Não-Informado'], dtype=object)"
      ]
     },
     "execution_count": 152,
     "metadata": {},
     "output_type": "execute_result"
    }
   ],
   "source": [
    "enade_merge['trabalha'].unique()"
   ]
  },
  {
   "cell_type": "code",
   "execution_count": 153,
   "metadata": {},
   "outputs": [
    {
     "data": {
      "text/plain": [
       "array(['Faculdade', 'Centro Universitário', 'Universidade', 'I.F.E',\n",
       "       'C.F.E.T'], dtype=object)"
      ]
     },
     "execution_count": 153,
     "metadata": {},
     "output_type": "execute_result"
    }
   ],
   "source": [
    "enade_merge['organizacao_academica'].unique()"
   ]
  },
  {
   "cell_type": "code",
   "execution_count": 154,
   "metadata": {},
   "outputs": [
    {
     "data": {
      "text/plain": [
       "array(['Preta', 'Branca', 'Parda', 'Amarela', 'Indígena', 'Não Inf.'],\n",
       "      dtype=object)"
      ]
     },
     "execution_count": 154,
     "metadata": {},
     "output_type": "execute_result"
    }
   ],
   "source": [
    "escolaridade_dict = {'Amarela':'Amarela','Branca':'Branca','Indígena':'Indígena','ND':'Não Inf.','Parda':'Parda','Preta':'Preta'}\n",
    "enade_merge['cor_raca'].replace(escolaridade_dict,inplace=True)\n",
    "enade_merge['cor_raca'].unique()"
   ]
  },
  {
   "cell_type": "code",
   "execution_count": 155,
   "metadata": {},
   "outputs": [],
   "source": [
    "enade_merge = enade_merge.astype({'nota_geral':float})\n",
    "enade_merge = enade_merge.astype({'nota_formacao_geral':float})\n",
    "enade_merge = enade_merge.astype({'nota_obj_formacao_geral':float})\n",
    "enade_merge = enade_merge.astype({'nota_disc_formacao_geral':float})\n",
    "enade_merge = enade_merge.astype({'nota_componente_especifico':float})\n",
    "enade_merge = enade_merge.astype({'nota_obj_componente_especifico':float})\n",
    "enade_merge = enade_merge.astype({'nota_disc_componente_especifico':float})"
   ]
  },
  {
   "cell_type": "code",
   "execution_count": 156,
   "metadata": {},
   "outputs": [],
   "source": [
    "enade_merge['nota_geral'] = enade_merge['nota_geral'].round(2)\n",
    "enade_merge['nota_formacao_geral'] = enade_merge['nota_formacao_geral'].round(2)\n",
    "enade_merge['nota_obj_formacao_geral'] = enade_merge['nota_obj_formacao_geral'].round(2)\n",
    "enade_merge['nota_disc_formacao_geral'] = enade_merge['nota_disc_formacao_geral'].round(2)\n",
    "enade_merge['nota_componente_especifico'] = enade_merge['nota_componente_especifico'].round(2)\n",
    "enade_merge['nota_obj_componente_especifico'] = enade_merge['nota_obj_componente_especifico'].round(2)\n",
    "enade_merge['nota_disc_componente_especifico'] = enade_merge['nota_disc_componente_especifico'].round(2)"
   ]
  },
  {
   "cell_type": "code",
   "execution_count": 157,
   "metadata": {},
   "outputs": [],
   "source": [
    "enade_merge.rename(columns={'nota_disc_formacao_geral':'nota_dis_formacao_geral'},inplace=True)\n",
    "enade_merge.rename(columns={'nota_disc_componente_especifico':'nota_dis_componente_especifico'},inplace=True)\n",
    "enade_merge.rename(columns={'formatura_medio':'formatura_ensino_medio'},inplace=True)\n",
    "enade_merge.rename(columns={'categoria_adm':'categoria_adm_IES'},inplace=True)"
   ]
  },
  {
   "cell_type": "code",
   "execution_count": 158,
   "metadata": {},
   "outputs": [],
   "source": [
    "enade_merge = enade_merge.astype({'ano':int})"
   ]
  },
  {
   "cell_type": "code",
   "execution_count": 159,
   "metadata": {},
   "outputs": [],
   "source": [
    "enade_merge['idade_comeco_graduacao'] = enade_merge['idade'] - (enade_merge['ano'] - enade_merge['inicio_graduacao'])"
   ]
  },
  {
   "cell_type": "code",
   "execution_count": 160,
   "metadata": {},
   "outputs": [],
   "source": [
    "enade_merge['tempo_ocioso'] =  enade_merge['inicio_graduacao'] - enade_merge['formatura_ensino_medio']"
   ]
  },
  {
   "cell_type": "code",
   "execution_count": 161,
   "metadata": {},
   "outputs": [],
   "source": [
    "enade_merge['tempo_cursado'] = enade_merge['ano'] - enade_merge['inicio_graduacao']"
   ]
  },
  {
   "cell_type": "code",
   "execution_count": 162,
   "metadata": {},
   "outputs": [],
   "source": [
    "# diretorio = '/cotas'\n",
    "diretorio = '/'\n",
    "enade_merge.to_csv('.{}/{}.csv'.format(diretorio,'enade_merge_08-11-14-17'),index=False,float_format='%.2f')"
   ]
  }
 ],
 "metadata": {
  "interpreter": {
   "hash": "916dbcbb3f70747c44a77c7bcd40155683ae19c65e1c03b4aa3499c5328201f1"
  },
  "kernelspec": {
   "display_name": "Python 3.8.10 64-bit",
   "name": "python3"
  },
  "language_info": {
   "codemirror_mode": {
    "name": "ipython",
    "version": 3
   },
   "file_extension": ".py",
   "mimetype": "text/x-python",
   "name": "python",
   "nbconvert_exporter": "python",
   "pygments_lexer": "ipython3",
   "version": "3.9.7"
  },
  "metadata": {
   "interpreter": {
    "hash": "916dbcbb3f70747c44a77c7bcd40155683ae19c65e1c03b4aa3499c5328201f1"
   }
  },
  "orig_nbformat": 2
 },
 "nbformat": 4,
 "nbformat_minor": 2
}
